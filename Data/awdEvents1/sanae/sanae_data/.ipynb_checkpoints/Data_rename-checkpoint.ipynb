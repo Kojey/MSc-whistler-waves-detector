{
 "cells": [
  {
   "cell_type": "code",
   "execution_count": 1,
   "metadata": {},
   "outputs": [],
   "source": [
    "import os\n",
    "import shutil"
   ]
  },
  {
   "cell_type": "code",
   "execution_count": 2,
   "metadata": {},
   "outputs": [
    {
     "name": "stdout",
     "output_type": "stream",
     "text": [
      "2012-02-02UT20:34:45.29103133.sanae.vr2\n",
      "2012-02-01UT02:43:21.95023133.sanae.vr2\n",
      "2012-02-02UT20:56:43.58863133.sanae.vr2\n",
      "2012-02-02UT03:02:42.96143125.sanae.vr2\n",
      "2012-02-02UT20:50:07.50543133.sanae.vr2\n",
      "2012-02-02UT19:57:31.84463133.sanae.vr2\n",
      "2012-02-02UT19:57:31.84463133.sanae.vr2\n",
      "2012-02-02UT20:58:32.84943133.sanae.vr2\n",
      "2012-02-02UT20:04:16.93903133.sanae.vr2\n",
      "2012-02-02UT20:04:16.93903133.sanae.vr2\n",
      "2012-02-02UT20:41:22.70543133.sanae.vr2\n",
      "2012-02-02UT21:00:32.45263133.sanae.vr2\n",
      "2012-02-02UT02:58:04.53583125.sanae.vr2\n",
      "2012-02-01UT02:37:22.52623133.sanae.vr2\n",
      "2012-02-02UT20:14:00.72143133.sanae.vr2\n"
     ]
    }
   ],
   "source": [
    "files = os.listdir()\n",
    "for file in files:\n",
    "    if os.path.splitext(file)[1] =='.vr2':\n",
    "        new_file = ':'.join(file.split('_'))\n",
    "        shutil.move(file, new_file)\n",
    "    print(new_file)"
   ]
  },
  {
   "cell_type": "code",
   "execution_count": null,
   "metadata": {},
   "outputs": [],
   "source": []
  }
 ],
 "metadata": {
  "kernelspec": {
   "display_name": "Python 3",
   "language": "python",
   "name": "python3"
  },
  "language_info": {
   "codemirror_mode": {
    "name": "ipython",
    "version": 3
   },
   "file_extension": ".py",
   "mimetype": "text/x-python",
   "name": "python",
   "nbconvert_exporter": "python",
   "pygments_lexer": "ipython3",
   "version": "3.6.8"
  }
 },
 "nbformat": 4,
 "nbformat_minor": 2
}

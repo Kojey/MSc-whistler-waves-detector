{
 "cells": [
  {
   "cell_type": "markdown",
   "metadata": {},
   "source": [
    "# WDDL "
   ]
  },
  {
   "cell_type": "code",
   "execution_count": 1,
   "metadata": {},
   "outputs": [],
   "source": [
    "import os\n",
    "import numpy as np\n",
    "import pandas as pd\n",
    "import datetime\n",
    "import argparse\n",
    "import matplotlib.pyplot as plt\n",
    "from scipy import signal as signal"
   ]
  },
  {
   "cell_type": "code",
   "execution_count": 2,
   "metadata": {},
   "outputs": [],
   "source": [
    "def frread(fname=None):\n",
    "    \"\"\"\n",
    "    This is a rough translation of frread.m from J. Lichtenberger for the\n",
    "    STEREO=TRUE case, i.e. we assume orthogonal loop antenna.\n",
    "\n",
    "    INPUTS\n",
    "        fname (string)\tFile name path to the .vr2 file to load\n",
    "\n",
    "    OUTPUTS\n",
    "        wh (ndarray)\t2xN array with the two traces in the first and second rows.\n",
    "    \"\"\"\n",
    "\n",
    "    # open file for reading\n",
    "    fid = open(fname, 'rb')\n",
    "\n",
    "    # get data from file - 16-bit signed integers\n",
    "    dat = np.fromfile(fid, dtype=np.int16)\n",
    "\n",
    "    # length of one frame\n",
    "    frLen = 4103  ## not sure how this is determined\n",
    "\n",
    "    # number of frames to read\n",
    "    nFrameRead = len(dat) / frLen\n",
    "\n",
    "    # data length of frame\n",
    "    adatlen = 2048\n",
    "\n",
    "    # length of data set\n",
    "    N = int(nFrameRead * adatlen)\n",
    "    wh = np.zeros((N, 2), dtype=float)\n",
    "\n",
    "    # for every frame\n",
    "    for i in np.arange(0, nFrameRead, dtype=int):\n",
    "        # indices for first component\n",
    "        i1 = np.arange(7 + i * frLen, (i + 1) * frLen, 2, dtype=int)\n",
    "        # indices for second component\n",
    "        i2 = np.arange(8 + i * frLen, (i + 1) * frLen + 0, 2, dtype=int)\n",
    "        ii = np.arange(i * adatlen, (i + 1) * adatlen, dtype=int)\n",
    "        wh[ii, 0] = dat[i1]\n",
    "        wh[ii, 1] = dat[i2]\n",
    "\n",
    "    print(len(np.arange(0, nFrameRead, dtype=int)))\n",
    "    return wh"
   ]
  },
  {
   "cell_type": "code",
   "execution_count": 3,
   "metadata": {},
   "outputs": [],
   "source": [
    "def extract_data(data_dir, data_site,fname):\n",
    "    # read vr2 file\n",
    "    wh = frread(os.path.join(data_dir,data_site,fname)) # fix this join\n",
    "    \n",
    "    # CONSTANTS\n",
    "    # Sampling frequency (20kHz for SANAE, 40kHz for MARION )\n",
    "    fs = 2e4 if data_site==\"sanae\" else 4e4\n",
    "    # time step in microseconds (for dataframe index)\n",
    "    dt = 1e6 / fs\n",
    "\n",
    "    # Set the date/time format in the filename\n",
    "    # dtFormat = '%Y-%m-%dUT%H_%M_%S.%f'\n",
    "    dtFormat = '%Y-%m-%dUT%H_%M_%S.%f'\n",
    "\n",
    "    # Set up pandas dataframe\n",
    "    # Start time\n",
    "    t0 = pd.datetime.strptime(fname[0:27], dtFormat)\n",
    "    # Number of samples\n",
    "    Nsamples = len(wh[:, 0])\n",
    "    # End time\n",
    "    t1 = t0 + datetime.timedelta(0, 0, Nsamples * dt)\n",
    "    # Create index\n",
    "    tindex = pd.date_range(start=t0, periods=Nsamples, freq='50U') # freq = 50us\n",
    "\n",
    "    # Create pandas data frame from wh\n",
    "    whdf = pd.DataFrame(index=tindex, data=wh[:, 0], columns=['X'])\n",
    "    whdf['Y'] = wh[:, 1]\n",
    "    # The 'X' and 'Y' columns are the signal received by the North/South and\n",
    "    # East/West pointing orthogonal loop antennas used at Marion and SANAE\n",
    "    \n",
    "    t0str = pd.datetime.strftime(t0, '%Y-%m-%d %H:%M:%S.%f')\n",
    "    t1str = pd.datetime.strftime(t1, '%Y-%m-%d %H:%M:%S.%f')\n",
    "    \n",
    "    return whdf, fs, t0str, t1str"
   ]
  },
  {
   "cell_type": "code",
   "execution_count": 4,
   "metadata": {},
   "outputs": [],
   "source": [
    "def spectrogram(data,sample, t0, t1):\n",
    "#     # Make a nice string\n",
    "    print('%s -- %s' % (t0str, t1str))\n",
    "\n",
    "    fig = plt.figure()\n",
    "    ax1 = plt.gca()\n",
    "    s, f, t, img = ax1.specgram(data.X.values, Fs=sample, detrend='linear', NFFT=512 , noverlap=64, scale='dB',\n",
    "                                scale_by_freq=False, cmap='jet')\n",
    "    fig.colorbar(mappable=img, label='Power [dB]')\n",
    "    fig.savefig(os.path.join(os.getcwd(), 'image.jpeg'))\n",
    "    plt.show()\n",
    "    \n",
    "    return s,f,t,img"
   ]
  },
  {
   "cell_type": "code",
   "execution_count": 9,
   "metadata": {},
   "outputs": [
    {
     "name": "stdout",
     "output_type": "stream",
     "text": [
      "['2013-01-03UT00:21:40.65827602.marion.vr2', '2013-01-05UT20:29:42.19427602.marion.vr2', '2013-01-05UT20:57:25.73347602.marion.vr2', '2013-01-03UT04:52:57.18947602.marion.vr2', '2013-01-02UT20:28:41.36867602.marion.vr2', '2013-01-05UT20:16:13.33667594.marion.vr2', '.ipynb_checkpoints', 'Data_rename.ipynb', '2013-01-02UT23:26:15.01347602.marion.vr2', '2013-01-05UT19:20:27.92867594.marion.vr2', '2013-01-05UT19:55:16.27427594.marion.vr2', '2013-01-05UT19:20:28.03107594.marion.vr2', '2013-12-25UT00:04:36.38579414.marion.vr2', '2013-01-05UT19:13:34.64227602.marion.vr2']\n"
     ]
    },
    {
     "ename": "FileNotFoundError",
     "evalue": "[Errno 2] No such file or directory: './awdEvents0/marion/marion_data/2013-01-19UT04:50:31.88387602.marion.vr2'",
     "output_type": "error",
     "traceback": [
      "\u001b[0;31m---------------------------------------------------------------------------\u001b[0m",
      "\u001b[0;31mFileNotFoundError\u001b[0m                         Traceback (most recent call last)",
      "\u001b[0;32m<ipython-input-9-d9fff3e66b68>\u001b[0m in \u001b[0;36m<module>\u001b[0;34m\u001b[0m\n\u001b[1;32m      8\u001b[0m \u001b[0mdata_capture\u001b[0m \u001b[0;34m=\u001b[0m \u001b[0mos\u001b[0m\u001b[0;34m.\u001b[0m\u001b[0mlistdir\u001b[0m\u001b[0;34m(\u001b[0m\u001b[0mos\u001b[0m\u001b[0;34m.\u001b[0m\u001b[0mpath\u001b[0m\u001b[0;34m.\u001b[0m\u001b[0mjoin\u001b[0m\u001b[0;34m(\u001b[0m\u001b[0mdata_root\u001b[0m\u001b[0;34m,\u001b[0m\u001b[0;34m'awdEvents'\u001b[0m\u001b[0;34m+\u001b[0m\u001b[0mstr\u001b[0m\u001b[0;34m(\u001b[0m\u001b[0mawd_event\u001b[0m\u001b[0;34m)\u001b[0m\u001b[0;34m,\u001b[0m\u001b[0msite\u001b[0m\u001b[0;34m,\u001b[0m\u001b[0msite\u001b[0m\u001b[0;34m+\u001b[0m\u001b[0;34m'_data'\u001b[0m\u001b[0;34m)\u001b[0m\u001b[0;34m)\u001b[0m\u001b[0;34m\u001b[0m\u001b[0m\n\u001b[1;32m      9\u001b[0m \u001b[0mprint\u001b[0m\u001b[0;34m(\u001b[0m\u001b[0mdata_capture\u001b[0m\u001b[0;34m)\u001b[0m\u001b[0;34m\u001b[0m\u001b[0m\n\u001b[0;32m---> 10\u001b[0;31m \u001b[0mdata\u001b[0m\u001b[0;34m,\u001b[0m \u001b[0msample\u001b[0m\u001b[0;34m,\u001b[0m \u001b[0mt0\u001b[0m\u001b[0;34m,\u001b[0m \u001b[0mt1\u001b[0m \u001b[0;34m=\u001b[0m \u001b[0mextract_data\u001b[0m\u001b[0;34m(\u001b[0m\u001b[0mdata_location\u001b[0m\u001b[0;34m,\u001b[0m \u001b[0msite\u001b[0m\u001b[0;34m+\u001b[0m\u001b[0;34m'_data'\u001b[0m\u001b[0;34m,\u001b[0m \u001b[0;34m'2013-01-19UT04:50:31.88387602.marion.vr2'\u001b[0m\u001b[0;34m)\u001b[0m\u001b[0;34m\u001b[0m\u001b[0m\n\u001b[0m\u001b[1;32m     11\u001b[0m \u001b[0mspectrum\u001b[0m\u001b[0;34m,\u001b[0m\u001b[0mfrequencies\u001b[0m\u001b[0;34m,\u001b[0m\u001b[0mtimes\u001b[0m\u001b[0;34m,\u001b[0m \u001b[0mimage\u001b[0m \u001b[0;34m=\u001b[0m \u001b[0mspectrogram\u001b[0m\u001b[0;34m(\u001b[0m\u001b[0mdata\u001b[0m\u001b[0;34m,\u001b[0m \u001b[0msample\u001b[0m\u001b[0;34m,\u001b[0m \u001b[0mt0\u001b[0m\u001b[0;34m,\u001b[0m \u001b[0mt1\u001b[0m\u001b[0;34m)\u001b[0m\u001b[0;34m\u001b[0m\u001b[0m\n",
      "\u001b[0;32m<ipython-input-3-535c9e0de88d>\u001b[0m in \u001b[0;36mextract_data\u001b[0;34m(data_dir, data_site, fname)\u001b[0m\n\u001b[1;32m      1\u001b[0m \u001b[0;32mdef\u001b[0m \u001b[0mextract_data\u001b[0m\u001b[0;34m(\u001b[0m\u001b[0mdata_dir\u001b[0m\u001b[0;34m,\u001b[0m \u001b[0mdata_site\u001b[0m\u001b[0;34m,\u001b[0m\u001b[0mfname\u001b[0m\u001b[0;34m)\u001b[0m\u001b[0;34m:\u001b[0m\u001b[0;34m\u001b[0m\u001b[0m\n\u001b[1;32m      2\u001b[0m     \u001b[0;31m# read vr2 file\u001b[0m\u001b[0;34m\u001b[0m\u001b[0;34m\u001b[0m\u001b[0m\n\u001b[0;32m----> 3\u001b[0;31m     \u001b[0mwh\u001b[0m \u001b[0;34m=\u001b[0m \u001b[0mfrread\u001b[0m\u001b[0;34m(\u001b[0m\u001b[0mos\u001b[0m\u001b[0;34m.\u001b[0m\u001b[0mpath\u001b[0m\u001b[0;34m.\u001b[0m\u001b[0mjoin\u001b[0m\u001b[0;34m(\u001b[0m\u001b[0mdata_dir\u001b[0m\u001b[0;34m,\u001b[0m\u001b[0mdata_site\u001b[0m\u001b[0;34m,\u001b[0m\u001b[0mfname\u001b[0m\u001b[0;34m)\u001b[0m\u001b[0;34m)\u001b[0m \u001b[0;31m# fix this join\u001b[0m\u001b[0;34m\u001b[0m\u001b[0m\n\u001b[0m\u001b[1;32m      4\u001b[0m \u001b[0;34m\u001b[0m\u001b[0m\n\u001b[1;32m      5\u001b[0m     \u001b[0;31m# CONSTANTS\u001b[0m\u001b[0;34m\u001b[0m\u001b[0;34m\u001b[0m\u001b[0m\n",
      "\u001b[0;32m<ipython-input-2-bd1ca2bd1cd3>\u001b[0m in \u001b[0;36mfrread\u001b[0;34m(fname)\u001b[0m\n\u001b[1;32m     12\u001b[0m \u001b[0;34m\u001b[0m\u001b[0m\n\u001b[1;32m     13\u001b[0m     \u001b[0;31m# open file for reading\u001b[0m\u001b[0;34m\u001b[0m\u001b[0;34m\u001b[0m\u001b[0m\n\u001b[0;32m---> 14\u001b[0;31m     \u001b[0mfid\u001b[0m \u001b[0;34m=\u001b[0m \u001b[0mopen\u001b[0m\u001b[0;34m(\u001b[0m\u001b[0mfname\u001b[0m\u001b[0;34m,\u001b[0m \u001b[0;34m'rb'\u001b[0m\u001b[0;34m)\u001b[0m\u001b[0;34m\u001b[0m\u001b[0m\n\u001b[0m\u001b[1;32m     15\u001b[0m \u001b[0;34m\u001b[0m\u001b[0m\n\u001b[1;32m     16\u001b[0m     \u001b[0;31m# get data from file - 16-bit signed integers\u001b[0m\u001b[0;34m\u001b[0m\u001b[0;34m\u001b[0m\u001b[0m\n",
      "\u001b[0;31mFileNotFoundError\u001b[0m: [Errno 2] No such file or directory: './awdEvents0/marion/marion_data/2013-01-19UT04:50:31.88387602.marion.vr2'"
     ]
    }
   ],
   "source": [
    "# Data parameters\n",
    "data_root = '.'\n",
    "awd_event = 0\n",
    "site = 'marion'\n",
    "\n",
    "# load all data file\n",
    "data_location = os.path.join(data_root,'awdEvents'+str(awd_event),site)\n",
    "data_capture = os.listdir(os.path.join(data_root,'awdEvents'+str(awd_event),site,site+'_data'))\n",
    "print(data_capture)\n",
    "data, sample, t0, t1 = extract_data(data_location, site+'_data', '2013-01-19UT04:50:31.88387602.marion.vr2')\n",
    "spectrum,frequencies,times, image = spectrogram(data, sample, t0, t1)"
   ]
  },
  {
   "cell_type": "code",
   "execution_count": null,
   "metadata": {},
   "outputs": [],
   "source": []
  }
 ],
 "metadata": {
  "kernelspec": {
   "display_name": "Python 3",
   "language": "python",
   "name": "python3"
  },
  "language_info": {
   "codemirror_mode": {
    "name": "ipython",
    "version": 3
   },
   "file_extension": ".py",
   "mimetype": "text/x-python",
   "name": "python",
   "nbconvert_exporter": "python",
   "pygments_lexer": "ipython3",
   "version": "3.6.6"
  }
 },
 "nbformat": 4,
 "nbformat_minor": 2
}

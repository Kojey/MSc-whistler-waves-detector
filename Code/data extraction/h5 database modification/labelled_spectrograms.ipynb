{
 "cells": [
  {
   "cell_type": "markdown",
   "metadata": {},
   "source": [
    "# Generate Labelled spectrograms\n",
    "* attribute: output list\n",
    "* data: spectrogram\n",
    "\n",
    "**DISCARDING AWDEVENT0 SINCE THE NUMBER OF FILE DATA AND OUTPUT DO NOT MATCH**"
   ]
  },
  {
   "cell_type": "code",
   "execution_count": 1,
   "metadata": {},
   "outputs": [],
   "source": [
    "import os\n",
    "import sys\n",
    "import h5py\n",
    "import numpy as np"
   ]
  },
  {
   "cell_type": "code",
   "execution_count": 2,
   "metadata": {},
   "outputs": [],
   "source": [
    "# database full path\n",
    "database_name = 'whistlers.h5'\n",
    "database_location = os.path.join(os.getcwd().split(os.environ.get('USER'))[0],os.environ.get('USER'), 'wdml', 'Data')\n",
    "database_path = os.path.join(database_location,database_name)\n",
    "\n",
    "# data variables\n",
    "awd_events = 2\n",
    "sites = ['marion', 'sanae']"
   ]
  },
  {
   "cell_type": "code",
   "execution_count": 3,
   "metadata": {},
   "outputs": [
    {
     "name": "stdout",
     "output_type": "stream",
     "text": [
      "\n",
      "Generating labelled spectrogram for awdEvent1/marion\n",
      "\n",
      "Generating labelled spectrogram for awdEvent1/sanae\n"
     ]
    }
   ],
   "source": [
    "for awd_event in range(1,awd_events):\n",
    "    for site in sites:\n",
    "        f = h5py.File(database_path, 'r+')\n",
    "        # load groups\n",
    "        grp_out = f[os.path.join('awdEvents'+str(awd_event),site,'outputs')]\n",
    "        grp_spec = f[os.path.join('awdEvents'+str(awd_event),site,'spectrograms')]\n",
    "        grp_lab_spec = f[os.path.join('awdEvents'+str(awd_event),site,'labelled spectrograms')]\n",
    "        # get list of file with events\n",
    "        file_list = list(grp_out.keys())        \n",
    "        print('\\nGenerating labelled spectrogram for %s/%s' %('awdEvent'+str(awd_event),site))\n",
    "        for file in file_list: # every file with detected event (file in output)\n",
    "            try:\n",
    "                data_spec = np.empty(grp_spec[file].shape) # create numpy array to store spec data\n",
    "                data_out = np.empty(grp_out[file].shape)\n",
    "                grp_spec[file].read_direct(data_spec) # read data from database\n",
    "                grp_out[file].read_direct(data_out)\n",
    "                file_dataset = grp_lab_spec.create_dataset(file,data_spec.shape,np.float32, compression=\"gzip\", data=data_spec)\n",
    "                file_dataset.attrs['outputs'] = data_out\n",
    "                file_dataset.attrs['events'] = len(data_out[:,0])\n",
    "            except Exception as e:\n",
    "                print(e)\n",
    "        f.close()"
   ]
  },
  {
   "cell_type": "code",
   "execution_count": null,
   "metadata": {},
   "outputs": [],
   "source": []
  }
 ],
 "metadata": {
  "kernelspec": {
   "display_name": "Python 3",
   "language": "python",
   "name": "python3"
  },
  "language_info": {
   "codemirror_mode": {
    "name": "ipython",
    "version": 3
   },
   "file_extension": ".py",
   "mimetype": "text/x-python",
   "name": "python",
   "nbconvert_exporter": "python",
   "pygments_lexer": "ipython3",
   "version": "3.6.6"
  }
 },
 "nbformat": 4,
 "nbformat_minor": 2
}

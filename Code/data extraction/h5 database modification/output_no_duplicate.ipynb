{
 "cells": [
  {
   "cell_type": "code",
   "execution_count": 1,
   "metadata": {},
   "outputs": [],
   "source": [
    "import os\n",
    "import sys\n",
    "import h5py\n",
    "import numpy as np\n",
    "import pandas as pd"
   ]
  },
  {
   "cell_type": "code",
   "execution_count": 2,
   "metadata": {},
   "outputs": [],
   "source": [
    "# database full path\n",
    "database_name = 'whistlers.h5'\n",
    "database_location = os.path.join(os.getcwd().split(os.environ.get('USER'))[0],os.environ.get('USER'), 'Data')\n",
    "database_path = os.path.join(database_location,database_name)\n",
    "\n",
    "# data variables\n",
    "awd_events = 2\n",
    "sites = ['marion', 'sanae']"
   ]
  },
  {
   "cell_type": "code",
   "execution_count": 11,
   "metadata": {},
   "outputs": [
    {
     "name": "stdout",
     "output_type": "stream",
     "text": [
      "marion_2013.out\n",
      "sanae_2012.out\n",
      "marion_2013_e1.out\n",
      "sanae_2012_e1.out\n"
     ]
    }
   ],
   "source": [
    "for awd_event in range(awd_events):\n",
    "    for site in sites:\n",
    "        output_path = os.path.join(database_location, 'awdEvents'+str(awd_event), site)\n",
    "        output_file = None\n",
    "        for file in os.listdir(output_path):\n",
    "            if file.endswith('.out') and not file.endswith('_no_duplicate.out'):\n",
    "                output_file = file\n",
    "                break\n",
    "        print(output_file)"
   ]
  },
  {
   "cell_type": "code",
   "execution_count": 19,
   "metadata": {},
   "outputs": [
    {
     "name": "stdout",
     "output_type": "stream",
     "text": [
      "Extracting output from awdEvent0/marion/marion_2013.out\n",
      "Writing non duplicate output to awdEvent0/marion/marion_2013_no_duplicate.out\n",
      "Extracting output from awdEvent0/sanae/sanae_2012.out\n",
      "Writing non duplicate output to awdEvent0/sanae/sanae_2012_no_duplicate.out\n",
      "Extracting output from awdEvent1/marion/marion_2013_e1.out\n",
      "Writing non duplicate output to awdEvent1/marion/marion_2013_e1_no_duplicate.out\n",
      "Extracting output from awdEvent1/sanae/sanae_2012_e1.out\n",
      "Writing non duplicate output to awdEvent1/sanae/sanae_2012_e1_no_duplicate.out\n"
     ]
    }
   ],
   "source": [
    "for awd_event in range(awd_events):\n",
    "    for site in sites:\n",
    "#         if site == sites[0]:\n",
    "#             continue\n",
    "        output_path = os.path.join(database_location, 'awdEvents'+str(awd_event), site)\n",
    "        output_file = None\n",
    "        for file in os.listdir(output_path):\n",
    "            if file.endswith('.out') and not file.endswith('_no_duplicate.out'):\n",
    "                output_file = file\n",
    "                break\n",
    "        try:\n",
    "            os.path.exists(output_file)\n",
    "            with open(os.path.join(output_path, output_file), 'r') as f:\n",
    "                print('Extracting output from awdEvent%s/%s/%s' %(awd_event, site, output_file))\n",
    "                lines = f.readlines()\n",
    "                file_list = []\n",
    "                output_dict = {}\n",
    "                for line in lines:\n",
    "                    line = line.split('\\n')\n",
    "                    line = line[0].split(' ')\n",
    "                    line = list(filter(None, line))\n",
    "                    if site==sites[1]: # if sinte is sanea, eformat file name\n",
    "                        line[1] = ':'.join(line[1].split('_'))\n",
    "                    file_name = line[1]\n",
    "                    if file_name not in file_list:\n",
    "                        file_list.append(file_name)\n",
    "                        output_dict[file_name] = line # save line information \n",
    "                    else:\n",
    "                        _line = output_dict[file_name]\n",
    "                        line += _line[2:]\n",
    "                        line[0] = str(int(line[0])+len(_line[2:])) # update number of event\n",
    "                        output_dict[file_name] = line\n",
    "        except Exception as e:\n",
    "                print('Error:', e)\n",
    "#         if site == sites[1]:\n",
    "#             print(len(lines), len(output_dict.keys()), output_dict.keys())\n",
    "        # save new ouput file\n",
    "        output_file = output_file.split('.')[0]+'_no_duplicate.out'\n",
    "        with open(os.path.join(output_path, output_file), 'w') as f:\n",
    "            print('Writing non duplicate output to awdEvent%s/%s/%s' %(awd_event, site, output_file))\n",
    "            file_content = []\n",
    "            for file in list(output_dict.keys()):\n",
    "                line = ' '.join(output_dict[file])\n",
    "                file_content.append(line)\n",
    "            file_content = '\\n'.join(file_content)\n",
    "            f.write(file_content)\n"
   ]
  },
  {
   "cell_type": "code",
   "execution_count": null,
   "metadata": {},
   "outputs": [],
   "source": []
  }
 ],
 "metadata": {
  "kernelspec": {
   "display_name": "Python 3",
   "language": "python",
   "name": "python3"
  },
  "language_info": {
   "codemirror_mode": {
    "name": "ipython",
    "version": 3
   },
   "file_extension": ".py",
   "mimetype": "text/x-python",
   "name": "python",
   "nbconvert_exporter": "python",
   "pygments_lexer": "ipython3",
   "version": "3.6.6"
  }
 },
 "nbformat": 4,
 "nbformat_minor": 2
}

{
 "cells": [
  {
   "cell_type": "markdown",
   "metadata": {},
   "source": [
    "# Whistler trace extraction\n",
    "Extract the whistler traces from the .vr2 files and store it in the hdf5 database"
   ]
  },
  {
   "cell_type": "code",
   "execution_count": 1,
   "metadata": {},
   "outputs": [],
   "source": [
    "import os\n",
    "import sys\n",
    "import h5py\n",
    "import numpy as np\n",
    "import pandas as pd\n",
    "import datetime"
   ]
  },
  {
   "cell_type": "code",
   "execution_count": 2,
   "metadata": {},
   "outputs": [],
   "source": [
    "# database full path\n",
    "database_name = 'whistlers.h5'\n",
    "database_location = os.path.join(os.getcwd().split(os.environ.get('USER'))[0],os.environ.get('USER'), 'Data')\n",
    "database_path = os.path.join(database_location,database_name)\n",
    "\n",
    "# data variables\n",
    "awd_events = 2\n",
    "sites = ['marion', 'sanae']"
   ]
  },
  {
   "cell_type": "code",
   "execution_count": 3,
   "metadata": {},
   "outputs": [],
   "source": [
    "def frread(fname=None):\n",
    "    \"\"\" This is a rough translation of frread.m from J. Lichtenberger for the\n",
    "    stereo=True case, i.e. we assume orthogonal loop antenna.\n",
    "    inputs\n",
    "        fname (string): File name path to the .vr2 file to load\n",
    "    outputs\n",
    "        wh (ndarray): 2xN array with the two traces in the first and second rows.\n",
    "    \"\"\"\n",
    "    # open file for reading\n",
    "    fid = open(fname, 'rb')\n",
    "    # get data from file - 16-bit signed integers\n",
    "    dat = np.fromfile(fid, dtype=np.int16)\n",
    "    # length of one frame\n",
    "    frLen = 4103  ## not sure how this is determined\n",
    "    # number of frames to read\n",
    "    nFrameRead = len(dat) / frLen\n",
    "    # data length of frame\n",
    "    adatlen = 2048\n",
    "    # length of data set\n",
    "    N = int(nFrameRead * adatlen)\n",
    "    wh = np.zeros((N, 2), dtype=float)\n",
    "    # for every frame\n",
    "    for i in np.arange(0, nFrameRead, dtype=int):\n",
    "        # indices for first component\n",
    "        i1 = np.arange(7 + i * frLen, (i + 1) * frLen, 2, dtype=int)\n",
    "        # indices for second component\n",
    "        i2 = np.arange(8 + i * frLen, (i + 1) * frLen + 0, 2, dtype=int)\n",
    "        ii = np.arange(i * adatlen, (i + 1) * adatlen, dtype=int)\n",
    "        wh[ii, 0] = dat[i1]\n",
    "        wh[ii, 1] = dat[i2]\n",
    "#     print(len(np.arange(0, nFrameRead, dtype=int)))\n",
    "    return wh"
   ]
  },
  {
   "cell_type": "code",
   "execution_count": 4,
   "metadata": {},
   "outputs": [],
   "source": [
    "def vr2_to_panda(dir_name,fname, site):\n",
    "    \"\"\"Extract the data from a file a store it as a Panda DataFrame\n",
    "    inputs\n",
    "        fname    file name\n",
    "        site     name of the site where data was collected\n",
    "    outputs \n",
    "        whdf     dataframe containing the signal received by the NS and EW pointitng\n",
    "                    orthogonal loop antennas\n",
    "        fs       sampling frequency\n",
    "        t0       start time\n",
    "        t1       end time\n",
    "    \"\"\"\n",
    "    # read vr2 file\n",
    "    wh = frread(os.path.join(dir_name,fname))\n",
    "    \n",
    "    # CONSTANTS\n",
    "    # Sampling frequency (20kHz for SANAE, 40kHz for MARION )\n",
    "    fs = 2e4 if site==\"sanae\" else 4e4\n",
    "    # time step in microseconds (for dataframe index)\n",
    "    dt = 1e6 / fs\n",
    "\n",
    "    # Set the date/time format in the filename\n",
    "    # dtFormat = '%Y-%m-%dUT%H_%M_%S.%f'\n",
    "    dtFormat = '%Y-%m-%dUT%H:%M:%S.%f'\n",
    "\n",
    "    # Set up pandas dataframe\n",
    "    # Start time\n",
    "    t0 = pd.datetime.strptime(fname[0:27], dtFormat)\n",
    "    # Number of samples\n",
    "    Nsamples = len(wh[:, 0])\n",
    "    # End time\n",
    "    t1 = t0 + datetime.timedelta(0, 0, Nsamples * dt)\n",
    "    # Create index\n",
    "    tindex = pd.date_range(start=t0, periods=Nsamples, freq='50U') # freq = 50us\n",
    "\n",
    "    # Create pandas data frame from wh\n",
    "    whdf = pd.DataFrame(index=tindex, data=wh[:, 0], columns=['X'])\n",
    "    whdf['Y'] = wh[:, 1]\n",
    "    # The 'X' and 'Y' columns are the signal received by the North/South and\n",
    "    # East/West pointing orthogonal loop antennas used at Marion and SANAE\n",
    "    \n",
    "    return whdf, fs"
   ]
  },
  {
   "cell_type": "code",
   "execution_count": 5,
   "metadata": {},
   "outputs": [
    {
     "name": "stdout",
     "output_type": "stream",
     "text": [
      "\n",
      "Generating whistler traces for awdEvent1/marion\n",
      "0%.........10%.........20%.........30%.........40%.........50%.........60%.........70%.........80%.........90%.........\n",
      "Generating whistler traces for awdEvent1/sanae\n",
      "0%.........10%.........20%.........30%.........40%.........50%.........60%.........70%.........80%.........90%........."
     ]
    }
   ],
   "source": [
    "for awd_event in range(1,awd_events):\n",
    "    for site in sites:\n",
    "        f = h5py.File(database_path, 'r+')\n",
    "        data_location = os.path.join(database_location, 'awdEvents'+str(awd_event), site, site+'_data')\n",
    "        if os.path.exists(data_location):\n",
    "            files = [ file for file in os.listdir(data_location) if file.endswith('.vr2')] # only select .vr2 file\n",
    "            print('\\nGenerating whistler traces for %s/%s' %('awdEvent'+str(awd_event),site))\n",
    "            last_percent = None\n",
    "            num_file = 0\n",
    "            for file in files:\n",
    "                whdf, fs =  vr2_to_panda(data_location, file, site)\n",
    "                whistler_grp = f[os.path.join('awdEvents'+str(awd_event),site,'whistler traces')]\n",
    "                file_dataset = whistler_grp.create_dataset(file,whdf.shape,np.float32, compression=\"gzip\", data=whdf)\n",
    "                file_dataset.attrs['sample frequency'] = fs\n",
    "                percent = int(num_file*100/len(files))\n",
    "                if last_percent != percent:\n",
    "                    if percent%10==0:\n",
    "                        sys.stdout.write(\"%s%%\" % percent)\n",
    "                        sys.stdout.flush()\n",
    "                    else:\n",
    "                        sys.stdout.write(\".\")\n",
    "                        sys.stdout.flush()\n",
    "                    last_percent = percent\n",
    "                num_file+=1\n",
    "        f.close()"
   ]
  },
  {
   "cell_type": "code",
   "execution_count": 9,
   "metadata": {},
   "outputs": [
    {
     "name": "stdout",
     "output_type": "stream",
     "text": [
      "<KeysViewHDF5 ['2012-02-29UT20:27:45.81215195.sanae.vr2', '2012-03-03UT04:49:14.82335188.sanae.vr2', '2012-03-15UT05:14:54.89958109.sanae.vr2', '2012-03-15UT05:25:45.44678109.sanae.vr2', '2012-03-16UT05:04:06.29798109.sanae.vr2', '2012-03-16UT07:55:28.28198109.sanae.vr2', '2012-03-16UT08:14:48.98598109.sanae.vr2', '2012-03-22UT16:17:18.79718109.sanae.vr2', '2012-03-23UT21:25:51.38598109.sanae.vr2', '2012-03-23UT23:56:19.99398109.sanae.vr2', '2012-03-28UT05:09:21.28038109.sanae.vr2', '2012-03-31UT05:46:52.33958117.sanae.vr2', '2012-04-11UT08:15:57.69638109.sanae.vr2', '2012-04-23UT04:09:57.96518125.sanae.vr2', '2012-04-27UT02:35:32.78758109.sanae.vr2', '2012-04-27UT02:36:15.18118109.sanae.vr2', '2012-04-29UT05:11:40.64678117.sanae.vr2', '2012-05-06UT02:32:15.15558133.sanae.vr2', '2012-05-06UT03:08:19.78918125.sanae.vr2', '2012-05-06UT04:25:08.60838125.sanae.vr2', '2012-05-06UT04:25:08.81318125.sanae.vr2', '2012-05-06UT07:39:17.12038133.sanae.vr2', '2012-05-06UT07:39:24.69798125.sanae.vr2', '2012-05-07UT03:49:13.60038125.sanae.vr2', '2012-05-07UT18:33:20.58918125.sanae.vr2', '2012-05-07UT18:35:59.71878125.sanae.vr2', '2012-05-08UT02:26:11.73798125.sanae.vr2', '2012-05-08UT02:56:19.60998133.sanae.vr2', '2012-05-08UT05:01:51.94918133.sanae.vr2', '2012-05-08UT05:55:44.92198125.sanae.vr2', '2012-05-08UT06:13:18.72038133.sanae.vr2', '2012-05-08UT06:39:05.77958133.sanae.vr2', '2012-05-09UT06:01:07.17478133.sanae.vr2', '2012-05-09UT07:11:18.16998133.sanae.vr2', '2012-05-09UT07:49:08.58278133.sanae.vr2', '2012-06-02UT04:44:03.09798125.sanae.vr2', '2012-06-02UT06:04:23.57798125.sanae.vr2', '2012-06-02UT06:44:22.91238125.sanae.vr2', '2012-06-02UT06:55:00.55718125.sanae.vr2', '2012-06-06UT03:57:49.18438125.sanae.vr2', '2012-06-08UT05:20:31.07878125.sanae.vr2', '2012-06-09UT11:17:30.18918125.sanae.vr2', '2012-06-09UT11:17:31.31558125.sanae.vr2', '2012-06-09UT11:18:53.95238125.sanae.vr2', '2012-06-10UT00:43:43.94918125.sanae.vr2', '2012-06-12UT19:32:56.80678125.sanae.vr2', '2012-06-24UT08:59:20.19238117.sanae.vr2', '2012-06-24UT09:07:50.86118117.sanae.vr2', '2012-06-24UT09:24:31.20678117.sanae.vr2', '2012-06-24UT09:48:08.01318117.sanae.vr2', '2012-06-24UT10:03:38.11238117.sanae.vr2', '2012-06-24UT20:04:20.35238117.sanae.vr2', '2012-06-24UT21:57:19.64198117.sanae.vr2', '2012-06-24UT22:02:04.41638117.sanae.vr2', '2012-06-24UT22:20:18.45798117.sanae.vr2', '2012-06-24UT22:20:21.93958117.sanae.vr2', '2012-06-24UT22:26:29.76038117.sanae.vr2', '2012-06-25UT01:48:29.51718117.sanae.vr2', '2012-06-25UT06:33:38.20198117.sanae.vr2', '2012-06-25UT07:25:38.73958125.sanae.vr2', '2012-06-29UT19:31:11.64198125.sanae.vr2', '2012-06-29UT20:24:36.35238125.sanae.vr2', '2012-06-29UT22:53:02.18278125.sanae.vr2', '2012-06-30UT15:26:21.64518117.sanae.vr2', '2012-06-30UT15:26:38.13158117.sanae.vr2', '2012-06-30UT15:27:47.14918117.sanae.vr2', '2012-06-30UT16:01:38.86758117.sanae.vr2', '2012-06-30UT16:02:08.25638117.sanae.vr2', '2012-06-30UT16:03:50.24678117.sanae.vr2', '2012-06-30UT16:31:48.07078117.sanae.vr2', '2012-06-30UT16:32:05.47878117.sanae.vr2', '2012-06-30UT16:47:08.64678117.sanae.vr2', '2012-06-30UT16:48:11.00838117.sanae.vr2', '2012-06-30UT16:53:52.71718117.sanae.vr2', '2012-06-30UT17:11:42.08038117.sanae.vr2', '2012-06-30UT17:11:43.82118117.sanae.vr2', '2012-06-30UT17:12:14.23398117.sanae.vr2', '2012-06-30UT17:12:19.14918117.sanae.vr2', '2012-06-30UT17:12:34.50918117.sanae.vr2', '2012-06-30UT17:13:03.28358117.sanae.vr2', '2012-06-30UT17:19:15.20038117.sanae.vr2', '2012-06-30UT17:19:15.40518117.sanae.vr2', '2012-06-30UT17:19:34.96358117.sanae.vr2', '2012-06-30UT17:19:35.47558117.sanae.vr2', '2012-06-30UT17:20:26.36838117.sanae.vr2', '2012-06-30UT17:22:56.17958117.sanae.vr2', '2012-06-30UT17:27:44.33318117.sanae.vr2', '2012-06-30UT17:28:17.92038117.sanae.vr2', '2012-06-30UT17:32:45.08198117.sanae.vr2', '2012-06-30UT17:35:18.88678117.sanae.vr2', '2012-06-30UT17:39:03.34758117.sanae.vr2', '2012-06-30UT17:40:06.93798117.sanae.vr2', '2012-06-30UT17:41:18.72038117.sanae.vr2', '2012-06-30UT17:44:54.78438117.sanae.vr2', '2012-06-30UT17:47:37.90758117.sanae.vr2', '2012-06-30UT17:47:41.38918117.sanae.vr2', '2012-06-30UT17:55:44.20518117.sanae.vr2', '2012-06-30UT17:59:53.95878117.sanae.vr2', '2012-06-30UT18:06:04.95398117.sanae.vr2', '2012-06-30UT18:26:46.75878117.sanae.vr2', '2012-06-30UT18:54:38.74598117.sanae.vr2', '2012-06-30UT19:33:48.72358117.sanae.vr2', '2012-06-30UT19:55:04.42278117.sanae.vr2', '2012-06-30UT20:03:36.11558117.sanae.vr2', '2012-06-30UT20:45:35.25798117.sanae.vr2', '2012-06-30UT20:54:19.95558117.sanae.vr2', '2012-07-05UT20:38:11.99238125.sanae.vr2', '2012-07-05UT22:04:43.26278125.sanae.vr2', '2012-07-05UT22:07:22.90438125.sanae.vr2', '2012-07-05UT22:43:38.59718125.sanae.vr2', '2012-07-07UT00:24:00.63878125.sanae.vr2', '2012-07-07UT02:21:50.64198125.sanae.vr2', '2012-07-07UT02:22:45.11878125.sanae.vr2', '2012-07-07UT02:22:59.96678125.sanae.vr2', '2012-07-07UT02:30:52.44038125.sanae.vr2', '2012-07-07UT03:43:22.28998125.sanae.vr2', '2012-07-07UT09:09:57.65638125.sanae.vr2', '2012-07-07UT09:12:44.67078125.sanae.vr2', '2012-07-07UT09:14:26.14918125.sanae.vr2', '2012-07-07UT09:18:55.35878125.sanae.vr2', '2012-07-07UT09:22:23.84518117.sanae.vr2', '2012-07-07UT09:22:49.95718125.sanae.vr2', '2012-07-07UT09:24:19.14758125.sanae.vr2', '2012-07-07UT09:25:17.92518117.sanae.vr2', '2012-07-07UT09:29:45.90598125.sanae.vr2', '2012-07-07UT09:39:18.52678125.sanae.vr2', '2012-07-07UT09:42:05.33638125.sanae.vr2', '2012-07-07UT09:44:07.49958125.sanae.vr2', '2012-07-07UT09:44:44.67078125.sanae.vr2', '2012-07-07UT09:48:31.17958117.sanae.vr2', '2012-07-07UT16:42:27.17318125.sanae.vr2', '2012-07-07UT18:31:52.13958125.sanae.vr2', '2012-07-07UT18:34:00.24198125.sanae.vr2', '2012-07-08UT01:06:59.99238125.sanae.vr2', '2012-07-08UT05:43:26.12998125.sanae.vr2', '2012-07-08UT05:55:47.30118125.sanae.vr2', '2012-07-08UT05:58:22.43718125.sanae.vr2', '2012-07-08UT05:58:27.76198125.sanae.vr2', '2012-07-08UT05:58:45.88678125.sanae.vr2', '2012-07-08UT05:58:47.93478125.sanae.vr2', '2012-07-08UT05:59:14.04678125.sanae.vr2', '2012-07-08UT06:42:51.39078125.sanae.vr2', '2012-07-08UT06:42:54.66758125.sanae.vr2', '2012-07-08UT08:55:41.89958125.sanae.vr2', '2012-07-08UT23:17:05.63718117.sanae.vr2', '2012-07-08UT23:19:25.31078117.sanae.vr2', '2012-07-08UT23:22:16.42118117.sanae.vr2', '2012-07-09UT02:30:26.53318117.sanae.vr2', '2012-07-09UT18:30:11.48038109.sanae.vr2', '2012-07-09UT22:55:49.63078109.sanae.vr2', '2012-07-09UT23:05:57.88678109.sanae.vr2', '2012-07-10UT00:55:39.03238109.sanae.vr2', '2012-07-10UT03:22:18.05958102.sanae.vr2', '2012-07-10UT09:08:03.37798102.sanae.vr2', '2012-07-16UT02:51:41.31078125.sanae.vr2', '2012-07-16UT02:51:52.26758125.sanae.vr2', '2012-07-19UT05:21:03.15398125.sanae.vr2', '2012-07-19UT06:26:35.21158125.sanae.vr2', '2012-07-19UT18:10:16.67718125.sanae.vr2', '2012-07-19UT20:31:18.60358125.sanae.vr2', '2012-07-19UT22:34:47.44838125.sanae.vr2', '2012-07-20UT00:00:35.91558125.sanae.vr2', '2012-07-20UT01:28:14.46278125.sanae.vr2', '2012-07-30UT03:23:49.91238125.sanae.vr2', '2012-07-30UT07:06:51.44198125.sanae.vr2', '2012-07-30UT07:07:50.42438125.sanae.vr2', '2012-07-30UT21:08:13.82278117.sanae.vr2', '2012-07-31UT04:28:50.94278117.sanae.vr2', '2012-07-31UT06:32:48.56198117.sanae.vr2', '2012-07-31UT06:41:57.73318117.sanae.vr2', '2012-07-31UT22:43:49.24678117.sanae.vr2', '2012-07-31UT22:59:41.46438117.sanae.vr2', '2012-07-31UT23:05:01.97638117.sanae.vr2', '2012-08-01UT01:01:38.86598117.sanae.vr2', '2012-08-01UT01:02:20.54278117.sanae.vr2', '2012-08-01UT01:10:03.28838117.sanae.vr2', '2012-08-01UT02:41:38.78918117.sanae.vr2', '2012-08-01UT02:49:24.29958117.sanae.vr2', '2012-08-01UT02:51:52.67718117.sanae.vr2', '2012-08-01UT02:55:41.33638117.sanae.vr2', '2012-08-01UT02:57:00.69638117.sanae.vr2', '2012-08-01UT02:59:00.70918117.sanae.vr2', '2012-08-01UT03:19:05.95718117.sanae.vr2', '2012-08-01UT03:20:19.58278117.sanae.vr2', '2012-08-01UT03:22:25.73958117.sanae.vr2', '2012-08-01UT21:34:13.98918117.sanae.vr2', '2012-08-02UT00:02:15.96038117.sanae.vr2', '2012-08-02UT01:41:18.23238117.sanae.vr2', '2012-08-02UT02:47:30.43078117.sanae.vr2', '2012-08-02UT05:26:08.71558117.sanae.vr2', '2012-08-02UT05:29:46.31558117.sanae.vr2', '2012-08-02UT05:31:37.62438117.sanae.vr2', '2012-08-02UT05:31:51.75558117.sanae.vr2', '2012-08-02UT05:31:57.18278117.sanae.vr2', '2012-08-02UT07:00:28.97798117.sanae.vr2', '2012-08-02UT07:08:19.40358117.sanae.vr2', '2012-08-02UT07:15:15.45478117.sanae.vr2', '2012-08-04UT01:25:31.13478117.sanae.vr2', '2012-08-05UT08:16:10.72518125.sanae.vr2', '2012-08-05UT08:33:18.30918125.sanae.vr2', '2012-08-10UT05:56:39.11558133.sanae.vr2', '2012-08-10UT07:15:29.58598133.sanae.vr2', '2012-08-10UT07:17:59.39718133.sanae.vr2', '2012-08-10UT07:18:33.18918133.sanae.vr2', '2012-08-10UT07:18:33.90598133.sanae.vr2', '2012-08-10UT07:19:57.66918133.sanae.vr2', '2012-08-10UT07:22:58.09798133.sanae.vr2', '2012-08-10UT07:24:14.07878133.sanae.vr2', '2012-08-10UT07:25:35.38438133.sanae.vr2', '2012-08-10UT07:35:52.54918133.sanae.vr2', '2012-08-10UT07:38:39.05158133.sanae.vr2', '2012-08-10UT07:47:25.38758133.sanae.vr2', '2012-08-10UT07:58:46.34758133.sanae.vr2', '2012-08-10UT08:27:28.40838133.sanae.vr2', '2012-08-10UT17:18:13.57958133.sanae.vr2', '2012-08-10UT21:59:25.41318125.sanae.vr2', '2012-08-11UT01:28:22.04038133.sanae.vr2', '2012-08-11UT06:17:53.79078125.sanae.vr2', '2012-08-14UT04:50:40.12678125.sanae.vr2', '2012-08-14UT07:16:15.05158125.sanae.vr2', '2012-08-14UT07:30:26.40518117.sanae.vr2', '2012-08-14UT07:39:02.70598117.sanae.vr2', '2012-08-14UT08:00:11.54438117.sanae.vr2', '2012-08-14UT08:20:35.53158117.sanae.vr2', '2012-08-14UT08:41:26.55238117.sanae.vr2', '2012-08-15UT07:12:40.01158117.sanae.vr2', '2012-08-16UT04:03:12.07558117.sanae.vr2', '2012-08-16UT22:30:21.92518125.sanae.vr2', '2012-08-16UT22:31:11.48678125.sanae.vr2', '2012-08-16UT22:31:49.68198125.sanae.vr2', '2012-08-19UT07:22:06.59078125.sanae.vr2', '2012-08-19UT07:24:56.67718133.sanae.vr2', '2012-08-19UT07:32:27.64678125.sanae.vr2', '2012-08-19UT07:52:24.29318125.sanae.vr2', '2012-08-19UT08:16:27.51878125.sanae.vr2', '2012-08-19UT16:06:44.04358133.sanae.vr2', '2012-08-20UT03:56:31.48678125.sanae.vr2', '2012-08-20UT04:04:23.55078125.sanae.vr2', '2012-08-20UT04:17:05.40678125.sanae.vr2', '2012-08-24UT07:55:48.68358125.sanae.vr2', '2012-08-24UT08:09:52.15238125.sanae.vr2', '2012-08-24UT08:10:35.05798125.sanae.vr2', '2012-08-25UT06:03:02.80838125.sanae.vr2', '2012-08-25UT06:27:15.04518125.sanae.vr2', '2012-08-25UT06:36:59.03238125.sanae.vr2', '2012-08-25UT06:38:38.15558125.sanae.vr2', '2012-08-25UT06:43:31.94118125.sanae.vr2', '2012-08-25UT06:43:55.69798125.sanae.vr2', '2012-08-25UT06:45:01.33638125.sanae.vr2', '2012-08-25UT06:51:56.97798125.sanae.vr2', '2012-08-25UT07:27:29.86758125.sanae.vr2', '2012-08-25UT07:54:56.04998125.sanae.vr2', '2012-08-25UT08:42:59.73638125.sanae.vr2', '2012-08-25UT09:05:06.53318125.sanae.vr2', '2012-08-25UT09:14:00.13958125.sanae.vr2', '2012-08-25UT09:41:59.19238125.sanae.vr2', '2012-08-25UT09:45:53.58598125.sanae.vr2', '2012-08-26UT02:12:29.69478125.sanae.vr2', '2012-08-26UT02:37:42.34758125.sanae.vr2', '2012-08-26UT02:44:23.96038125.sanae.vr2', '2012-08-26UT02:45:02.36038125.sanae.vr2', '2012-08-26UT02:52:25.64998125.sanae.vr2', '2012-08-26UT04:22:24.89478125.sanae.vr2', '2012-08-26UT05:43:46.30278125.sanae.vr2', '2012-08-26UT06:12:24.36998125.sanae.vr2', '2012-08-26UT06:13:07.78758125.sanae.vr2', '2012-08-27UT00:10:11.30118125.sanae.vr2', '2012-08-27UT02:44:08.39558133.sanae.vr2', '2012-08-27UT02:55:53.72678125.sanae.vr2', '2012-08-27UT02:56:22.29638125.sanae.vr2', '2012-08-27UT02:58:47.29478125.sanae.vr2', '2012-08-27UT03:01:02.87238125.sanae.vr2', '2012-08-27UT04:39:53.47078125.sanae.vr2', '2012-08-27UT05:00:41.72678125.sanae.vr2', '2012-08-27UT06:32:45.28518125.sanae.vr2', '2012-08-27UT06:33:47.44198125.sanae.vr2', '2012-08-27UT06:34:18.26438125.sanae.vr2', '2012-08-27UT06:42:08.89478125.sanae.vr2', '2012-08-27UT06:52:28.82438125.sanae.vr2', '2012-08-27UT07:46:29.06758125.sanae.vr2', '2012-08-27UT08:11:24.31238125.sanae.vr2', '2012-08-27UT08:11:40.59398125.sanae.vr2', '2012-08-27UT08:20:31.74278125.sanae.vr2', '2012-08-27UT08:20:58.46918125.sanae.vr2', '2012-08-27UT08:23:00.93958125.sanae.vr2', '2012-08-27UT08:23:22.75078125.sanae.vr2', '2012-08-27UT08:24:02.78918125.sanae.vr2', '2012-08-27UT08:24:05.14438125.sanae.vr2', '2012-08-27UT08:30:48.49798125.sanae.vr2', '2012-08-27UT08:34:47.39718125.sanae.vr2', '2012-08-27UT09:57:36.25478125.sanae.vr2', '2012-08-28UT05:44:50.91718125.sanae.vr2', '2012-08-28UT06:40:57.52198125.sanae.vr2', '2012-08-28UT06:47:40.26118125.sanae.vr2', '2012-08-28UT07:22:16.93318125.sanae.vr2', '2012-08-28UT07:42:36.31238125.sanae.vr2', '2012-08-28UT08:58:27.37798125.sanae.vr2', '2012-08-28UT11:40:08.85638125.sanae.vr2', '2012-08-29UT04:52:34.91718125.sanae.vr2', '2012-08-29UT06:24:00.38278125.sanae.vr2', '2012-08-29UT06:45:09.32358125.sanae.vr2', '2012-08-29UT07:00:12.08198125.sanae.vr2', '2012-08-29UT08:03:31.42918125.sanae.vr2', '2012-08-29UT09:14:46.73158125.sanae.vr2', '2012-08-31UT08:42:02.39238125.sanae.vr2', '2012-08-31UT09:48:32.30598125.sanae.vr2', '2012-08-31UT09:54:57.94438125.sanae.vr2', '2012-08-31UT10:57:18.71878125.sanae.vr2', '2012-09-03UT04:22:39.74278125.sanae.vr2', '2012-09-03UT04:28:47.97318125.sanae.vr2', '2012-09-03UT05:27:27.97318125.sanae.vr2', '2012-09-03UT05:28:10.26438125.sanae.vr2', '2012-09-03UT05:32:36.09478125.sanae.vr2', '2012-09-03UT05:45:44.77958125.sanae.vr2', '2012-09-03UT05:52:22.91078125.sanae.vr2', '2012-09-03UT06:04:14.69318125.sanae.vr2', '2012-09-03UT06:10:07.76838125.sanae.vr2', '2012-09-03UT06:29:06.96838125.sanae.vr2', '2012-09-03UT06:54:33.44518125.sanae.vr2', '2012-09-03UT06:54:49.21478125.sanae.vr2', '2012-09-03UT06:58:13.29798125.sanae.vr2', '2012-09-03UT07:00:18.32838125.sanae.vr2', '2012-09-03UT07:01:23.35238125.sanae.vr2', '2012-09-03UT07:01:30.31558125.sanae.vr2', '2012-09-03UT07:05:59.01318125.sanae.vr2', '2012-09-03UT07:06:31.88358125.sanae.vr2', '2012-09-03UT07:14:27.32678125.sanae.vr2', '2012-09-03UT07:21:26.04038125.sanae.vr2', '2012-09-03UT07:31:26.61638125.sanae.vr2', '2012-09-03UT07:35:24.49158125.sanae.vr2', '2012-09-04UT10:04:05.37478125.sanae.vr2', '2012-09-05UT05:52:31.61478125.sanae.vr2', '2012-09-05UT05:58:28.17158125.sanae.vr2', '2012-09-05UT06:10:54.46278125.sanae.vr2', '2012-09-05UT06:11:33.47718125.sanae.vr2', '2012-09-05UT06:14:32.36998125.sanae.vr2', '2012-09-05UT06:15:45.38118125.sanae.vr2', '2012-09-05UT06:16:27.16038125.sanae.vr2', '2012-09-05UT06:23:15.32678125.sanae.vr2', '2012-09-05UT06:34:47.03878125.sanae.vr2', '2012-09-06UT04:05:24.68358125.sanae.vr2', '2012-09-06UT06:47:44.97158125.sanae.vr2', '2012-09-24UT03:36:30.43718117.sanae.vr2', '2012-09-28UT07:28:24.85638125.sanae.vr2', '2012-09-28UT07:30:36.95238125.sanae.vr2', '2012-09-29UT05:18:30.57798125.sanae.vr2', '2012-09-29UT05:21:06.12358125.sanae.vr2', '2012-09-29UT05:22:22.41158125.sanae.vr2', '2012-09-29UT05:23:24.77318125.sanae.vr2', '2012-09-29UT05:30:21.74598125.sanae.vr2', '2012-09-29UT05:31:41.31078125.sanae.vr2', '2012-09-29UT05:35:27.71718125.sanae.vr2', '2012-09-29UT06:42:39.81958125.sanae.vr2', '2012-09-29UT22:06:58.32838125.sanae.vr2', '2012-09-29UT22:12:26.92998125.sanae.vr2', '2012-09-29UT22:16:05.24678125.sanae.vr2', '2012-09-29UT22:17:37.09958125.sanae.vr2', '2012-09-29UT22:18:20.61958125.sanae.vr2', '2012-09-29UT22:19:27.17958125.sanae.vr2', '2012-09-30UT01:01:15.62118125.sanae.vr2', '2012-09-30UT01:34:21.56678125.sanae.vr2', '2012-09-30UT02:23:33.96358125.sanae.vr2', '2012-09-30UT02:29:30.31558125.sanae.vr2', '2012-09-30UT05:42:08.51078125.sanae.vr2', '2012-09-30UT05:42:08.92038125.sanae.vr2', '2012-10-04UT09:48:46.94918117.sanae.vr2', '2012-10-05UT04:05:45.98278117.sanae.vr2', '2012-10-05UT04:07:27.66598117.sanae.vr2', '2012-10-05UT04:46:56.28038117.sanae.vr2', '2012-10-11UT09:28:36.88838125.sanae.vr2', '2012-10-11UT09:31:51.85798125.sanae.vr2', '2012-10-11UT09:33:46.03398125.sanae.vr2', '2012-10-11UT09:37:06.12358125.sanae.vr2', '2012-10-11UT09:45:17.84838125.sanae.vr2']>\n"
     ]
    }
   ],
   "source": [
    "f = h5py.File(database_path, 'r+')\n",
    "whistler_grp = f[os.path.join('awdEvents'+str(awd_event),site,'whistler traces')]\n",
    "print(whistler_grp.keys())\n",
    "f.close()\n"
   ]
  },
  {
   "cell_type": "code",
   "execution_count": null,
   "metadata": {},
   "outputs": [],
   "source": []
  }
 ],
 "metadata": {
  "kernelspec": {
   "display_name": "Python 3",
   "language": "python",
   "name": "python3"
  },
  "language_info": {
   "codemirror_mode": {
    "name": "ipython",
    "version": 3
   },
   "file_extension": ".py",
   "mimetype": "text/x-python",
   "name": "python",
   "nbconvert_exporter": "python",
   "pygments_lexer": "ipython3",
   "version": "3.6.6"
  }
 },
 "nbformat": 4,
 "nbformat_minor": 2
}

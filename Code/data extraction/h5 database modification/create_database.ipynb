{
 "cells": [
  {
   "cell_type": "markdown",
   "metadata": {},
   "source": [
    "# Create h5py Database basic structure for whistler data\n",
    "The basic structure is:\n",
    "* ./ \n",
    "    * awdEvent0\n",
    "        * ...\n",
    "    * awdEvent1\n",
    "        * marion\n",
    "            * whistler traces\n",
    "            * spectrogram\n",
    "            * output\n",
    "            * labelled whistler traces\n",
    "            * labelled sprectrogram\n",
    "        * sanae\n",
    "            * ..."
   ]
  },
  {
   "cell_type": "code",
   "execution_count": 1,
   "metadata": {},
   "outputs": [],
   "source": [
    "import os\n",
    "import h5py\n",
    "\n",
    "database_name = 'whistlers.h5'\n",
    "database_location = os.path.join(os.getcwd().split(os.environ.get('USER'))[0],os.environ.get('USER'), 'wdml','Data')\n",
    "database_path = os.path.join(database_location,database_name)\n",
    "awd_events = 2\n",
    "sites = ['marion', 'sanae']\n",
    "\n",
    "try:\n",
    "    f = h5py.File(database_path, 'w')\n",
    "#     for event in range(1,awd_events):\n",
    "#         for site in sites:\n",
    "#             f.create_group('awdEvents%s/%s' % (str(event), site))\n",
    "#             f.create_group('awdEvents%s/%s/whistler traces' % (str(event), site))\n",
    "#             f.create_group('awdEvents%s/%s/spectrograms' % (str(event), site))\n",
    "#             f.create_group('awdEvents%s/%s/outputs' % (str(event), site))\n",
    "#             f.create_group('awdEvents%s/%s/labelled whistler traces' % (str(event), site))\n",
    "#             f.create_group('awdEvents%s/%s/labelled spectrograms' % (str(event), site))\n",
    "    f.visit(print)\n",
    "    f.close()\n",
    "except OSError as e:\n",
    "    print(e)"
   ]
  },
  {
   "cell_type": "code",
   "execution_count": null,
   "metadata": {},
   "outputs": [],
   "source": []
  }
 ],
 "metadata": {
  "kernelspec": {
   "display_name": "Python 3",
   "language": "python",
   "name": "python3"
  },
  "language_info": {
   "codemirror_mode": {
    "name": "ipython",
    "version": 3
   },
   "file_extension": ".py",
   "mimetype": "text/x-python",
   "name": "python",
   "nbconvert_exporter": "python",
   "pygments_lexer": "ipython3",
   "version": "3.6.6"
  }
 },
 "nbformat": 4,
 "nbformat_minor": 2
}

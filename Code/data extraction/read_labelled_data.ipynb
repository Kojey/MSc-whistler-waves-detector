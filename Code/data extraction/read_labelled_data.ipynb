{
 "cells": [
  {
   "cell_type": "code",
   "execution_count": 32,
   "metadata": {},
   "outputs": [],
   "source": [
    "import os\n",
    "import sys\n",
    "import h5py\n",
    "import numpy as np\n",
    "import matplotlib.pyplot as plt"
   ]
  },
  {
   "cell_type": "code",
   "execution_count": 4,
   "metadata": {},
   "outputs": [],
   "source": [
    "# database full path\n",
    "database_name = 'whistlers.h5'\n",
    "database_location = os.path.join(os.getcwd().split(os.environ.get('USER'))[0],os.environ.get('USER'), 'Data')\n",
    "database_path = os.path.join(database_location,database_name)\n",
    "\n",
    "# data variables\n",
    "awd_events = 2\n",
    "sites = ['marion', 'sanae']"
   ]
  },
  {
   "cell_type": "code",
   "execution_count": 26,
   "metadata": {},
   "outputs": [],
   "source": [
    "def extract_spectrogram_info(spectrogram_data):\n",
    "    '''Extract the time, frequency axis values as well as the \n",
    "            spectrogram data.\n",
    "    inputs:\n",
    "        spectrogram_data: the spectrogram data including the \n",
    "        time and frequency information.\n",
    "    outputs: \n",
    "        time: time values\n",
    "        frequency: frequency values\n",
    "        spectrogram: spectrogram\n",
    "    '''\n",
    "    time = spectrogram_data[0,1:]\n",
    "    frequency = spectrogram_data[1:,0]\n",
    "    spectrogram = spectrogram_data[1:,1:]\n",
    "    print(time.shape, frequency.shape, spectrogram.shape)\n",
    "    return time, frequency, spectrogram"
   ]
  },
  {
   "cell_type": "code",
   "execution_count": 49,
   "metadata": {},
   "outputs": [
    {
     "name": "stdout",
     "output_type": "stream",
     "text": [
      "(1407,) (257,) (257, 1407)\n"
     ]
    },
    {
     "data": {
      "text/plain": [
       "<matplotlib.collections.QuadMesh at 0x7fc44613e978>"
      ]
     },
     "execution_count": 49,
     "metadata": {},
     "output_type": "execute_result"
    },
    {
     "data": {
      "image/png": "[encoded data removed]",
      "text/plain": [
       "<Figure size 432x288 with 1 Axes>"
      ]
     },
     "metadata": {
      "needs_background": "light"
     },
     "output_type": "display_data"
    }
   ],
   "source": [
    "f  = h5py.File(database_path, 'r')\n",
    "grp = f[os.path.join('awdEvents'+str(1), sites[0],'labelled spectrograms')]\n",
    "files = list(grp.keys())\n",
    "file = files[np.random.randint(len(files))] # select a random sample\n",
    "# create np array to store sample information\n",
    "data = np.empty(grp[file].shape)\n",
    "# load information\n",
    "grp[file].read_direct(data)\n",
    "out = grp[file].attrs['outputs']\n",
    "event = grp[file].attrs['events']\n",
    "f.close()\n",
    "t,f,s = extract_spectrogram_info(data)\n",
    "plt.pcolormesh(t,f,s, cmap='jet')"
   ]
  },
  {
   "cell_type": "code",
   "execution_count": null,
   "metadata": {},
   "outputs": [],
   "source": []
  }
 ],
 "metadata": {
  "kernelspec": {
   "display_name": "Python 3",
   "language": "python",
   "name": "python3"
  },
  "language_info": {
   "codemirror_mode": {
    "name": "ipython",
    "version": 3
   },
   "file_extension": ".py",
   "mimetype": "text/x-python",
   "name": "python",
   "nbconvert_exporter": "python",
   "pygments_lexer": "ipython3",
   "version": "3.6.6"
  }
 },
 "nbformat": 4,
 "nbformat_minor": 2
}

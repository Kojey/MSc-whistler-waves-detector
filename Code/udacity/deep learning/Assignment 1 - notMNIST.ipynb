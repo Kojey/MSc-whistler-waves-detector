{
 "cells": [
  {
   "cell_type": "markdown",
   "metadata": {},
   "source": [
    "# Deep Learning\n",
    "## Assignment 1\n",
    "\n",
    "The objective of this assignment is to learn about simple data curation practices, and familiarize you with some of the data we'll be reusing later.\n",
    "\n",
    "This notebook uses the notMNIST dataset to be used with python experiments. This dataset is designed to look like the classic MNIST dataset, while looking a little more like real data: it's a harder task, and the data is a lot less 'clean' than MNIST."
   ]
  },
  {
   "cell_type": "code",
   "execution_count": 4,
   "metadata": {},
   "outputs": [],
   "source": [
    "# These are all the modules we'll be using later. Make sure you can import them\n",
    "# before proceeding further.\n",
    "from __future__ import print_function\n",
    "import imageio\n",
    "import matplotlib.pyplot as plt\n",
    "import numpy as np\n",
    "import os\n",
    "import sys\n",
    "import tarfile\n",
    "import math\n",
    "import string\n",
    "import time\n",
    "from sklearn.linear_model import LogisticRegression\n",
    "from sklearn import metrics\n",
    "from IPython.display import display, Image\n",
    "from sklearn.linear_model import LogisticRegression\n",
    "from six.moves.urllib.request import urlretrieve\n",
    "from six.moves import cPickle as pickle\n",
    "\n",
    "# Config the matplotlib backend as plotting inline in IPython\n",
    "%matplotlib inline"
   ]
  },
  {
   "cell_type": "markdown",
   "metadata": {},
   "source": [
    "First, we'll download the dataset to our local machine. The data consists of characters rendered in a variety of fonts on a 28x28 image. The labels are limited to 'A' through 'J' (10 classes). The training set has about 500k and the testset 19000 labeled examples. Given these sizes, it should be possible to train models quickly on any machine."
   ]
  },
  {
   "cell_type": "code",
   "execution_count": null,
   "metadata": {},
   "outputs": [],
   "source": [
    "url = 'https://commondatastorage.googleapis.com/books1000/'\n",
    "last_percent_reported = None\n",
    "data_root = '.' # Change to store data elsewhere\n",
    "\n",
    "def download_progress_hook(count, blockSize, totalSize):\n",
    "    \"\"\"A hook to report the progress of a download. This is mostly intended for users with \n",
    "    slow internet connections. report every 5% change in download progress\n",
    "    \"\"\"\n",
    "    global last_percent_reported\n",
    "    percent = int(count*blockSize*100/totalSize)\n",
    "    \n",
    "    if last_percent_reported != percent:\n",
    "        if percent%5==0:\n",
    "            sys.stdout.write(\"%s%%\" % percent)\n",
    "            sys.stdout.flush()\n",
    "        else:\n",
    "            sys.stdout.write(\".\")\n",
    "            sys.stdout.flush()\n",
    "        \n",
    "        last_percent_reported = percent\n",
    "\n",
    "def maybe_download(filename, expected_bytes, force=False):\n",
    "    \"\"\"Download a file if not present, and make sure it's the right size.\"\"\"\n",
    "    dest_filename = os.path.join(data_root, filename)\n",
    "    if force or not os.path.exists(dest_filename):\n",
    "        print('Attempting to download:', filename)\n",
    "        filename, _ = urlretrieve(url + filename, dest_filename, reporthook=download_progress_hook)\n",
    "        print('\\nDownload Complete!')\n",
    "    statinfo = os.stat(dest_filename)\n",
    "    if statinfo.st_size == expected_bytes:\n",
    "        print('Found and verified', dest_filename)\n",
    "    else:\n",
    "        raise Exception(\n",
    "        'Failed to verify'+dest_filename+'. Can you get to it with a browser?')\n",
    "    return dest_filename\n",
    "\n",
    "train_filename = maybe_download('notMNIST_large.tar.gz',247336696)\n",
    "test_filename = maybe_download('notMNIST_small.tar.gz', 8458043)"
   ]
  },
  {
   "cell_type": "markdown",
   "metadata": {},
   "source": [
    "Extract the dataset from the compressed .tar.gz file. This should give you a set of directories, labeled A through J."
   ]
  },
  {
   "cell_type": "code",
   "execution_count": null,
   "metadata": {},
   "outputs": [],
   "source": [
    "num_classes = 10\n",
    "np.random.seed(133)\n",
    "\n",
    "def maybe_extract(filename, force=False):\n",
    "    root = os.path.splitext(os.path.splitext(filename)[0])[0]\n",
    "    if os.path.isdir(root) and not force:\n",
    "        print('%s already present - Skipping extraction of %s' % (root, filename))\n",
    "    else:\n",
    "        print('Extracting data for %s. This may take a while. Please wait.' % root)\n",
    "        tar = tarfile.open(filename)\n",
    "        sys.stdout.flush()\n",
    "        tar.extractall(data_root)\n",
    "        tar.close()\n",
    "    data_folders = [\n",
    "        os.path.join(root,d) for d in sorted(os.listdir(root))\n",
    "        if os.path.isdir(os.path.join(root,d))]\n",
    "    if len(data_folders) != num_classes:\n",
    "        raise Exception(\n",
    "        'Expected %d folders, one per class. Found %d instead.' %(num_classes, len(data_folders)))\n",
    "    print(data_folders)\n",
    "    return data_folders\n",
    "\n",
    "train_folders = maybe_extract(train_filename)\n",
    "test_folders = maybe_extract(test_filename)\n"
   ]
  },
  {
   "cell_type": "code",
   "execution_count": null,
   "metadata": {},
   "outputs": [],
   "source": [
    "train_folders"
   ]
  },
  {
   "cell_type": "markdown",
   "metadata": {},
   "source": [
    "## Problem 1\n",
    "Let's take a peek at some of the data to make sure it looks sensible. Each exemplar should be an image of a character A through J rendered in a different font. Display a sample of the images that we just downloaded. Hint: you can use the package IPython.display.\n",
    "\n",
    "Now let's load the data in a more manageable format. Since, depending on your computer setup you might not be able to fit it all in memory, we'll load each class into a separate dataset, store them on disk and curate them independently. Later we'll merge them into a single dataset of manageable size.\n",
    "\n",
    "We'll convert the entire dataset into a 3D array (image index, x, y) of floating point values, normalized to have approximately zero mean and standard deviation ~0.5 to make training easier down the road.\n",
    "\n",
    "A few images might not be readable, we'll just skip them.\n"
   ]
  },
  {
   "cell_type": "code",
   "execution_count": null,
   "metadata": {},
   "outputs": [],
   "source": [
    "image_size = 28 # pixel width and height.\n",
    "pixel_depth = 255.0 # Number if levels per pixels\n",
    "\n",
    "def load_letter(folder, min_num_images):\n",
    "    \"\"\"Load the data for a single letter label.\"\"\"\n",
    "    image_files = os.listdir(folder)\n",
    "    dataset = np.ndarray(shape=(len(image_files),image_size, image_size), dtype=np.float32)\n",
    "    print(folder)\n",
    "    num_images = 0\n",
    "    for image in image_files:\n",
    "        image_file = os.path.join(folder, image) # get full path of file\n",
    "        try:\n",
    "            image_data =(imageio.imread(image_file).astype(float) - pixel_depth / 2) / pixel_depth # normalize the image\n",
    "            if image_data.shape != (image_size, image_size):\n",
    "                raise Exception('Unexpected image shape: %s' % str(image_data.shape))\n",
    "            dataset[num_images, :, :] = image_data\n",
    "            num_images = num_images + 1\n",
    "        except (IOError, ValueError) as e:\n",
    "            print('Could not read', image_file, ':', e, '-it\\'s ok, skipping.')\n",
    "    dataset = dataset[0:num_images,:,:]\n",
    "    if num_images < min_num_images:\n",
    "        raise Exception('Many fewer images than expected: %d < %d' % (num_images, min_num_images))\n",
    "    print('Full dataset tensor:', dataset.shape)\n",
    "    print('Mean:', np.mean(dataset))\n",
    "    print('Standard deviation:', np.std(dataset))\n",
    "    return dataset\n",
    "\n",
    "def maybe_pickle(data_folders, min_num_images_per_class, force=False):\n",
    "    dataset_names = []\n",
    "    for folder in data_folders:\n",
    "        set_filename = folder + '.pickle'\n",
    "        dataset_names.append(set_filename)\n",
    "        if os.path.exists(set_filename) and not force:\n",
    "            # You may override by setting force=True\n",
    "            print('%s already present - Skipping pickling.' % set_filename)\n",
    "        else:\n",
    "            print('Pickling %s.' % set_filename)\n",
    "            dataset = load_letter(folder, min_num_images_per_class)\n",
    "            try:\n",
    "                    with open(set_filename, 'wb') as f:\n",
    "                        pickle.dump(dataset, f, pickle.HIGHEST_PROTOCOL)\n",
    "            except Exception as e:\n",
    "                print('Unable to save data to', set_filename, ':', e)\n",
    "    return dataset_names\n",
    "\n",
    "train_datasets = maybe_pickle(train_folders, 45000)\n",
    "test_datasets = maybe_pickle(test_folders, 1800)\n"
   ]
  },
  {
   "cell_type": "markdown",
   "metadata": {},
   "source": [
    "## Problem 2\n",
    "\n",
    "Let's verify that the data still looks good. Displaying a sample of the labels and images from the ndarray. Hint: you can use matplotlib.pyplot."
   ]
  },
  {
   "cell_type": "code",
   "execution_count": null,
   "metadata": {},
   "outputs": [],
   "source": [
    "with open(train_datasets[np.random.randint(len(train_datasets))], 'rb') as f:\n",
    "    letter_set = pickle.load(f)\n",
    "    plt.imshow(letter_set[np.random.randint(len(letter_set))])"
   ]
  },
  {
   "cell_type": "markdown",
   "metadata": {},
   "source": [
    "## Problem 3\n",
    "\n",
    "Another check: we expect the data to be balanced across classes. Verify that."
   ]
  },
  {
   "cell_type": "code",
   "execution_count": null,
   "metadata": {},
   "outputs": [],
   "source": [
    "dataset_shape = []\n",
    "for label,file in enumerate(train_datasets):\n",
    "    try: \n",
    "        with open(file, 'rb') as f:\n",
    "            letter_set = pickle.load(f)\n",
    "            dataset_shape.append({label,letter_set.shape})\n",
    "    except Exception as e:\n",
    "        print('Unable to process data from', file,':',e)\n",
    "        raise\n",
    "#     print(label, file)\n",
    "print(dataset_shape)"
   ]
  },
  {
   "cell_type": "markdown",
   "metadata": {},
   "source": [
    "Merge and prune the training data as needed. Depending on your computer setup, you might not be able to fit it all in memory, and you can tune train_size as needed. The labels will be stored into a separate array of integers 0 through 9.\n",
    "\n",
    "Also create a validation dataset for hyperparameter tuning."
   ]
  },
  {
   "cell_type": "code",
   "execution_count": null,
   "metadata": {},
   "outputs": [],
   "source": [
    "def make_arrays(nb_rows, img_size):\n",
    "    \"\"\"Create dataset and labels array\"\"\"\n",
    "    if nb_rows:\n",
    "        dataset = np.ndarray((nb_rows, img_size, img_size), dtype=np.float32)\n",
    "        labels = np.ndarray(nb_rows, dtype=np.float32)\n",
    "    else:\n",
    "        dataset, labels = None, None\n",
    "    return dataset, labels\n",
    "\n",
    "def merge_datasets(pickle_files, train_size, valid_size=0):\n",
    "    num_classes = len(pickle_files)\n",
    "    valid_dataset, valid_labels = make_arrays(valid_size, image_size)\n",
    "    train_dataset, train_labels = make_arrays(train_size, image_size)\n",
    "    vsize_per_class = valid_size // num_classes\n",
    "    tsize_per_class = train_size // num_classes\n",
    "    \n",
    "    start_v, start_t = 0, 0\n",
    "    end_v, end_t = vsize_per_class, tsize_per_class \n",
    "    end_l = vsize_per_class + tsize_per_class # why?????\n",
    "    \n",
    "    for label, pickle_file in enumerate(pickle_files):\n",
    "        try: \n",
    "            with open(pickle_file, 'rb') as f:\n",
    "                letter_set = pickle.load(f)\n",
    "                # let's shuffle the letters to have random validation and training set\n",
    "                np.random.shuffle(letter_set)\n",
    "                if valid_dataset is not None:\n",
    "                    valid_letter = letter_set[:vsize_per_class, :,:]\n",
    "                    valid_dataset[start_v:end_v, :,:] = valid_letter\n",
    "                    valid_labels[start_v:end_v] = label\n",
    "                    start_v += vsize_per_class\n",
    "                    end_v += vsize_per_class\n",
    "                    \n",
    "                train_letter = letter_set[vsize_per_class:end_l,:,:]\n",
    "                train_dataset[start_t:end_t, :,:] = train_letter\n",
    "                train_labels[start_t:end_t] = label\n",
    "                start_t += tsize_per_class\n",
    "                end_t += tsize_per_class\n",
    "        except Exception as e:\n",
    "            print('Unable to process data from', pickle_file,':',e)\n",
    "            raise\n",
    "    return valid_dataset, valid_labels, train_dataset, train_labels\n",
    "\n",
    "train_size = 200000\n",
    "valid_size = 10000\n",
    "test_size = 10000\n",
    "\n",
    "valid_dataset, valid_labels, train_dataset, train_labels = merge_datasets(train_datasets, train_size, valid_size)\n",
    "_, _, test_dataset, test_labels = merge_datasets(test_datasets, test_size)\n",
    "\n",
    "print('Training:', train_dataset.shape, train_labels.shape)\n",
    "print('Validation:', valid_dataset.shape, valid_labels.shape)\n",
    "print('Testing:', test_dataset.shape, test_labels.shape)\n"
   ]
  },
  {
   "cell_type": "markdown",
   "metadata": {},
   "source": [
    "Next, we'll randomize the data. It's important to have the labels well shuffled for the training and test distributions to match."
   ]
  },
  {
   "cell_type": "code",
   "execution_count": null,
   "metadata": {},
   "outputs": [],
   "source": [
    "def randomize(dataset, labels):\n",
    "    permutation = np.random.permutation(labels.shape[0])\n",
    "    shuffled_dataset = dataset[permutation,:,:]\n",
    "    shuffled_labels = labels[permutation]\n",
    "    return shuffled_dataset, shuffled_labels\n",
    "train_dataset, train_labels = randomize(train_dataset, train_labels)\n",
    "test_dataset, test_labels = randomize(test_dataset, test_labels)\n",
    "valid_dataset, valid_labels = randomize(valid_dataset, valid_labels)"
   ]
  },
  {
   "cell_type": "markdown",
   "metadata": {},
   "source": [
    "## Problem 4\n",
    "\n",
    "Convince yourself that the data is still good after shuffling!"
   ]
  },
  {
   "cell_type": "code",
   "execution_count": null,
   "metadata": {},
   "outputs": [],
   "source": []
  },
  {
   "cell_type": "markdown",
   "metadata": {},
   "source": [
    "Finally, let's save the data for later reuse:"
   ]
  },
  {
   "cell_type": "code",
   "execution_count": null,
   "metadata": {},
   "outputs": [],
   "source": [
    "pickle_file = os.path.join(data_root, 'notMNIST.pickle')\n",
    "\n",
    "try:\n",
    "    f = open(pickle_file, 'wb')\n",
    "    save = {\n",
    "        'train_dataset': train_dataset,\n",
    "        'train_labels': train_labels,\n",
    "        'valid_dataset': valid_dataset,\n",
    "        'valid_labels': valid_labels,\n",
    "        'test_dataset': test_dataset,\n",
    "        'test_labels': test_labels,\n",
    "    }\n",
    "    pickle.dump(save, f, pickle.HIGHEST_PROTOCOL)\n",
    "    f.close()\n",
    "except Exception as e:\n",
    "    print('Unable to save data to', pickle_file, ':', e)\n",
    "    raise"
   ]
  },
  {
   "cell_type": "code",
   "execution_count": 6,
   "metadata": {},
   "outputs": [
    {
     "name": "stdout",
     "output_type": "stream",
     "text": [
      "Compressed pickle size: 690800470\n"
     ]
    }
   ],
   "source": [
    "pickle_file = os.path.join(data_root, 'notMNIST.pickle')\n",
    "statinfo = os.stat(pickle_file)\n",
    "print('Compressed pickle size:', statinfo.st_size)"
   ]
  },
  {
   "cell_type": "markdown",
   "metadata": {},
   "source": [
    "## Problem 5\n",
    "\n",
    "By construction, this dataset might contain a lot of overlapping samples, including training data that's also contained in the validation and test set! Overlap between training and test can skew the results if you expect to use your model in an environment where there is never an overlap, but are actually ok if you expect to see training samples recur when you use it. Measure how much overlap there is between training, validation and test samples.\n",
    "\n",
    "Optional questions:\n",
    "* What about near duplicates between datasets? (images that are almost identical)\n",
    "* Create a sanitized validation and test set, and compare your accuracy on those in subsequent assignments.\n",
    "\n"
   ]
  },
  {
   "cell_type": "code",
   "execution_count": 10,
   "metadata": {},
   "outputs": [
    {
     "name": "stdout",
     "output_type": "stream",
     "text": [
      "Loaded notMNIST.pickle in dataset\n"
     ]
    }
   ],
   "source": [
    "dataset_filename = 'notMNIST.pickle'\n",
    "def load_dataset(dataset_name):\n",
    "    if os.path.exists(dataset_filename):\n",
    "        try:\n",
    "            with open(dataset_filename, 'rb') as f:\n",
    "                dataset = pickle.load(f)\n",
    "                print('Loaded %s in dataset' % dataset_filename)\n",
    "        except Exception as e:\n",
    "            print('Error:', e)\n",
    "    else:\n",
    "        print('Unable to find', dataset_filename)\n",
    "        dataset = None\n",
    "    return dataset\n",
    "dataset = load_dataset(dataset_filename)\n",
    "train_dataset = dataset['train_dataset']\n",
    "valid_dataset = dataset['valid_dataset']\n",
    "test_dataset = dataset['test_dataset']"
   ]
  },
  {
   "cell_type": "code",
   "execution_count": 12,
   "metadata": {},
   "outputs": [
    {
     "name": "stdout",
     "output_type": "stream",
     "text": [
      "Number of overlaps between training and test sets: 1153. Execution time: 0.41601100000000013.\n",
      "Number of overlaps between training and validation sets: 953. Execution time: 0.4030510000000005.\n",
      "Number of overlaps between validation and test sets: 55. Execution time: 0.037519999999999776.\n"
     ]
    }
   ],
   "source": [
    "def check_overlaps(images1, images2):\n",
    "    images1.flags.writeable = False\n",
    "    images2.flags.writeable = False\n",
    "    start = time.clock()\n",
    "    hash1 = set([hash(image1.tobytes()) for image1 in images1])\n",
    "    hash2 = set([hash(image2.tobytes()) for image2 in images2])\n",
    "    all_overlaps = set.intersection(hash1, hash2)\n",
    "    return all_overlaps, time.clock()-start\n",
    "\n",
    "r, execTime = check_overlaps(train_dataset, test_dataset)\n",
    "print('Number of overlaps between training and test sets: {}. Execution time: {}.'.format(len(r), execTime))\n",
    "r, execTime = check_overlaps(train_dataset, valid_dataset)\n",
    "print('Number of overlaps between training and validation sets: {}. Execution time: {}.'.format(len(r), execTime))\n",
    "r, execTime = check_overlaps(valid_dataset, test_dataset)\n",
    "print('Number of overlaps between validation and test sets: {}. Execution time: {}.'.format(len(r), execTime))"
   ]
  },
  {
   "cell_type": "markdown",
   "metadata": {},
   "source": [
    "## Problem 6\n",
    "\n",
    "Let's get an idea of what an off-the-shelf classifier can give you on this data. It's always good to check that there is something to learn, and that it's a problem that is not so trivial that a canned solution solves it.\n",
    "\n",
    "Train a simple model on this data using 50, 100, 1000 and 5000 training samples. Hint: you can use the LogisticRegression model from sklearn.linear_model."
   ]
  },
  {
   "cell_type": "code",
   "execution_count": 24,
   "metadata": {},
   "outputs": [
    {
     "name": "stdout",
     "output_type": "stream",
     "text": [
      "(10000, 28, 28) (10000,)\n"
     ]
    }
   ],
   "source": [
    "samples = 10000\n",
    "train_dataset, train_labels = dataset['train_dataset'][:samples], dataset['train_labels'][:samples]\n",
    "valid_dataset, valid_labels = dataset['valid_dataset'][:samples],dataset['valid_labels'][:samples]\n",
    "test_dataset, test_labels = dataset['test_dataset'][:samples], dataset['test_labels'][:samples]\n",
    "sample, img_width, img_height = train_dataset.shape\n",
    "label_size = train_labels.shape\n",
    "print(train_dataset.shape, train_labels.shape)"
   ]
  },
  {
   "cell_type": "code",
   "execution_count": 25,
   "metadata": {},
   "outputs": [],
   "source": [
    "# reshape data for sklearn library\n",
    "train_dataset_reshape = train_dataset.reshape((samples, img_width*img_height))\n",
    "train_labels_reshape = train_labels.reshape((samples, -1))\n",
    "valid_dataset_reshape = valid_dataset.reshape((samples,img_width*img_height))\n",
    "valid_labels_reshape = valid_labels.reshape((samples, -1))\n",
    "test_dataset_reshape = test_dataset.reshape((samples, img_width*img_height))\n",
    "test_labels_reshape = test_labels.reshape((samples, -1))"
   ]
  },
  {
   "cell_type": "code",
   "execution_count": 26,
   "metadata": {},
   "outputs": [
    {
     "name": "stderr",
     "output_type": "stream",
     "text": [
      "/home/othniel/anaconda3/envs/dp/lib/python3.6/site-packages/sklearn/utils/validation.py:761: DataConversionWarning: A column-vector y was passed when a 1d array was expected. Please change the shape of y to (n_samples, ), for example using ravel().\n",
      "  y = column_or_1d(y, warn=True)\n",
      "[Parallel(n_jobs=-1)]: Using backend LokyBackend with 8 concurrent workers.\n",
      "[Parallel(n_jobs=-1)]: Done   1 out of   1 | elapsed:   23.8s finished\n"
     ]
    }
   ],
   "source": [
    "# predict\n",
    "classifier = LogisticRegression(multi_class='multinomial', solver='lbfgs', random_state=42, verbose=1, max_iter=1000, n_jobs=-1)\n",
    "classifier.fit(train_dataset_reshape, train_labels_reshape)\n",
    "valid_score = classifier.score(valid_dataset_reshape, valid_labels_reshape)\n",
    "test_score = classifier.score(test_dataset_reshape, test_labels_reshape)"
   ]
  },
  {
   "cell_type": "code",
   "execution_count": 27,
   "metadata": {},
   "outputs": [],
   "source": [
    "# test prediction\n",
    "predictions = classifier.predict(valid_dataset_reshape)\n",
    "labels = valid_labels_reshape.reshape(-1)"
   ]
  },
  {
   "cell_type": "code",
   "execution_count": 28,
   "metadata": {},
   "outputs": [
    {
     "data": {
      "text/plain": [
       "(10000, 28, 28)"
      ]
     },
     "execution_count": 28,
     "metadata": {},
     "output_type": "execute_result"
    }
   ],
   "source": [
    "train_dataset.shape"
   ]
  },
  {
   "cell_type": "code",
   "execution_count": 29,
   "metadata": {},
   "outputs": [
    {
     "name": "stdout",
     "output_type": "stream",
     "text": [
      "Final RMSE (on test data): 1.95\n",
      "Accuracy (on test data): 78.36\n",
      "Score (on validation data): 0.78\n",
      "Score (on test data): 0.86\n",
      "Classification report for classifier LogisticRegression(C=1.0, class_weight=None, dual=False, fit_intercept=True,\n",
      "          intercept_scaling=1, max_iter=1000, multi_class='multinomial',\n",
      "          n_jobs=-1, penalty='l2', random_state=42, solver='lbfgs',\n",
      "          tol=0.0001, verbose=1, warm_start=False):\n",
      "              precision    recall  f1-score   support\n",
      "\n",
      "           a       0.81      0.80      0.81      1000\n",
      "           b       0.83      0.74      0.78      1000\n",
      "           c       0.80      0.84      0.82      1000\n",
      "           d       0.78      0.79      0.79      1000\n",
      "           e       0.76      0.74      0.75      1000\n",
      "           f       0.79      0.83      0.81      1000\n",
      "           g       0.80      0.77      0.78      1000\n",
      "           h       0.78      0.77      0.78      1000\n",
      "           i       0.70      0.76      0.73      1000\n",
      "           j       0.79      0.79      0.79      1000\n",
      "\n",
      "   micro avg       0.78      0.78      0.78     10000\n",
      "   macro avg       0.78      0.78      0.78     10000\n",
      "weighted avg       0.78      0.78      0.78     10000\n",
      "\n",
      "\n",
      "Confusion matrix:\n",
      "[[802  15  13  28  14  22  11  41  31  23]\n",
      " [ 16 743  15  46  42  28  23  28  44  15]\n",
      " [  9  11 837  11  37  13  33  12  27  10]\n",
      " [ 19  35  19 793  13  22  22  23  26  28]\n",
      " [ 16  18  65  15 738  35  26  25  51  11]\n",
      " [ 17  13  16  13  27 831  16  16  30  21]\n",
      " [ 19  22  50  19  34  17 769  21  20  29]\n",
      " [ 40  14   7  28  23  32  22 772  35  27]\n",
      " [ 24  20  15  25  36  24  21  26 761  48]\n",
      " [ 25   5  14  33   7  32  18  21  55 790]]\n"
     ]
    },
    {
     "data": {
      "image/png": "[encoded data removed]",
      "text/plain": [
       "<Figure size 432x288 with 8 Axes>"
      ]
     },
     "metadata": {
      "needs_background": "light"
     },
     "output_type": "display_data"
    }
   ],
   "source": [
    "rmse = math.sqrt(metrics.mean_squared_error(predictions,labels))\n",
    "confusion_matrix = metrics.confusion_matrix(labels, predictions)\n",
    "\n",
    "accuracy = (predictions == labels).sum()*100.0/samples\n",
    "print('Final RMSE (on test data): %0.2f' % rmse)\n",
    "print('Accuracy (on test data): %0.2f' % accuracy)\n",
    "print('Score (on validation data): %.2f' % valid_score)\n",
    "print('Score (on test data): %.2f' % test_score)\n",
    "\n",
    "print(\"Classification report for classifier %s:\\n%s\\n\"\n",
    "      % (classifier, metrics.classification_report(labels, predictions, target_names = list(string.ascii_lowercase)[:10])))\n",
    "print(\"Confusion matrix:\\n%s\" % confusion_matrix)\n",
    "\n",
    "letter_dict = dict(zip(string.ascii_lowercase, range(26)))\n",
    "images_and_labels = list(zip(train_dataset, train_labels))\n",
    "max_image = 4\n",
    "for index, (image, label) in enumerate(images_and_labels[:max_image]):\n",
    "    plt.subplot(2,max_image,index+1)\n",
    "    plt.axis('off')\n",
    "    plt.imshow(image, cmap=plt.cm.gray_r, interpolation='nearest')\n",
    "    plt.title('Training: %s' % list(letter_dict.keys())[list(letter_dict.values()).index(label)]) \n",
    "    \n",
    "images_and_labels = list(zip(valid_dataset, predictions))\n",
    "for index, (image, label) in enumerate(images_and_labels[:max_image]):\n",
    "    plt.subplot(2,max_image,index+max_image+1)\n",
    "    plt.axis('off')\n",
    "    plt.imshow(image, cmap=plt.cm.gray_r, interpolation='nearest')\n",
    "    plt.title('Prediction: %s' % list(letter_dict.keys())[list(letter_dict.values()).index(label)])"
   ]
  },
  {
   "cell_type": "markdown",
   "metadata": {},
   "source": [
    "## Optional question: \n",
    "Train an off-the-shelf model on all the data!"
   ]
  },
  {
   "cell_type": "code",
   "execution_count": 33,
   "metadata": {},
   "outputs": [
    {
     "name": "stderr",
     "output_type": "stream",
     "text": [
      "/home/othniel/anaconda3/envs/dp/lib/python3.6/site-packages/sklearn/utils/validation.py:761: DataConversionWarning: A column-vector y was passed when a 1d array was expected. Please change the shape of y to (n_samples, ), for example using ravel().\n",
      "  y = column_or_1d(y, warn=True)\n",
      "[Parallel(n_jobs=-1)]: Using backend LokyBackend with 8 concurrent workers.\n",
      "[Parallel(n_jobs=-1)]: Done   1 out of   1 | elapsed:  7.6min finished\n"
     ]
    },
    {
     "name": "stdout",
     "output_type": "stream",
     "text": [
      "Final RMSE (on test data): 1.73\n",
      "Score (on validation data): 0.83\n",
      "Score (on test data): 0.90\n",
      "Classification report for classifier LogisticRegression(C=1.0, class_weight=None, dual=False, fit_intercept=True,\n",
      "          intercept_scaling=1, max_iter=1000, multi_class='multinomial',\n",
      "          n_jobs=-1, penalty='l2', random_state=42, solver='lbfgs',\n",
      "          tol=0.0001, verbose=1, warm_start=False):\n",
      "              precision    recall  f1-score   support\n",
      "\n",
      "           a       0.86      0.84      0.85      1000\n",
      "           b       0.84      0.81      0.82      1000\n",
      "           c       0.86      0.87      0.87      1000\n",
      "           d       0.85      0.85      0.85      1000\n",
      "           e       0.83      0.78      0.80      1000\n",
      "           f       0.84      0.88      0.86      1000\n",
      "           g       0.84      0.83      0.83      1000\n",
      "           h       0.82      0.83      0.82      1000\n",
      "           i       0.76      0.79      0.77      1000\n",
      "           j       0.83      0.83      0.83      1000\n",
      "\n",
      "   micro avg       0.83      0.83      0.83     10000\n",
      "   macro avg       0.83      0.83      0.83     10000\n",
      "weighted avg       0.83      0.83      0.83     10000\n",
      "\n",
      "\n",
      "Confusion matrix:\n",
      "[[844  11  10  19  12  19  14  32  23  16]\n",
      " [  7 809  12  39  22  22  14  29  30  16]\n",
      " [  9  11 874   5  29   3  26  12  25   6]\n",
      " [ 12  32   7 850  12  21  14  20  14  18]\n",
      " [ 16  22  47   9 776  26  32  18  43  11]\n",
      " [ 12  13  12  10  11 875  18  14  21  14]\n",
      " [ 17  18  25   9  20  19 833  17  22  20]\n",
      " [ 26  21   9  14  20  19  13 826  31  21]\n",
      " [ 20  21  14  20  21  18  22  23 792  49]\n",
      " [ 19   5   9  25   7  22  11  19  48 835]]\n"
     ]
    },
    {
     "data": {
      "image/png": "[encoded data removed]",
      "text/plain": [
       "<Figure size 432x288 with 8 Axes>"
      ]
     },
     "metadata": {
      "needs_background": "light"
     },
     "output_type": "display_data"
    }
   ],
   "source": [
    "train_dataset = dataset['train_dataset']\n",
    "valid_dataset = dataset['valid_dataset']\n",
    "test_dataset = dataset['test_dataset']\n",
    "train_labels = dataset['train_labels']\n",
    "valid_labels = dataset['valid_labels']\n",
    "test_labels = dataset['test_labels']\n",
    "\n",
    "\n",
    "\n",
    "# reshape data for sklearn library\n",
    "samples, img_width, img_height = train_dataset.shape\n",
    "label_size = train_labels.shape\n",
    "train_dataset_reshape = train_dataset.reshape((samples, img_width*img_height))\n",
    "train_labels_reshape = train_labels.reshape((samples, -1))\n",
    "samples, img_width, img_height = valid_dataset.shape\n",
    "label_size = train_labels.shape\n",
    "valid_dataset_reshape = valid_dataset.reshape((samples,img_width*img_height))\n",
    "valid_labels_reshape = valid_labels.reshape((samples, -1))\n",
    "samples, img_width, img_height = test_dataset.shape\n",
    "label_size = train_labels.shape\n",
    "test_dataset_reshape = test_dataset.reshape((samples, img_width*img_height))\n",
    "test_labels_reshape = test_labels.reshape((samples, -1))\n",
    "\n",
    "# predict\n",
    "classifier = LogisticRegression(multi_class='multinomial', solver='lbfgs', random_state=42, verbose=1, max_iter=1000, n_jobs=-1)\n",
    "classifier.fit(train_dataset_reshape, train_labels_reshape)\n",
    "valid_score = classifier.score(valid_dataset_reshape, valid_labels_reshape)\n",
    "test_score = classifier.score(test_dataset_reshape, test_labels_reshape)\n",
    "\n",
    "# test prediction\n",
    "predictions = classifier.predict(valid_dataset_reshape)\n",
    "labels = valid_labels_reshape.reshape(-1)\n",
    "\n",
    "rmse = math.sqrt(metrics.mean_squared_error(predictions,labels))\n",
    "confusion_matrix = metrics.confusion_matrix(labels, predictions)\n",
    "\n",
    "print('Final RMSE (on test data): %0.2f' % rmse)\n",
    "print('Score (on validation data): %.2f' % valid_score)\n",
    "print('Score (on test data): %.2f' % test_score)\n",
    "\n",
    "print(\"Classification report for classifier %s:\\n%s\\n\"\n",
    "      % (classifier, metrics.classification_report(labels, predictions, target_names = list(string.ascii_lowercase)[:10])))\n",
    "print(\"Confusion matrix:\\n%s\" % confusion_matrix)\n",
    "\n",
    "letter_dict = dict(zip(string.ascii_lowercase, range(26)))\n",
    "images_and_labels = list(zip(train_dataset, train_labels))\n",
    "max_image = 4\n",
    "for index, (image, label) in enumerate(images_and_labels[:max_image]):\n",
    "    plt.subplot(2,max_image,index+1)\n",
    "    plt.axis('off')\n",
    "    plt.imshow(image, cmap=plt.cm.gray_r, interpolation='nearest')\n",
    "    plt.title('Training: %s' % list(letter_dict.keys())[list(letter_dict.values()).index(label)]) \n",
    "    \n",
    "images_and_labels = list(zip(valid_dataset, predictions))\n",
    "for index, (image, label) in enumerate(images_and_labels[:max_image]):\n",
    "    plt.subplot(2,max_image,index+max_image+1)\n",
    "    plt.axis('off')\n",
    "    plt.imshow(image, cmap=plt.cm.gray_r, interpolation='nearest')\n",
    "    plt.title('Prediction: %s' % list(letter_dict.keys())[list(letter_dict.values()).index(label)])"
   ]
  },
  {
   "cell_type": "code",
   "execution_count": null,
   "metadata": {},
   "outputs": [],
   "source": []
  }
 ],
 "metadata": {
  "kernelspec": {
   "display_name": "Python 3",
   "language": "python",
   "name": "python3"
  },
  "language_info": {
   "codemirror_mode": {
    "name": "ipython",
    "version": 3
   },
   "file_extension": ".py",
   "mimetype": "text/x-python",
   "name": "python",
   "nbconvert_exporter": "python",
   "pygments_lexer": "ipython3",
   "version": "3.6.8"
  }
 },
 "nbformat": 4,
 "nbformat_minor": 2
}

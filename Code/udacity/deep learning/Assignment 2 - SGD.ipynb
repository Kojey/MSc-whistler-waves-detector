{
 "cells": [
  {
   "cell_type": "markdown",
   "metadata": {},
   "source": [
    "# Deep learning\n",
    "## Assignment 2\n",
    "Previously in Assignment 1, we created a pickle with formatted datasets for training, development and testing on the notMNIST dataset.\n",
    "\n",
    "The goal of this assignment is to progressively train deeper and more accurate models using TensorFlow."
   ]
  },
  {
   "cell_type": "code",
   "execution_count": 14,
   "metadata": {},
   "outputs": [],
   "source": [
    "# These are all the modules we'll be using later. Make sure you can import them\n",
    "# before proceeding further.\n",
    "from __future__ import print_function\n",
    "import numpy as np\n",
    "import tensorflow as tf\n",
    "import matplotlib.pyplot as plt\n",
    "from six.moves import cPickle as pickle\n",
    "from six.moves import range"
   ]
  },
  {
   "cell_type": "markdown",
   "metadata": {},
   "source": [
    "First reload the data we generated in Assignment 1"
   ]
  },
  {
   "cell_type": "code",
   "execution_count": 15,
   "metadata": {},
   "outputs": [
    {
     "name": "stdout",
     "output_type": "stream",
     "text": [
      "Training set (200000, 28, 28) (200000,)\n",
      "Validation set (10000, 28, 28) (10000,)\n",
      "Test set (10000, 28, 28) (10000,)\n"
     ]
    }
   ],
   "source": [
    "pickle_file = 'notMNIST.pickle'\n",
    "\n",
    "with open(pickle_file, 'rb') as f:\n",
    "    load = pickle.load(f)\n",
    "    train_dataset = load['train_dataset']\n",
    "    train_labels = load['train_labels']\n",
    "    valid_dataset = load['valid_dataset']\n",
    "    valid_labels = load['valid_labels']\n",
    "    test_dataset = load['test_dataset']\n",
    "    test_labels = load['test_labels']\n",
    "    del load # to help gc free up memory\n",
    "    print('Training set', train_dataset.shape, train_labels.shape)\n",
    "    print('Validation set', valid_dataset.shape, valid_labels.shape)\n",
    "    print('Test set', test_dataset.shape, test_labels.shape)\n",
    "    "
   ]
  },
  {
   "cell_type": "markdown",
   "metadata": {},
   "source": [
    "reformat into shape that's more adapted to the models we're going to train:\n",
    "* data as flat matrix,\n",
    "* labels as float 1-hot encodings."
   ]
  },
  {
   "cell_type": "code",
   "execution_count": 16,
   "metadata": {},
   "outputs": [
    {
     "name": "stdout",
     "output_type": "stream",
     "text": [
      "Training set (200000, 784) (200000, 10)\n",
      "Validation set (10000, 784) (10000, 10)\n",
      "Test set (10000, 784) (10000, 10)\n"
     ]
    }
   ],
   "source": [
    "image_size = 28\n",
    "num_labels = 10\n",
    "\n",
    "def reformat(dataset, labels):\n",
    "    dataset = dataset.reshape((-1, image_size*image_size)).astype(np.float32)\n",
    "    # Map 0 to [1.0, 0.0, 0.0 ...], 1 to [0.0, 1.0, 0.0 ...]\n",
    "    labels = (np.arange(num_labels) == labels[:,None]).astype(np.float32)\n",
    "    return dataset, labels\n",
    "\n",
    "train_dataset, train_labels = reformat(train_dataset, train_labels)\n",
    "valid_dataset, valid_labels = reformat(valid_dataset, valid_labels)\n",
    "test_dataset, test_labels = reformat(test_dataset, test_labels)\n",
    "print('Training set', train_dataset.shape, train_labels.shape)\n",
    "print('Validation set', valid_dataset.shape, valid_labels.shape)\n",
    "print('Test set', test_dataset.shape, test_labels.shape)"
   ]
  },
  {
   "cell_type": "code",
   "execution_count": 17,
   "metadata": {},
   "outputs": [],
   "source": [
    "def accuracy(predictions, labels):\n",
    "    return (100.0*np.sum(np.argmax(predictions,1)==np.argmax(labels,1))/predictions.shape[0])"
   ]
  },
  {
   "cell_type": "markdown",
   "metadata": {},
   "source": [
    "### Softmax Logistic Regression with Gradient Descent\n",
    "We're fisrt going to train a multinomial logistic regrssion using simple gradient descent.\n",
    "TensorFlow works like this:\n",
    "* First to describe the computation that you want to see performed: what the inputs, the variables, and the operations look like. These get created as nodes over a computation graph. This description is all contained within the block below:\n",
    "```Python\n",
    "with graph.as_default():\n",
    "    ...\n",
    "```\n",
    "* Then you can run the operations on this graph as many times as you want by calling ```sesion.run()```, providing it outputs to fecth from the graph that get returned. This runtime operation is all contained in the block below:\n",
    "```Python \n",
    "with tf.Session(graph=graph) as session:\n",
    "    ...\n",
    "```"
   ]
  },
  {
   "cell_type": "markdown",
   "metadata": {},
   "source": [
    "**1. Load Data and Build Computation Graph**\n",
    "\n",
    "Let's load all the data into TensorFlow and build the computation graph corresponding to our training."
   ]
  },
  {
   "cell_type": "code",
   "execution_count": 18,
   "metadata": {},
   "outputs": [],
   "source": [
    "# With gradient descent training, even this much data is prohibitive.\n",
    "# Subset the training data for faster turnaround\n",
    "train_subset = 10000\n",
    "\n",
    "graph = tf.Graph()\n",
    "with graph.as_default():\n",
    "    '''INPUT DATA'''\n",
    "    # Load the training, validation and test data into constants that are\n",
    "    # attached to the graph.\n",
    "    tf_train_dataset = tf.constant(train_dataset[:train_subset,:])\n",
    "    tf_train_labels = tf.constant(train_labels[:train_subset])\n",
    "    tf_valid_dataset = tf.constant(valid_dataset)\n",
    "    tf_test_dataset = tf.constant(test_dataset)\n",
    "    \n",
    "    '''VARIABLES'''\n",
    "    # These are the parameters that we are going to be training. The weight\n",
    "    # matrix will be initialised using random values following a (truncated)\n",
    "    # normal distribution. The biases get initialized to zero.\n",
    "    weights = tf.Variable(tf.truncated_normal([image_size*image_size, num_labels]))\n",
    "    biases = tf.Variable(tf.zeros([num_labels]))\n",
    "    \n",
    "    '''TRAINING COMPUATION'''\n",
    "    # We multiply the inputs with the weight matrix, and add the biases. We compute\n",
    "    # the softmax bad cross-entropy (it's one operation in TernsorFlow, becaiuse\n",
    "    # it's very common, and it can be optimized). We take the average of this\n",
    "    # cross-entropy across all training examples: that's our loss.\n",
    "    logits = tf.matmul(tf_train_dataset, weights)+biases\n",
    "    loss = tf.reduce_mean(tf.nn.softmax_cross_entropy_with_logits_v2(labels=tf_train_labels, logits=logits))\n",
    "    \n",
    "    '''OPTIMIZER'''\n",
    "    # We are going to find the minimum of this loss using gradient descent.\n",
    "    optimizer = tf.train.GradientDescentOptimizer(0.5).minimize(loss)\n",
    "    \n",
    "    '''PREDICTIONS for the training, validation, and test data.'''\n",
    "    # These are not part of training, but merely here so that we can report \n",
    "    # accuracy figures as we train.\n",
    "    train_prediction = tf.nn.softmax(logits)\n",
    "    valid_prediction = tf.nn.softmax(tf.matmul(tf_valid_dataset, weights)+biases)\n",
    "    test_prediction = tf.nn.softmax(tf.matmul(tf_test_dataset, weights)+biases)"
   ]
  },
  {
   "cell_type": "markdown",
   "metadata": {},
   "source": [
    "**2. Run Computaion and Iterate**\n",
    "\n",
    "Let's run this computation and iterate:"
   ]
  },
  {
   "cell_type": "code",
   "execution_count": 19,
   "metadata": {},
   "outputs": [
    {
     "name": "stdout",
     "output_type": "stream",
     "text": [
      "Initialized\n",
      "Loss at step 0: 17.704384\n",
      "Training accuracy: 10.4%\n",
      "Validation accuracy: 12.3%\n",
      ".........................\n",
      "Loss at step 100: 2.141557\n",
      "Training accuracy: 72.1%\n",
      "Validation accuracy: 70.6%\n",
      ".........................\n",
      "Loss at step 200: 1.717070\n",
      "Training accuracy: 75.5%\n",
      "Validation accuracy: 73.1%\n",
      ".........................\n",
      "Loss at step 300: 1.492128\n",
      "Training accuracy: 77.3%\n",
      "Validation accuracy: 74.3%\n",
      ".........................\n",
      "Loss at step 400: 1.343678\n",
      "Training accuracy: 78.3%\n",
      "Validation accuracy: 74.8%\n",
      ".........................\n",
      "Loss at step 500: 1.234519\n",
      "Training accuracy: 78.8%\n",
      "Validation accuracy: 75.2%\n",
      ".........................\n",
      "Loss at step 600: 1.149114\n",
      "Training accuracy: 79.3%\n",
      "Validation accuracy: 75.3%\n",
      ".........................\n",
      "Loss at step 700: 1.079570\n",
      "Training accuracy: 79.8%\n",
      "Validation accuracy: 75.4%\n",
      ".........................\n",
      "Loss at step 800: 1.021425\n",
      "Training accuracy: 80.2%\n",
      "Validation accuracy: 75.5%\n",
      ".........................\n",
      "test accuracy: 83.5%\n"
     ]
    },
    {
     "data": {
      "image/png": "[encoded data removed]",
      "text/plain": [
       "<Figure size 432x288 with 2 Axes>"
      ]
     },
     "metadata": {
      "needs_background": "light"
     },
     "output_type": "display_data"
    }
   ],
   "source": [
    "num_steps = 801\n",
    "losses, train_acc, valid_acc = [],[],[]\n",
    "\n",
    "with tf.Session(graph=graph) as session:\n",
    "    # This is a one-time operation which ensures the parameters get initialized as \n",
    "    # we described in the graph: random weights for the matrix, zeros for the biases.\n",
    "    tf.global_variables_initializer().run()\n",
    "    print(\"Initialized\")\n",
    "    for step in range(num_steps):\n",
    "        # Run the computations. We tell .run() that we want to run the optimizer,\n",
    "        # and get the loss value and the predictions returned as numpy\n",
    "        # arrays\n",
    "        _, l, predictions = session.run([optimizer, loss, train_prediction])\n",
    "        if (step % 100 == 0):\n",
    "            losses.append(l)\n",
    "            print('Loss at step %d: %f' % (step,l))\n",
    "            acc = accuracy(predictions, train_labels[:train_subset, :])\n",
    "            train_acc.append(acc)\n",
    "            print('Training accuracy: %0.1f%%' % acc)\n",
    "            # calling .eval() on valid_prediction is basically like calling run(), but \n",
    "            # just to get that one numpy array. Note that it recomputes all its graph\n",
    "            # dependencies.\n",
    "            acc= accuracy(valid_prediction.eval(), valid_labels)\n",
    "            valid_acc.append(acc)\n",
    "            print('Validation accuracy: %.1f%%' % acc)\n",
    "            print('.'*25)\n",
    "    print('test accuracy: %.1f%%' % accuracy(test_prediction.eval(),test_labels))\n",
    "\n",
    "plt.subplot(1,2,1)\n",
    "plt.plot(losses)\n",
    "plt.legend(['losses'])\n",
    "plt.title('Losses over time')\n",
    "plt.subplot(1,2,2)\n",
    "plt.plot(train_acc)\n",
    "plt.plot(valid_acc)\n",
    "plt.title('Accuracy over time')\n",
    "plt.legend(['Training', 'Validation'])\n",
    "plt.show()"
   ]
  },
  {
   "cell_type": "markdown",
   "metadata": {},
   "source": [
    "### Stochastic Gradient Descent\n",
    "\n",
    "Let's now switch to stochastic gradient descent training instead, which is much faster.\n",
    "\n",
    "The graph will be similar, except that instead of holding all training data into a constant node, we create a Placeholder node which will be fed actual data at every all of session.run()"
   ]
  },
  {
   "cell_type": "markdown",
   "metadata": {},
   "source": [
    "**1. Load Data and Build Computation Graph**\n",
    "\n",
    "**Placeholders**\n",
    "* tf_train_dataset isn't a specific value.\n",
    "* It's a placeholder, a value that we'll input when we ask TensorFlow to run a computation.\n",
    "* We represent this 2-D tensor of floating-point numbers, with a shape ```[batch_size, image_size*image_size]```\n",
    "* If there is None, it means that a dimension can be of any length.\n"
   ]
  },
  {
   "cell_type": "code",
   "execution_count": 24,
   "metadata": {},
   "outputs": [],
   "source": [
    "batch_size = 128\n",
    "train_subset = 10000\n",
    "\n",
    "graph = tf.Graph()\n",
    "with graph.as_default():\n",
    "    # Input data for the training data, we use a placeholder that will be fed\n",
    "    # at run time with a training minibatch.\n",
    "    tf_train_dataset = tf.placeholder(tf.float32, shape=(batch_size, image_size*image_size))\n",
    "    tf_train_labels = tf.placeholder(tf.float32, shape=(batch_size, num_labels))\n",
    "    tf_valid_dataset = tf.constant(valid_dataset)\n",
    "    tf_test_dataset = tf.constant(test_dataset)\n",
    "    \n",
    "    # Variables.\n",
    "    weights = tf.Variable(tf.truncated_normal([image_size*image_size, num_labels]))\n",
    "    biases = tf.Variable(tf.zeros([num_labels]))\n",
    "    \n",
    "    # Training computation.\n",
    "    logits = tf.matmul(tf_train_dataset, weights)+biases\n",
    "    loss = tf.reduce_mean(tf.nn.softmax_cross_entropy_with_logits_v2(labels=tf_train_labels, logits=logits))\n",
    "    \n",
    "    # Optimizer\n",
    "    optimizer = tf.train.GradientDescentOptimizer(0.5).minimize(loss)\n",
    "    \n",
    "    # Predictions for the training, validation, and test data.\n",
    "    train_prediction = tf.nn.softmax(logits)\n",
    "    valid_prediction = tf.nn.softmax(tf.matmul(tf_valid_dataset, weights)+biases)\n",
    "    test_prediction = tf.nn.softmax(tf.matmul(tf_test_dataset, weights)+biases)\n",
    "    "
   ]
  },
  {
   "cell_type": "markdown",
   "metadata": {},
   "source": [
    "**2. Run Computation and Interrate**\n",
    "\n",
    "let's run this computation and Iterate:"
   ]
  },
  {
   "cell_type": "code",
   "execution_count": 26,
   "metadata": {
    "scrolled": true
   },
   "outputs": [
    {
     "name": "stdout",
     "output_type": "stream",
     "text": [
      "Initialized\n",
      "Loss at step 0: 17.150896\n",
      "Training accuracy: 11.7%\n",
      "Validation accuracy: 12.6%\n",
      ".........................\n",
      "Loss at step 500: 1.780329\n",
      "Training accuracy: 74.2%\n",
      "Validation accuracy: 75.5%\n",
      ".........................\n",
      "Loss at step 1000: 1.112576\n",
      "Training accuracy: 78.9%\n",
      "Validation accuracy: 76.7%\n",
      ".........................\n",
      "Loss at step 1500: 0.811056\n",
      "Training accuracy: 84.4%\n",
      "Validation accuracy: 77.4%\n",
      ".........................\n",
      "Loss at step 2000: 0.714929\n",
      "Training accuracy: 82.8%\n",
      "Validation accuracy: 78.0%\n",
      ".........................\n",
      "Loss at step 2500: 0.943676\n",
      "Training accuracy: 75.8%\n",
      "Validation accuracy: 77.7%\n",
      ".........................\n",
      "Loss at step 3000: 0.945463\n",
      "Training accuracy: 74.2%\n",
      "Validation accuracy: 78.8%\n",
      ".........................\n",
      "test accuracy: 85.9%\n"
     ]
    },
    {
     "data": {
      "image/png": "[encoded data removed]",
      "text/plain": [
       "<Figure size 432x288 with 2 Axes>"
      ]
     },
     "metadata": {
      "needs_background": "light"
     },
     "output_type": "display_data"
    }
   ],
   "source": [
    "num_epochs = 3001\n",
    "losses, train_acc, valid_acc = [],[],[]\n",
    "\n",
    "with tf.Session(graph=graph) as session:\n",
    "    tf.global_variables_initializer().run()\n",
    "    print('Initialized')\n",
    "    for epoch in range(num_epochs):\n",
    "        # Pick an offset within the training data, which has been randomized.\n",
    "        # Note: we could use better randomization across epochs.\n",
    "        offset = (epoch*batch_size)%(train_labels.shape[0]-batch_size)\n",
    "        # Generate a minibatch.\n",
    "        batch_data = train_dataset[offset:(offset+batch_size), :]\n",
    "        batch_labels = train_labels[offset:(offset+batch_size), :]\n",
    "        # Prepare a dictionary telling the session where to feed the minibatch.\n",
    "        # The key of the dictionary is the placholder node of the graph to be fed,\n",
    "        # and the value is the numpy array to feed to it.\n",
    "        feed_dict = {tf_train_dataset: batch_data, tf_train_labels: batch_labels}\n",
    "        _, l, predictions = session.run([optimizer, loss, train_prediction], feed_dict=feed_dict)\n",
    "        if (epoch%500==0):\n",
    "            losses.append(l)\n",
    "            print('Loss at step %d: %f' % (epoch,l))\n",
    "            acc = accuracy(predictions, batch_labels)\n",
    "            train_acc.append(acc)\n",
    "            print('Training accuracy: %0.1f%%' % acc)\n",
    "            # calling .eval() on valid_prediction is basically like calling run(), but \n",
    "            # just to get that one numpy array. Note that it recomputes all its graph\n",
    "            # dependencies.\n",
    "            acc= accuracy(valid_prediction.eval(), valid_labels)\n",
    "            valid_acc.append(acc)\n",
    "            print('Validation accuracy: %.1f%%' % acc)\n",
    "            print('.'*25)\n",
    "    print('test accuracy: %.1f%%' % accuracy(test_prediction.eval(),test_labels))\n",
    "\n",
    "plt.subplot(1,2,1)\n",
    "plt.plot(losses)\n",
    "plt.legend(['losses'])\n",
    "plt.title('Losses over time')\n",
    "plt.subplot(1,2,2)\n",
    "plt.plot(train_acc)\n",
    "plt.plot(valid_acc)\n",
    "plt.title('Accuracy over time')\n",
    "plt.legend(['Training', 'Validation'])\n",
    "plt.show()"
   ]
  },
  {
   "cell_type": "markdown",
   "metadata": {},
   "source": [
    "### Offset Explanation\n",
    "\n",
    "* The offset gives an arithmetic sequence within each epoch and different offsets can be obtained among different epochs.\n",
    "    * Epoch:\n",
    "         * Measure of the number of times all of the training vectors are used once to update the weights.\n",
    "         * For batch training, all of the training samples pass through the learning algorithm simultaneously in one epoch before weights are updated.\n",
    "         * For sequential training, all of the weights are updated after each training vector is sequentially passed through the training algorithm.\n",
    "* The expression for the offset generates a cyclic group of numbers. These offsets make each mini-batch different from each other not only within each epoch but also among epochs.\n",
    "* The reason why we randomly shift the batch_data is that if you sample a dataset according to a distribution P enough times, then you can estimate the expectation value for the dataset. In other words, you can estimate the loss function over the training dataset by randomly choosing each mini-batch dataset.\n",
    "* Example: batch_size = 3 and size of train_labels = 100:\n",
    "   * steps = 1,2,...,32\n",
    "       * offset = 3,6,...,96\n",
    "   *  steps = 33,34,...,64\n",
    "       * offset = 2,5,..,95\n",
    "   * for steps = 65,66,...,96\n",
    "       * offset = 1,4,..,94, and so on.\n",
    "\n"
   ]
  },
  {
   "cell_type": "markdown",
   "metadata": {},
   "source": [
    "## Problem\n",
    "Turn the logistic regression example with SGD into a 1-hidden layer neural network with rectified linear units [nn.relu()](https://www.tensorflow.org/api_docs/python/tf/nn#relu) and 1024 hidden nodes. This model should improve your validation / test accuracy."
   ]
  },
  {
   "cell_type": "code",
   "execution_count": 28,
   "metadata": {},
   "outputs": [],
   "source": [
    "batch_size = 128\n",
    "num_nodes = 1024\n",
    "\n",
    "graph = tf.Graph()\n",
    "with graph.as_default():\n",
    "    # Input data for the training data, we use a placeholder that will be fed\n",
    "    # at run time with a training minibatch.\n",
    "    tf_train_dataset = tf.placeholder(tf.float32, shape=(batch_size, image_size*image_size))\n",
    "    tf_train_labels = tf.placeholder(tf.float32, shape=(batch_size, num_labels))\n",
    "    tf_valid_dataset = tf.constant(valid_dataset)\n",
    "    tf_test_dataset = tf.constant(test_dataset)\n",
    "    \n",
    "    # Variables.\n",
    "    weights_1 = tf.Variable(tf.truncated_normal([image_size*image_size, num_nodes]))\n",
    "    biases_1 = tf.Variable(tf.zeros([num_nodes]))\n",
    "    weights_2 = tf.Variable(tf.truncated_normal([num_nodes, num_labels]))\n",
    "    biases_2 = tf.Variable(tf.zeros([num_labels]))\n",
    "    \n",
    "    # Training ReLU layer.\n",
    "    logits_1 = tf.matmul(tf_train_dataset, weights_1)+biases_1\n",
    "    relu_layer = tf.nn.relu(logits_1)\n",
    "    logits_2 = tf.matmul(relu_layer, weights_2)+biases_2\n",
    "    loss = tf.reduce_mean(tf.nn.softmax_cross_entropy_with_logits_v2(labels=tf_train_labels, logits=logits_2))    \n",
    "    \n",
    "    # Optimizer\n",
    "    optimizer = tf.train.GradientDescentOptimizer(0.5).minimize(loss)\n",
    "    \n",
    "    # Predictions for the training data.\n",
    "    train_prediction = tf.nn.softmax(logits_2)\n",
    "    \n",
    "    # Predictions for validation data.\n",
    "    logits_1 = tf.matmul(tf_valid_dataset, weights_1)+biases_1\n",
    "    relu_layer = tf.nn.relu(logits_1)\n",
    "    logits_2 = tf.matmul(relu_layer, weights_2)+biases_2\n",
    "    valid_prediction = tf.nn.softmax(logits_2)\n",
    "    \n",
    "    # Predictions for test data.\n",
    "    logits_1 = tf.matmul(tf_test_dataset, weights_1)+biases_1\n",
    "    relu_layer = tf.nn.relu(logits_1)\n",
    "    logits_2 = tf.matmul(relu_layer, weights_2)+biases_2\n",
    "    test_prediction = tf.nn.softmax(logits_2)"
   ]
  },
  {
   "cell_type": "code",
   "execution_count": 29,
   "metadata": {},
   "outputs": [
    {
     "name": "stdout",
     "output_type": "stream",
     "text": [
      "Initialized\n",
      "Loss at step 0: 355.797180\n",
      "Training accuracy: 11.7%\n",
      "Validation accuracy: 32.6%\n",
      ".........................\n",
      "Loss at step 500: 18.746025\n",
      "Training accuracy: 79.7%\n",
      "Validation accuracy: 81.1%\n",
      ".........................\n",
      "Loss at step 1000: 6.488556\n",
      "Training accuracy: 84.4%\n",
      "Validation accuracy: 80.6%\n",
      ".........................\n",
      "Loss at step 1500: 15.228055\n",
      "Training accuracy: 83.6%\n",
      "Validation accuracy: 80.5%\n",
      ".........................\n",
      "Loss at step 2000: 1.089463\n",
      "Training accuracy: 85.9%\n",
      "Validation accuracy: 81.7%\n",
      ".........................\n",
      "Loss at step 2500: 3.883020\n",
      "Training accuracy: 82.0%\n",
      "Validation accuracy: 81.5%\n",
      ".........................\n",
      "Loss at step 3000: 15.026422\n",
      "Training accuracy: 71.1%\n",
      "Validation accuracy: 77.8%\n",
      ".........................\n",
      "test accuracy: 84.8%\n"
     ]
    },
    {
     "data": {
      "image/png": "[encoded data removed]",
      "text/plain": [
       "<Figure size 432x288 with 2 Axes>"
      ]
     },
     "metadata": {
      "needs_background": "light"
     },
     "output_type": "display_data"
    }
   ],
   "source": [
    "num_steps = 3001\n",
    "losses, train_acc, valid_acc = [],[],[]\n",
    "\n",
    "with tf.Session(graph=graph) as session:\n",
    "    tf.global_variables_initializer().run()\n",
    "    print('Initialized')\n",
    "    for step in range(num_steps):\n",
    "        # Pick an offset within the training data, which has been randomized.\n",
    "        # Note: we could use better randomization across epochs.\n",
    "        offset = (step*batch_size)%(train_labels.shape[0]-batch_size)\n",
    "        # Generate a minibatch.\n",
    "        batch_data = train_dataset[offset:(offset+batch_size), :]\n",
    "        batch_labels = train_labels[offset:(offset+batch_size), :]\n",
    "        # Prepare a dictionary telling the session where to feed the minibatch.\n",
    "        # The key of the dictionary is the placholder node of the graph to be fed,\n",
    "        # and the value is the numpy array to feed to it.\n",
    "        feed_dict = {tf_train_dataset: batch_data, tf_train_labels: batch_labels}\n",
    "        _, l, predictions = session.run([optimizer, loss, train_prediction], feed_dict=feed_dict)\n",
    "        if (step%500==0):\n",
    "            losses.append(l)\n",
    "            print('Loss at step %d: %f' % (step,l))\n",
    "            acc = accuracy(predictions, batch_labels)\n",
    "            train_acc.append(acc)\n",
    "            print('Training accuracy: %0.1f%%' % acc)\n",
    "            # calling .eval() on valid_prediction is basically like calling run(), but \n",
    "            # just to get that one numpy array. Note that it recomputes all its graph\n",
    "            # dependencies.\n",
    "            acc= accuracy(valid_prediction.eval(), valid_labels)\n",
    "            valid_acc.append(acc)\n",
    "            print('Validation accuracy: %.1f%%' % acc)\n",
    "            print('.'*25)\n",
    "    print('test accuracy: %.1f%%' % accuracy(test_prediction.eval(),test_labels))\n",
    "\n",
    "plt.subplot(1,2,1)\n",
    "plt.plot(losses)\n",
    "plt.legend(['losses'])\n",
    "plt.title('Losses over time')\n",
    "plt.subplot(1,2,2)\n",
    "plt.plot(train_acc)\n",
    "plt.plot(valid_acc)\n",
    "plt.title('Accuracy over time')\n",
    "plt.legend(['Training', 'Validation'])\n",
    "plt.show()"
   ]
  },
  {
   "cell_type": "code",
   "execution_count": null,
   "metadata": {},
   "outputs": [],
   "source": []
  }
 ],
 "metadata": {
  "kernelspec": {
   "display_name": "Python 3",
   "language": "python",
   "name": "python3"
  },
  "language_info": {
   "codemirror_mode": {
    "name": "ipython",
    "version": 3
   },
   "file_extension": ".py",
   "mimetype": "text/x-python",
   "name": "python",
   "nbconvert_exporter": "python",
   "pygments_lexer": "ipython3",
   "version": "3.6.8"
  }
 },
 "nbformat": 4,
 "nbformat_minor": 2
}

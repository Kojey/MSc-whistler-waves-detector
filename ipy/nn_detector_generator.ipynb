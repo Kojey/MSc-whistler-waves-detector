{
 "cells": [
  {
   "cell_type": "code",
   "execution_count": 1,
   "metadata": {},
   "outputs": [],
   "source": [
    "from __future__ import division\n",
    "\n",
    "import sys\n",
    "import os\n",
    "import h5py\n",
    "import glob\n",
    "import tqdm\n",
    "import time \n",
    "import pickle\n",
    "import numpy as np\n",
    "from math import sqrt\n",
    "from matplotlib import image\n",
    "import matplotlib.pyplot as plt\n",
    "import multiprocessing as mp\n",
    "# from keras.models import load_model\n",
    "\n",
    "# import python library\n",
    "sys.path.append(os.path.join(os.getcwd().split(os.environ.get('USER'))[0],os.environ.get('USER'), 'wdml', 'py'))\n",
    "\n",
    "from nn_detector import NeuralNetworkDetector\n",
    "from database import Database\n",
    "from sample import Sample\n",
    "from dataset_simulation import DatasetSimulation\n",
    "\n",
    "class NNDetectorGenerator(NeuralNetworkDetector):\n",
    "    \n",
    "    \n",
    "    # Initializer\n",
    "    def __init__(self, dataset_location, database_location, result_location, site, transforms, transforms_params, model_name):\n",
    "        self.__result_location = result_location\n",
    "        super().__init__(dataset_location, database_location, site, transforms, transforms_params)\n",
    "        # load model\n",
    "        self.load_model(name=model_name)\n",
    "        self.load_scaler(name=model_name)\n",
    "    \n",
    "    ###################################\n",
    "    \"\"\"CROSS-CORRELATION GENERATIONS\"\"\"\n",
    "    \n",
    "    def get_confusion_matrix_(self, params):\n",
    "        return self.get_confusion_matrix(file=params[0],thresh=params[1],time_err=params[2])\n",
    "    \n",
    "    def get_confusion_matrix(self, file,thresh, time_err):\n",
    "        bboxes = self.detection_bounding_boxes(file, thresh=thresh, concav=True, concav_window=0.05,concav_error=-0.0, time_error=1)\n",
    "        confusion_matrix = self.confusion_matrix(file, bboxes,time_err=time_err)\n",
    "        return file, confusion_matrix\n",
    "    \n",
    "    def dataset_nn_classification_gen(self, train=True, n=None, time_err=1, force=False, thresh=0.5):\n",
    "        \"\"\"Generate cross-correlation of all sample and save it to a file\n",
    "        Param\n",
    "            \"\"\"\n",
    "        # check if file already exist\n",
    "        t_name = '('+','.join([str(self.get_transforms()),str(self.get_transforms_params())])+')'\n",
    "        p_name = '('+','.join([str(train),str(n),str(thresh),str(time_err)])+')'\n",
    "        file_name = '_'.join([t_name,p_name])\n",
    "        file_name += '.results'\n",
    "        path = os.path.join(self.__result_location,self.get_site(), 'nn')\n",
    "        if os.path.exists(os.path.join(path,file_name)) and not force:\n",
    "            print('%s already exists'%file_name)\n",
    "            return\n",
    "        # get samples\n",
    "        files = Database.get_train(self) if train else Database.get_test(self)\n",
    "        # get results\n",
    "        params = [[file, thresh,time_err] for file in files][:n]\n",
    "        results = {}\n",
    "        confusion_matrix = [0,0,0,0]\n",
    "        for param in tqdm.tqdm(params):\n",
    "            file, result = self.get_confusion_matrix_(param)\n",
    "            for i in range(len(result)):\n",
    "                confusion_matrix[i]+=len(result[i])\n",
    "            results[str(file)]=result\n",
    "        \"\"\"Save results\"\"\"\n",
    "        #create parameters dictionary\n",
    "        data = {\n",
    "            'transforms': self.get_transforms(), 'transforms_params': self.get_transforms_params(), \n",
    "            'train': train, 'n':n, 'time error':time_err, 'threshold':thresh,\n",
    "            'confusion matrix': confusion_matrix,\n",
    "            'results': results\n",
    "        }\n",
    "        path = os.path.join(self.__result_location,self.get_site(), 'nn')\n",
    "        try:\n",
    "            os.makedirs(path)\n",
    "        except OSError:\n",
    "            pass\n",
    "        t_name = '('+','.join([str(self.get_transforms()),str(self.get_transforms_params())])+')'\n",
    "        p_name = '('+','.join([str(train),str(n),str(thresh),str(time_err)])+')'\n",
    "        file_name = '_'.join([t_name,p_name])\n",
    "        file_name += '.results'\n",
    "        pickle.dump(data, open(os.path.join(path,file_name), 'wb'))\n",
    "    \n",
    "    def dataset_nn_classification_load(self,  train=True, n=None, time_err=1, force=False, thresh=0.5):\n",
    "        \"\"\"Load saved result containing all correlation\"\"\"\n",
    "        t_name = '('+','.join([str(self.get_transforms()),str(self.get_transforms_params())])+')'\n",
    "        p_name = '('+','.join([str(train),str(n),str(thresh),str(time_err)])+')'\n",
    "        file_name = '_'.join([t_name,p_name])\n",
    "        file_name += '.results'\n",
    "        path = os.path.join(self.__result_location,self.get_site(), 'nn',file_name)\n",
    "        if not os.path.exists(path):\n",
    "            raise Exception('%s does not exists.'%path)\n",
    "        return pickle.load( open(path, \"rb\"))\n",
    "    \n",
    "    def confusion_matrix(self, file, bboxes, time_err=1, threshold=0):\n",
    "        \"\"\"True positive if 5kHz time falls within bbox\"\"\"\n",
    "        sample = Sample(self.get_dataset_location(), self.get_site(),file)\n",
    "        awd_output = list(sample.awda_whistlers(time_err, threshold=threshold)[0][:,0])\n",
    "        bboxes = list(bboxes)\n",
    "        tp,fp,tn,fn = [], [] ,[], []\n",
    "        bboxes_found_ix = []\n",
    "        for awd_5kHz_time in awd_output:\n",
    "            awd_found = False\n",
    "            ix = 0\n",
    "            for bbox in bboxes:\n",
    "                if bbox[1]<= awd_5kHz_time <= bbox[2]:\n",
    "                    tp.append(awd_5kHz_time)\n",
    "                    awd_found = True\n",
    "                    bboxes_found_ix.append(ix)\n",
    "                ix+=1\n",
    "            if not awd_found: \n",
    "                fn.append(awd_5kHz_time)  \n",
    "        fp = [bbox[1] for bbox in np.delete(np.array(bboxes), bboxes_found_ix, axis=0)]\n",
    "        return [list(set(tp)), list(set(fp)), list(set(fn)), list(set(tn))]\n",
    "    \n",
    "    def performance(self, confusion_matrix):\n",
    "        tp,fp,fn,tn = confusion_matrix\n",
    "        precision = tp/(tp+fp)\n",
    "        recall = tp/(tp+fn)\n",
    "        f1_score = 2*(precision*recall/(precision+recall))\n",
    "        g_measure = sqrt((tp/(tp+fp))*(tp/(tp+fn)))\n",
    "        result = {\n",
    "            'recall': np.round(recall,3),\n",
    "            'precision': np.round(precision,3),\n",
    "            'f1 score': np.round(f1_score,3),\n",
    "            'g measure': np.round(g_measure,3),\n",
    "            'false alarm': np.round(1-precision,3),\n",
    "            'misdetection': np.round(1-recall,3)\n",
    "        }\n",
    "        return result\n",
    "    \n",
    "    def f(params):\n",
    "        return None,0"
   ]
  },
  {
   "cell_type": "code",
   "execution_count": 2,
   "metadata": {},
   "outputs": [],
   "source": [
    "# dataset_loc = os.path.join(os.getcwd().split(os.environ.get('USER'))[0],os.environ.get('USER'), 'wdml', 'data','datasets', 'awdEvents1')\n",
    "# database_loc = os.path.join(os.getcwd().split(os.environ.get('USER'))[0],os.environ.get('USER'), 'wdml', 'data','databases', 'awdEvents1')\n",
    "# dataset_sim_loc = os.path.join(os.getcwd().split(os.environ.get('USER'))[0],os.environ.get('USER'), 'wdml', 'data','datasets', 'simulations', 'simple' ,'whistler')\n",
    "# result_loc = os.path.join(os.getcwd().split(os.environ.get('USER'))[0],os.environ.get('USER'), 'wdml', 'data','results', 'awdEvents1')\n",
    "# site = 'marion'\n",
    "# transforms,transforms_params = 'zscore',None \n",
    "# model_name = 'cnn-3conv-2dense-4dropout-100epochs'\n",
    "# nn_detector_gen = NNDetectorGenerator(dataset_loc, database_loc, result_loc, site, transforms, transforms_params, model_name)"
   ]
  },
  {
   "cell_type": "code",
   "execution_count": 3,
   "metadata": {},
   "outputs": [
    {
     "name": "stderr",
     "output_type": "stream",
     "text": [
      "100%|██████████| 5/5 [00:19<00:00,  3.90s/it]"
     ]
    },
    {
     "name": "stdout",
     "output_type": "stream",
     "text": [
      "{'transforms': 'zscore', 'transforms_params': None, 'train': True, 'n': 5, 'time error': 1, 'threshold': 0.8, 'confusion matrix': [17, 1, 5, 0], 'results': {'2013-07-07UT14:48:18.20771914.marion.vr2': [[5.3, 2.4, 2.9, 5.2], [5.4], [], []], '2013-06-28UT01:05:06.84771922.marion.vr2': [[0.3, 0.4, 0.6, 2.4, 0.5, 2.5], [], [0.2], []], '2013-07-10UT22:51:09.06211938.marion.vr2': [[2.5, 2.2, 2.4], [], [0.5], []], '2013-07-11UT01:19:10.57251938.marion.vr2': [[2.4], [], [0.5], []], '2013-07-02UT16:36:17.87491914.marion.vr2': [[2.4, 2.5, 2.6], [], [0.9, 1.1], []]}}\n",
      "[17, 1, 5, 0]\n",
      "{'recall': 0.773, 'precision': 0.944, 'f1 score': 0.85, 'g measure': 0.854, 'false alarm': 0.056, 'misdetection': 0.227}\n"
     ]
    },
    {
     "name": "stderr",
     "output_type": "stream",
     "text": [
      "\n"
     ]
    }
   ],
   "source": [
    "# n = 5\n",
    "# nn_detector_gen.set_stride(0.05)\n",
    "# nn_detector_gen.dataset_nn_classification_gen(train=True, n=n, thresh=0.8, time_err=1, force=True)\n",
    "# data = nn_detector_gen.dataset_nn_classification_load(train=True, n=n, thresh=0.8,time_err=1)\n",
    "# print(data)\n",
    "# confusion_matrix = data['confusion matrix']\n",
    "# print(confusion_matrix)\n",
    "# performance = nn_detector_gen.performance(confusion_matrix)\n",
    "# print(performance)"
   ]
  },
  {
   "cell_type": "code",
   "execution_count": 3,
   "metadata": {},
   "outputs": [
    {
     "name": "stdout",
     "output_type": "stream",
     "text": [
      "(1080,)\n"
     ]
    },
    {
     "data": {
      "image/png": "[encoded data removed]",
      "text/plain": [
       "<Figure size 432x288 with 1 Axes>"
      ]
     },
     "metadata": {
      "needs_background": "light"
     },
     "output_type": "display_data"
    },
    {
     "name": "stdout",
     "output_type": "stream",
     "text": [
      "(133,)\n"
     ]
    }
   ],
   "source": [
    "# nn_detector_gen.set_stride(0.05)\n",
    "# file = '2013-07-07UT14:48:18.20771914.marion.vr2'\n",
    "# sample = Sample(dataset_loc, site, file)\n",
    "# print(sample.get_time().shape)\n",
    "# probs = nn_detector_gen.detection_probabilities(file)\n",
    "# plt.plot(probs)\n",
    "# plt.show()\n",
    "# print(probs.shape)"
   ]
  },
  {
   "cell_type": "code",
   "execution_count": 4,
   "metadata": {},
   "outputs": [
    {
     "name": "stdout",
     "output_type": "stream",
     "text": [
      "[['2.194' '0.989']\n",
      " ['2.642' '0.991']\n",
      " ['4.612' '0.628']\n",
      " ['4.970' '0.998']\n",
      " ['5.418' '0.940']]\n",
      "[[ 2.4 31. ]\n",
      " [ 2.9 33. ]\n",
      " [ 5.2 78. ]\n",
      " [ 5.3 85. ]]\n"
     ]
    }
   ],
   "source": [
    "# t = nn_detector_gen.detection_starting_locations(file,  probs=probs, thresh=0.5, concav=True, concav_window=0.05,concav_error=-0.01)\n",
    "# print(t)\n",
    "# print(sample.awda_whistlers(time_err=1)[0])"
   ]
  },
  {
   "cell_type": "code",
   "execution_count": null,
   "metadata": {},
   "outputs": [],
   "source": []
  }
 ],
 "metadata": {
  "kernelspec": {
   "display_name": "Python (base)",
   "language": "python",
   "name": "base"
  },
  "language_info": {
   "codemirror_mode": {
    "name": "ipython",
    "version": 3
   },
   "file_extension": ".py",
   "mimetype": "text/x-python",
   "name": "python",
   "nbconvert_exporter": "python",
   "pygments_lexer": "ipython3",
   "version": "3.7.3"
  }
 },
 "nbformat": 4,
 "nbformat_minor": 4
}

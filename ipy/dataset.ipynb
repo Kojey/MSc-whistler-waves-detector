{
 "cells": [
  {
   "cell_type": "markdown",
   "metadata": {},
   "source": [
    "## DATASET CLASS\n",
    "_Represent a dataset of samples_"
   ]
  },
  {
   "cell_type": "code",
   "execution_count": 3,
   "metadata": {},
   "outputs": [],
   "source": [
    "import os\n",
    "import numpy as np"
   ]
  },
  {
   "cell_type": "code",
   "execution_count": 33,
   "metadata": {},
   "outputs": [],
   "source": [
    "class Dataset(object):\n",
    "    ''''''\n",
    "    # Attributes\n",
    "    \n",
    "    # Initializer\n",
    "    def __init__(self,dataset_location,  site):\n",
    "        self.__dataset_location = dataset_location\n",
    "        self.__site = site\n",
    "    \n",
    "    # \n",
    "    def get_site(self):\n",
    "        return self.__site\n",
    "    \n",
    "    def get_dataset_location(self):\n",
    "        return self.__dataset_location\n",
    "    \n",
    "    # \n",
    "    def get_samples_name(self):\n",
    "        '''Get all samples datafiles\n",
    "        params:\n",
    "            awd_event\n",
    "            site\n",
    "        returns:\n",
    "            datafiles\n",
    "        '''\n",
    "        data_location = os.path.join(self.__dataset_location, self.__site, self.__site+'_data')\n",
    "        print(data_location)\n",
    "        files = None\n",
    "        if os.path.exists(data_location):\n",
    "            files = [ file for file in os.listdir(data_location) if file.endswith('.vr2')] # only select .vr2 file\n",
    "        return files\n",
    "\n",
    "    def get_random_sample(self):\n",
    "        '''Select a random datafile\n",
    "        params:\n",
    "            awd_event\n",
    "            site\n",
    "        returns:\n",
    "            file name\n",
    "        '''\n",
    "        files = self.get_samples_name()\n",
    "        return files[np.random.randint(len(files))]"
   ]
  },
  {
   "cell_type": "code",
   "execution_count": 36,
   "metadata": {},
   "outputs": [
    {
     "name": "stdout",
     "output_type": "stream",
     "text": [
      "/home/othniel/wdml/data/awdEvents1/marion/marion_data\n",
      "2013-07-11UT05:10:01.14531938.marion.vr2\n"
     ]
    }
   ],
   "source": [
    "loc = os.path.join(os.getcwd().split(os.environ.get('USER'))[0],os.environ.get('USER'), 'wdml', 'data', 'awdEvents1')\n",
    "my_dataset = Dataset(loc,'marion')\n",
    "print(my_dataset.get_random_sample())"
   ]
  }
 ],
 "metadata": {
  "kernelspec": {
   "display_name": "dp_gpu",
   "language": "python",
   "name": "dp_gpu"
  },
  "language_info": {
   "codemirror_mode": {
    "name": "ipython",
    "version": 3
   },
   "file_extension": ".py",
   "mimetype": "text/x-python",
   "name": "python",
   "nbconvert_exporter": "python",
   "pygments_lexer": "ipython3",
   "version": "3.6.8"
  }
 },
 "nbformat": 4,
 "nbformat_minor": 2
}

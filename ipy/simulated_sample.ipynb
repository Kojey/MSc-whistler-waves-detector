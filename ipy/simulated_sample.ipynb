{
 "cells": [
  {
   "cell_type": "markdown",
   "metadata": {},
   "source": [
    "## SIMULATED SAMPLE CLASS\n",
    "_Represent a simulated sample_"
   ]
  },
  {
   "cell_type": "code",
   "execution_count": 2,
   "metadata": {},
   "outputs": [],
   "source": [
    "import sys\n",
    "import os\n",
    "import numpy as np\n",
    "from scipy import signal\n",
    "from math import ceil, sqrt, floor\n",
    "import matplotlib.pyplot as plt\n",
    "\n",
    "# import python library\n",
    "sys.path.append(os.path.join(os.getcwd().split(os.environ.get('USER'))[0],os.environ.get('USER'), 'wdml', 'py'))\n",
    "\n",
    "class SimulatedSample(object):\n",
    "    ''''''\n",
    "    # Attributes\n",
    "    __file_name = None\n",
    "    __spec = None\n",
    "    __params = None\n",
    "    \n",
    "    def __init__(self, dataset_location, database_name, params):\n",
    "        self.__dataset_location = dataset_location\n",
    "        self.__database_name = database_name\n",
    "        self.__params = params\n",
    "        \n",
    "    def get_dataset_location(self):\n",
    "        return self.__dataset_location\n",
    "    def get_database_name(self):\n",
    "        return self.__database_name\n",
    "    def get_file_name(self):\n",
    "        return self.__file_name\n",
    "    def get_params(self):\n",
    "        return self.__params\n",
    "    def get_spectrogram(self):\n",
    "        return self.__spec\n",
    "    \n",
    "    \n",
    "    "
   ]
  },
  {
   "cell_type": "code",
   "execution_count": 4,
   "metadata": {},
   "outputs": [
    {
     "data": {
      "text/plain": [
       "dict_keys(['D', 'B', 'b', 'W', 'H', 'x', 'y', 'w', 'h'])"
      ]
     },
     "execution_count": 4,
     "metadata": {},
     "output_type": "execute_result"
    }
   ],
   "source": [
    "dataset_loc = os.path.join(os.getcwd().split(os.environ.get('USER'))[0],os.environ.get('USER'), 'wdml', 'data','sim_datasets')\n",
    "database_name = 'target_location_data'\n",
    "params = {'D':0, 'B':0, 'b':0, 'W':0, 'H':0, 'x':0, 'y':0, 'w':0, 'h':0}\n",
    "\n",
    "sim_sample = SimualtedSample(dataset_loc, database_name, params)\n",
    "sim_sample.get_params().keys()"
   ]
  }
 ],
 "metadata": {
  "kernelspec": {
   "display_name": "dp_gpu",
   "language": "python",
   "name": "dp_gpu"
  },
  "language_info": {
   "codemirror_mode": {
    "name": "ipython",
    "version": 3
   },
   "file_extension": ".py",
   "mimetype": "text/x-python",
   "name": "python",
   "nbconvert_exporter": "python",
   "pygments_lexer": "ipython3",
   "version": "3.6.8"
  }
 },
 "nbformat": 4,
 "nbformat_minor": 2
}

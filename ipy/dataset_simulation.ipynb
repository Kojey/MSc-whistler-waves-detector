{
 "cells": [
  {
   "cell_type": "markdown",
   "metadata": {},
   "source": [
    "## WHISLTER SIMULATED DATASET CLASS\n",
    "_Represent a dataset of simulated whislter samples_"
   ]
  },
  {
   "cell_type": "code",
   "execution_count": 5,
   "metadata": {},
   "outputs": [],
   "source": [
    "import os\n",
    "import numpy as np\n",
    "import h5py\n",
    "import matplotlib.pyplot as plt\n",
    "from tqdm import tqdm\n",
    "import multiprocessing as mp\n",
    "\n",
    "class DatasetSimulation(object):\n",
    "    ''''''\n",
    "    __t_res, __f_res = None, None\n",
    "    __f = np.linspace(1e3, 10e3, 1000)\n",
    "    __fn = 25e3\n",
    "    \n",
    "    # Initializer\n",
    "    def __init__(self, dataset_sim_location, t_res, f_res, ext='.sim'):\n",
    "        self.__dataset_sim_location = dataset_sim_location\n",
    "        self.__file_extension = ext\n",
    "        self.__t_res = t_res\n",
    "        self.__f_res = f_res\n",
    "    \n",
    "    def set_resolution(t,f):\n",
    "        self.__t_res, self.__f_res = t,f\n",
    "        \n",
    "    def whistler_trace(self, An, D0, fn, f):\n",
    "        \"\"\"generate the whistler trace\n",
    "        Params\n",
    "            An: normalised equatorial electron gyrofrequency\n",
    "            D0: zero dispersion\n",
    "            fn: nose frequency\n",
    "            f: frequency range\n",
    "        return\n",
    "            t: time range\n",
    "            \"\"\"\n",
    "        t = (D0/((1+An)*np.sqrt(f)))*(((1+An)-(3*An-1)*(f/fn))/(1-An*f/fn))\n",
    "        return np.array(t)\n",
    "\n",
    "    def whistler_sim(self, An, D0, fn, f, t_res, f_res):\n",
    "        \"\"\"Generate a 2D representation of the whistler trace\n",
    "        Params\n",
    "            An: normalised equatorial electron gyrofrequency\n",
    "            D0: zero dispersion\n",
    "            fn: nose frequency\n",
    "            f: frequency range\n",
    "        return\n",
    "            t: time range\"\"\"\n",
    "        t = self.whistler_trace(An=An, D0=D0, fn=fn, f=f)\n",
    "        t_trans, f_trans = (t-t.min())/t_res, (f-f.min())*1e-3/f_res\n",
    "        t_trans, f_trans = t_trans.astype(np.int), f_trans.astype(np.int) \n",
    "        coor = np.array([(t,f) for t,f in zip(t_trans, f_trans)])\n",
    "        data = np.zeros((t_trans.max()+1,f_trans.max()+1))\n",
    "        for x,y in coor:\n",
    "            data[x,y]=3\n",
    "        return data.T\n",
    "    \n",
    "    def whistler_file(self, An, D0):\n",
    "        An = np.round(An,4)\n",
    "        \n",
    "        data = self.whistler_sim(An=An, D0=D0, fn=self.__fn, f=self.__f, t_res=self.__t_res, f_res=self.__f_res)\n",
    "        file_name = os.path.join(self.__dataset_sim_location, str(An)+'_'+str(D0)+'_'+str(self.__fn)+self.__file_extension)\n",
    "        file = h5py.File(file_name, 'w')\n",
    "        file.create_dataset(file_name, data.shape, np.float32, compression='gzip', data=data)\n",
    "        file.close()\n",
    "    \n",
    "    def load_whistler_file(self, An, D0):\n",
    "        file_name = os.path.join(self.__dataset_sim_location, str(An)+'_'+str(D0)+'_'+str(self.__fn)+self.__file_extension)\n",
    "        try:\n",
    "            file = h5py.File(file_name, 'r+')\n",
    "        except Exception as e:\n",
    "            print('File: %s. Exception: %s'%(file,e))\n",
    "        file_data = np.empty(file[file_name].shape,dtype=np.float64)\n",
    "        file[file_name].read_direct(file_data)\n",
    "        data = np.asarray(file_data)\n",
    "        file.close()\n",
    "        return data\n",
    "    \n",
    "    def whistler_file_(self,param):\n",
    "            self.whistler_file(An=param[0], D0=param[1])\n",
    "    \n",
    "    def generate_whislters(self, An_dec=4, D0_dec=2):\n",
    "        An_min, An_max = 0.35, 0.45\n",
    "        An = np.linspace(An_min, An_max, int((An_max-An_min)/10**(-An_dec))+1)\n",
    "        D0_min, D0_max = 20, 80\n",
    "        D0 = np.linspace(D0_min, D0_max, int((D0_max-D0_min)/10**(-D0_dec))+1)\n",
    "        params = [(a,d) for a in An for d in D0] # define parameters\n",
    "        # use multiprocessing\n",
    "        pool = mp.Pool(mp.cpu_count())\n",
    "        for _ in tqdm(pool.imap_unordered(self.whistler_file_, params), total=len(params)):\n",
    "            pass\n",
    "        pool.close()"
   ]
  },
  {
   "cell_type": "code",
   "execution_count": 4,
   "metadata": {},
   "outputs": [
    {
     "name": "stderr",
     "output_type": "stream",
     "text": [
      "\n",
      "  0%|          | 0/2 [00:00<?, ?it/s]"
     ]
    },
    {
     "name": "stdout",
     "output_type": "stream",
     "text": [
      "0.35 20.0\n"
     ]
    },
    {
     "name": "stderr",
     "output_type": "stream",
     "text": [
      "\u001b[A"
     ]
    },
    {
     "name": "stdout",
     "output_type": "stream",
     "text": [
      "0.35 21.0\n"
     ]
    },
    {
     "name": "stderr",
     "output_type": "stream",
     "text": [
      "\n",
      " 50%|█████     | 1/2 [00:00<00:00,  1.84it/s]\u001b[A\n",
      "100%|██████████| 2/2 [00:00<00:00,  3.59it/s]\u001b[A"
     ]
    }
   ],
   "source": [
    "# dataset_sim_loc = os.path.join(os.getcwd().split(os.environ.get('USER'))[0],os.environ.get('USER'), 'wdml', 'data','datasets', 'simulations')\n",
    "# dataset_sim = DatasetSimulation(dataset_sim_loc, 0.006395061728395062, 0.15503875968992248)\n",
    "# # dataset_sim.whistler_file(An=0.35, D0=20)\n",
    "# # plt.pcolormesh(dataset_sim.load_whistler_file(An=0.35, D0=20))\n",
    "# dataset_sim.generate_whislters()"
   ]
  },
  {
   "cell_type": "code",
   "execution_count": 52,
   "metadata": {},
   "outputs": [
    {
     "data": {
      "text/plain": [
       "[(1, 'a'), (1, 'b'), (1, 'c'), (2, 'a'), (2, 'b'), (2, 'c')]"
      ]
     },
     "execution_count": 52,
     "metadata": {},
     "output_type": "execute_result"
    }
   ],
   "source": [
    "a = [1,2]\n",
    "b = ['a', 'b', 'c']\n",
    "[(i,j) for i in a for j in b]"
   ]
  }
 ],
 "metadata": {
  "kernelspec": {
   "display_name": "dp_gpu",
   "language": "python",
   "name": "dp_gpu"
  },
  "language_info": {
   "codemirror_mode": {
    "name": "ipython",
    "version": 3
   },
   "file_extension": ".py",
   "mimetype": "text/x-python",
   "name": "python",
   "nbconvert_exporter": "python",
   "pygments_lexer": "ipython3",
   "version": "3.6.8"
  }
 },
 "nbformat": 4,
 "nbformat_minor": 4
}

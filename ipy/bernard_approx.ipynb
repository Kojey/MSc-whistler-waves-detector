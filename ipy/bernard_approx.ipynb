{
 "cells": [
  {
   "cell_type": "code",
   "execution_count": 1,
   "metadata": {},
   "outputs": [],
   "source": [
    "import numpy as np\n",
    "import matplotlib.pyplot as plt\n",
    "from math import sqrt, ceil"
   ]
  },
  {
   "cell_type": "markdown",
   "metadata": {},
   "source": [
    "### From J. Lichtenberger 2008\n",
    "Nose frequency $f_n=25kHz$\n",
    "\n",
    "zero dispersion $20 \\leq D_0 \\leq 80$\n",
    "\n",
    "\n",
    "### From L.C. Bernard 1973\n",
    "We use a normalised nose frequency $0.35 \\leq \\Lambda_n \\leq 0.45$, see Bernard 1973, figure I\n",
    "\n",
    "**(1)** normalized travel time as a function of normalized frequency *(L.C. Bernard 1979, eq(8))*\n",
    "$$\\frac{t}{t_n} = \\frac{1}{2\\sqrt{f/f_n}}\\frac{(1+\\Lambda_n)-(3\\Lambda_n-1)(f/f_n)}{1-\\Lambda_n (f/f_n)}$$\n",
    "\n",
    "**(2)** So $$t = \\frac{t_n\\sqrt{f_n}}{2\\sqrt{f}}\\frac{(1+\\Lambda_n)-(3\\Lambda_n-1)(f/f_n)}{1-\\Lambda_n (f/f_n)}$$\n",
    "\n",
    "**(3)** We know that the dispersion $D$ is given by $D = t\\sqrt{f}$,\n",
    "therefore, the dispersion $D_n$ at the nose frequency is $$D_n = t_n\\sqrt{f_n}$$\n",
    "\n",
    "**(4)** The dispersion at the nose and zero frequency are related by *(L.C. Bernard 1979, eq(7))*\n",
    "$$D_n=\\frac{2D_0}{1+\\Lambda_n}$$ \n",
    "\n",
    "**(5)** Combining (2),(3), and (4) results in an expression between the time and frequency of the whistler\n",
    " $$t = \\frac{D_0}{(1+\\Lambda_n)\\sqrt{f}}\\frac{(1+\\Lambda_n)-(3\\Lambda_n-1)(f/f_n)}{1-\\Lambda_n (f/f_n)}$$\n"
   ]
  },
  {
   "cell_type": "code",
   "execution_count": 2,
   "metadata": {},
   "outputs": [],
   "source": [
    "def whistler_trace(An, D0, fn, f):\n",
    "    \"\"\"generate the whistler trace\n",
    "    Params\n",
    "        An: normalised equatorial electron gyrofrequency\n",
    "        D0: zero dispersion\n",
    "        fn: nose frequency\n",
    "        f: frequency range\n",
    "    return\n",
    "        t: time range\n",
    "        \"\"\"\n",
    "    t = (D0/((1+An)*np.sqrt(f)))*(((1+An)-(3*An-1)*(f/fn))/(1-An*f/fn))\n",
    "    return np.array(t)"
   ]
  },
  {
   "cell_type": "code",
   "execution_count": 3,
   "metadata": {},
   "outputs": [
    {
     "name": "stdout",
     "output_type": "stream",
     "text": [
      "0.4249463864684999\n",
      "1.6997855458739997\n",
      "0.4319361746554716\n",
      "1.7277446986218865\n"
     ]
    },
    {
     "data": {
      "image/png": "[encoded data removed]",
      "text/plain": [
       "<Figure size 432x288 with 1 Axes>"
      ]
     },
     "metadata": {
      "needs_background": "light"
     },
     "output_type": "display_data"
    }
   ],
   "source": [
    "An = 0.35 # 0.35 <= An <= 0.45\n",
    "D0 = 20 # 20 <= D0 <= 80\n",
    "fn = 25e3\n",
    "f = np.linspace(1e3,12e3,1000)\n",
    "legend = []\n",
    "plt.figure()\n",
    "for An in np.linspace(0.35, 0.45, 2):\n",
    "    for D0 in np.linspace(20,80,2):\n",
    "        t = whistler_trace(An,D0,fn,f)\n",
    "        print(t.max()-t.min())\n",
    "        legend.append(\"An:%.2f - D0:%.2f\"%(An,D0))\n",
    "        plt.plot(t,f)\n",
    "plt.legend(legend)\n",
    "plt.show()"
   ]
  },
  {
   "cell_type": "code",
   "execution_count": 24,
   "metadata": {},
   "outputs": [
    {
     "name": "stdout",
     "output_type": "stream",
     "text": [
      "(71, 100)\n"
     ]
    },
    {
     "data": {
      "image/png": "[encoded data removed]",
      "text/plain": [
       "<Figure size 288x144 with 1 Axes>"
      ]
     },
     "metadata": {
      "needs_background": "light"
     },
     "output_type": "display_data"
    },
    {
     "data": {
      "text/plain": [
       "(71, 100)"
      ]
     },
     "execution_count": 24,
     "metadata": {},
     "output_type": "execute_result"
    }
   ],
   "source": [
    "def whistler_sim(An, D0, fn, f, t_res, f_res):\n",
    "    \"\"\"Generate a 2D representation of the whistler trace\n",
    "    Params\n",
    "        An: normalised equatorial electron gyrofrequency\n",
    "        D0: zero dispersion\n",
    "        fn: nose frequency\n",
    "        f: frequency range\n",
    "    return\n",
    "        t: time range\"\"\"\n",
    "    t = whistler_trace(An=An, D0=D0, fn=fn, f=f)\n",
    "    t_trans, f_trans = (t-t.min())/t_res, (f-f.min())*1e-3/f_res\n",
    "    t_trans, f_trans = t_trans.astype(np.int), f_trans.astype(np.int) \n",
    "    coor = np.array([(t,f) for t,f in zip(t_trans, f_trans)])\n",
    "    data = np.zeros((t_trans.max()+1,f_trans.max()+1))\n",
    "    for x,y in coor:\n",
    "        data[x,y]=1e3\n",
    "    return data.T\n",
    "\n",
    "f = np.linspace(1e3,12e3,1000)\n",
    "f_res, t_res = 0.15503875968992248, 0.006395061728395062 \n",
    "data = whistler_sim(An=0.35, D0=30, fn=25e3, f=f, t_res=t_res, f_res=f_res)\n",
    "print(data.shape)\n",
    "plt.figure(figsize=(2*ceil(data.shape[1]/data.shape[0]),2))\n",
    "plt.pcolormesh(data)\n",
    "plt.show()\n",
    "data.shape"
   ]
  },
  {
   "cell_type": "code",
   "execution_count": null,
   "metadata": {},
   "outputs": [],
   "source": []
  }
 ],
 "metadata": {
  "kernelspec": {
   "display_name": "dp_gpu",
   "language": "python",
   "name": "dp_gpu"
  },
  "language_info": {
   "codemirror_mode": {
    "name": "ipython",
    "version": 3
   },
   "file_extension": ".py",
   "mimetype": "text/x-python",
   "name": "python",
   "nbconvert_exporter": "python",
   "pygments_lexer": "ipython3",
   "version": "3.6.8"
  }
 },
 "nbformat": 4,
 "nbformat_minor": 4
}

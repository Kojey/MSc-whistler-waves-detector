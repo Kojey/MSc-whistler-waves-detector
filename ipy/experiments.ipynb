{
 "cells": [
  {
   "cell_type": "code",
   "execution_count": 1,
   "metadata": {},
   "outputs": [
    {
     "name": "stdout",
     "output_type": "stream",
     "text": [
      "2013-08-04UT00:02:50.01571914.marion.vr2\n"
     ]
    },
    {
     "data": {
      "text/plain": [
       "<Figure size 1500x300 with 1 Axes>"
      ]
     },
     "metadata": {},
     "output_type": "display_data"
    },
    {
     "data": {
      "text/plain": [
       "<Figure size 1500x300 with 1 Axes>"
      ]
     },
     "metadata": {},
     "output_type": "display_data"
    },
    {
     "data": {
      "text/plain": [
       "<Figure size 200x300 with 2 Axes>"
      ]
     },
     "metadata": {},
     "output_type": "display_data"
    },
    {
     "data": {
      "text/plain": [
       "<Figure size 1500x300 with 1 Axes>"
      ]
     },
     "metadata": {},
     "output_type": "display_data"
    },
    {
     "data": {
      "text/plain": [
       "<Figure size 1500x300 with 1 Axes>"
      ]
     },
     "metadata": {},
     "output_type": "display_data"
    },
    {
     "name": "stdout",
     "output_type": "stream",
     "text": [
      "(array([[  2.44028, 127.     ],\n",
      "       [  2.69628,  63.     ]]), array([[381, 127],\n",
      "       [421,  63]]))\n",
      "(array([[ 1.11273   , 10.17292189],\n",
      "       [ 2.538815  , 10.81076713]]), array([[173,  10],\n",
      "       [397,  10]]))\n",
      "56\n",
      "(array([[array([ 2.538815  , 10.81076713]), 0],\n",
      "       [array([ 2.69628, 63.     ]), -1],\n",
      "       [array([ 1.11273   , 10.17292189]), 1]], dtype=object), array([1, 1, 1]))\n",
      "2013-07-02UT14:16:34.64291914.marion.vr2\n"
     ]
    },
    {
     "data": {
      "text/plain": [
       "<Figure size 1500x300 with 1 Axes>"
      ]
     },
     "metadata": {},
     "output_type": "display_data"
    },
    {
     "data": {
      "text/plain": [
       "<Figure size 1500x300 with 1 Axes>"
      ]
     },
     "metadata": {},
     "output_type": "display_data"
    },
    {
     "data": {
      "text/plain": [
       "<Figure size 200x300 with 2 Axes>"
      ]
     },
     "metadata": {},
     "output_type": "display_data"
    },
    {
     "data": {
      "text/plain": [
       "<Figure size 1500x300 with 1 Axes>"
      ]
     },
     "metadata": {},
     "output_type": "display_data"
    },
    {
     "data": {
      "text/plain": [
       "<Figure size 1500x300 with 1 Axes>"
      ]
     },
     "metadata": {},
     "output_type": "display_data"
    },
    {
     "name": "stdout",
     "output_type": "stream",
     "text": [
      "(array([[ 2.43408, 23.     ],\n",
      "       [ 2.64508, 25.     ],\n",
      "       [ 2.88508, 29.     ],\n",
      "       [ 3.23608, 82.     ]]), array([[380,  23],\n",
      "       [413,  25],\n",
      "       [451,  29],\n",
      "       [506,  82]]))\n",
      "(array([[ 2.513235  , 10.16642491],\n",
      "       [ 2.717875  , 10.24454089],\n",
      "       [ 3.255055  , 11.98266107]]), array([[393,  10],\n",
      "       [425,  10],\n",
      "       [509,  11]]))\n",
      "56\n",
      "(array([[array([ 2.513235  , 10.16642491]), 0],\n",
      "       [array([ 2.717875  , 10.24454089]), 0],\n",
      "       [array([ 3.255055  , 11.98266107]), 0],\n",
      "       [array([ 2.88508, 29.     ]), -1]], dtype=object), array([1, 3, 0]))\n"
     ]
    }
   ],
   "source": [
    "import sys\n",
    "import os\n",
    "import numpy as np\n",
    "import pandas as pd\n",
    "import datetime\n",
    "import tqdm\n",
    "from collections import deque\n",
    "from math import ceil, sqrt, floor, gamma\n",
    "from scipy import signal, stats, fftpack \n",
    "from sklearn import preprocessing\n",
    "from PIL import Image\n",
    "import multiprocessing as mp\n",
    "import matplotlib.pyplot as plt\n",
    "# import python library\n",
    "sys.path.append(os.path.join(os.getcwd().split(os.environ.get('USER'))[0],os.environ.get('USER'), 'wdml', 'py'))\n",
    "\n",
    "from sample import Sample\n",
    "from dataset import Dataset\n",
    "from database import Database\n",
    "from sample_detector import SampleDetector\n",
    "\n",
    "dataset_loc = os.path.join(os.getcwd().split(os.environ.get('USER'))[0],os.environ.get('USER'), 'wdml', 'data','datasets', 'awdEvents1')\n",
    "database_loc = os.path.join(os.getcwd().split(os.environ.get('USER'))[0],os.environ.get('USER'), 'wdml', 'data','databases', 'awdEvents1')\n",
    "site = 'marion'\n",
    "my_dataset = Dataset(dataset_loc, site)\n",
    "my_database = Database(dataset_loc, database_loc, site)\n",
    "my_sample = SampleDetector(dataset_loc, site, np.random.choice(my_database.get_train(),1)[0])\n",
    "\n",
    "\n",
    "# my_sample = Detector(dataset_loc, site,'2013-07-04UT15:44:24.35171922.marion.vr2')\n",
    "\n",
    "my_sample.spectrogram_with_axis(log10=True)\n",
    "print(my_sample.get_file())\n",
    "time_err=0.2\n",
    "diff_err=0.3\n",
    "freq_size = 3\n",
    "size = (freq_size*my_sample.get_time_freq_ratio(dec=0), freq_size)\n",
    "\n",
    "my_sample.spectrogram_plot(figsize=size, zlabel='sprectrum magnitude [dB]', ticks=[20,10],\n",
    "                           title=\"Spectrogram: \"+my_sample.get_file(), cmap='jet', cmap_show=False)\n",
    "my_sample.apply_transform(['zscore'],[[None]])\n",
    "my_sample.spectrogram_plot(figsize=size, zlabel='sprectrum magnitude [dB]', xaxis=True, yaxis=True, ticks=[0.2,2],\n",
    "                           title=\"Spectrogram: \"+my_sample.get_file(), cmap='jet', cmap_show=False)\n",
    "kernel = my_sample.whistler_sim(decay=3, whistler_time=0.6, whistler_freq_len=5, whistler_freq_start=2.5, thickness=1)\n",
    "\n",
    "fig=plt.figure(figsize=(int(size[0]*kernel.shape[1]/my_sample.get_spectrogram().shape[1]),3));img=plt.pcolormesh(kernel,cmap='jet');fig.colorbar(mappable=img, label='Kernel magnitude');plt.title(\"Whistler Simulation\");plt.show();\n",
    "corr = signal.correlate(10**my_sample.get_spectrogram(), kernel, mode='valid').T\n",
    "detector = my_sample.apply_detector(corr,'tm_cfar', [10,15,1e-3,0])\n",
    "# print(my_sample.get_spectrogram().shape,kernel.shape,corr.shape)\n",
    "# plt.figure(figsize=size);plt.plot(corr);plt.xticks(np.arange(0, len(corr), 20));plt.grid();plt.title(\"Result of Matched Filter\");plt.show()\n",
    "# plt.figure(figsize=size);plt.plot(np.log10(corr**2));plt.xticks(np.arange(0, len(corr), 20));plt.grid();plt.title(\"Square of Result of Matched Filter\");plt.show()\n",
    "plt.figure(figsize=size)\n",
    "plt.plot(np.log10(corr[detector[1]]**2))\n",
    "plt.plot(np.log10(detector[0]))\n",
    "plt.xticks(np.arange(0, len(detector[1]), 20));plt.grid();\n",
    "plt.title('Signal and Detector threshold')\n",
    "plt.legend(['output of square of matched filter', 'ca-cfar detector threshold'])\n",
    "plt.show()\n",
    "plt.figure(figsize=size);plt.plot(my_sample.detection_area(corr,detector));plt.xticks(np.arange(0, len(corr), 20));plt.show()\n",
    "\n",
    "output_awd = my_sample.awda_whistlers(time_err=time_err)\n",
    "output_mf = my_sample.awda_whistlers(_output=my_sample.detection_loc(corr,detector,shift=56), time_err=time_err)\n",
    "print(output_awd)\n",
    "print(output_mf)\n",
    "my_sample.spectrogram_with_axis()\n",
    "print(my_sample.evaluate_detector(['zscore'],[[None]],'tm_cfar', [10,15,1e-3,0], diff_err=diff_err, time_err=time_err))"
   ]
  },
  {
   "cell_type": "code",
   "execution_count": 3,
   "metadata": {},
   "outputs": [
    {
     "name": "stdout",
     "output_type": "stream",
     "text": [
      "[[array([ 6.17658, 27.     ]) -1]\n",
      " [array([ 5.18814722, 11.16377097]) 0]]\n",
      "[1 1 0]\n",
      "(array([[array([ 6.17658, 27.     ]), -1],\n",
      "       [array([ 5.18814722, 11.16377097]), 0]], dtype=object), array([1, 1, 0]))\n"
     ]
    }
   ],
   "source": [
    "import os, sys\n",
    "from scipy import signal, stats, fftpack \n",
    "sys.path.append(os.path.join(os.getcwd().split(os.environ.get('USER'))[0],os.environ.get('USER'), 'wdml', 'py'))\n",
    "from dataset import Dataset\n",
    "from database import Database\n",
    "from detector import Detector\n",
    "dataset_loc = os.path.join(os.getcwd().split(os.environ.get('USER'))[0],os.environ.get('USER'), 'wdml', 'data','datasets', 'awdEvents1')\n",
    "database_loc = os.path.join(os.getcwd().split(os.environ.get('USER'))[0],os.environ.get('USER'), 'wdml', 'data','databases', 'awdEvents1')\n",
    "site = 'marion'\n",
    "my_dataset = Dataset(dataset_loc, site)\n",
    "my_database = Database(dataset_loc, database_loc, site)\n",
    "my_sample = Detector(dataset_loc, site,'2013-05-20UT15:19:54.09342156.marion.vr2')\n",
    "# my_sample = Detector(dataset_loc, site,'2013-05-18UT14:02:12.39592156.marion.vr2')\n",
    "# my_sample = Detector(dataset_loc, site,'2013-07-04UT15:48:43.83331922.marion.vr2')\n",
    "# my_sample.apply_zscore()\n",
    "# my_sample.apply_transform(['zscore','medfilt'],[[None],[(3,3)]])\n",
    "my_sample.apply_transform(['zscore'],[[None]])\n",
    "kernel = my_sample.whistler_sim(decay=3, whistler_time=0.6, whistler_freq_len=5, whistler_freq_start=2.5, thickness=1)\n",
    "corr = signal.correlate(10**my_sample.get_spectrogram(), kernel, mode='valid').T\n",
    "# detector = my_sample.tm_cfar(corr,N=10,G=15,C=0,pfa=1e-3)\n",
    "detector = my_sample.apply_detector(corr, 'tm_cfar', [10,15,1e-3,0])\n",
    "print(my_sample.output_compare(corr,detector,26,0.3))\n",
    "print(my_sample.metric(corr,detector,26,0.3))\n",
    "\n",
    "my_sample.spectrogram_with_axis()\n",
    "print(my_sample.evaluate_detector(['zscore'],[[None]],'tm_cfar', [10,15,1e-3,0] ))"
   ]
  },
  {
   "cell_type": "code",
   "execution_count": 5,
   "metadata": {},
   "outputs": [],
   "source": [
    "# Metric Stats\n",
    "# # result = []\n",
    "# # for sample, coor in zip(samples, samples_coor):\n",
    "# #     my_sample = Sample(dataset_loc, site, sample) \n",
    "# #     my_sample.spectrogram_with_axis()\n",
    "# #     mean_default, std_default = np.round(my_sample.stats(spec=True)[-1],2),np.round(my_sample.snr(coor),2)\n",
    "# #     my_sample.spectrogram_with_axis()\n",
    "# #     my_sample.apply_zscore(axis=[1,0])\n",
    "# #     result.append([np.round(my_sample.stats(spec=True)[-1],2)-mean_default,np.round(my_sample.snr(coor),2)-std_default])\n",
    "# #     my_sample.spectrogram_with_axis()\n",
    "# #     my_sample.apply_detrend(axis=[-1,0], type='constant')\n",
    "# #     result.append([np.round(my_sample.stats(spec=True)[-1],2)-mean_default,np.round(my_sample.snr(coor),2)-std_default])\n",
    "# #     my_sample.spectrogram_with_axis()\n",
    "# #     my_sample.apply_detrend(axis=[-1,0], type='linear')\n",
    "# # #     my_sample.apply_medfilt(kernel=(3,3))\n",
    "# #     result.append([np.round(my_sample.stats(spec=True)[-1],2)-mean_default,np.round(my_sample.snr(coor),2)-std_default])\n",
    "# # result = np.array(result)\n",
    "\n",
    "# result_zscore = []\n",
    "# for sample, coor in zip(samples, samples_coor):\n",
    "#     my_sample = Sample(dataset_loc, site, sample) \n",
    "#     my_sample.spectrogram_with_axis()\n",
    "#     mean_default, std_default = np.round(my_sample.stats(spec=True)[-1],2),np.round(my_sample.snr(coor),2)\n",
    "#     my_sample.spectrogram_with_axis()\n",
    "# #     my_sample.apply_zscore(axis=[1,0])\n",
    "# #     my_sample.apply_detrend(axis=[-1,0], type='constant')\n",
    "#     my_sample.apply_detrend(axis=[-1,0], type='linear')\n",
    "# #     my_sample.apply_medfilt(kernel=(3,3))\n",
    "#     my_sample.apply_meanfilt(kernel=(3,3))\n",
    "#     result_zscore.append([np.round(my_sample.stats(spec=True)[-1],2)-mean_default,np.round(my_sample.snr(coor),2)-std_default])\n",
    "# result_zscore = np.array(result_zscore)\n",
    "# print('SPMR: %f+-%f'%(np.round(result_zscore[:,0].mean(),2), np.round(result_zscore[:,0].std(),2)))\n",
    "# print('SNR: %f+-%f'%(np.round(result_zscore[:,1].mean(),2), np.round(result_zscore[:,1].std(),2)))\n",
    "\n",
    "# # for ix in range(0,len(result),3):\n",
    "# #     plt.plot([0,1,2],result[ix:ix+3,0])\n",
    "# # plt.title('PMS')\n",
    "# # plt.figure()\n",
    "# # for ix in range(0,len(result),3):\n",
    "# #     plt.plot([0,1,2],result[ix:ix+3,1])\n",
    "# # plt.title('SNR')\n",
    "# # plt.show()"
   ]
  },
  {
   "cell_type": "code",
   "execution_count": 6,
   "metadata": {},
   "outputs": [],
   "source": [
    "# dataset_loc = os.path.join(os.getcwd().split(os.environ.get('USER'))[0],os.environ.get('USER'), 'wdml', 'data','datasets', 'awdEvents1')\n",
    "# database_loc = os.path.join(os.getcwd().split(os.environ.get('USER'))[0],os.environ.get('USER'), 'wdml', 'data','databases', 'awdEvents1')\n",
    "# site = 'marion'\n",
    "# my_dataset = Dataset(dataset_loc, site)\n",
    "# my_database = Database(dataset_loc, database_loc, site)\n",
    "# # my_sample = Sample(dataset_loc, site, np.random.choice(my_database.get_train(),1)[0])\n",
    "# samples = ['2013-09-02UT16:17:50.19059414.marion.vr2','2013-07-07UT05:19:49.99651922.marion.vr2','2013-06-28UT04:03:12.85091922.marion.vr2',\n",
    "#             '2013-10-08UT01:58:59.23379430.marion.vr2','2013-11-09UT22:50:37.90899422.marion.vr2','2013-07-11UT04:36:24.27491938.marion.vr2',\n",
    "#             '2013-07-25UT04:30:47.73731922.marion.vr2','2013-08-04UT21:34:56.49251922.marion.vr2','2013-02-24UT15:04:07.65347602.marion.vr2',\n",
    "#             '2013-07-02UT16:10:39.77571914.marion.vr2']\n",
    "# samples_whistlers_coor = [[[2.2,2.9],[2.9,3.6]],[[2.2,2.9],[5.3,6],[5.8,6.4]],[[2.5,3.2],[4.9,5.5],[6.5,7.2]],\n",
    "#                           [[2.3,2.6]],[[2.3,2.6],[2.6,3.5]],[[1.2,1.6],[2.3,2.6]],\n",
    "#                           [[1.8,2.4],[2.4,3.3]],[[2,3]],[[2.3,2.6]],\n",
    "#                           [[2,3.2],[3.4,3.6],[5.5,6]]]\n",
    "# samples_whistlers_coor_loc = [[[345,365],[425,455]],[[345,365],[765,855],[865,885]],[[325,395],[725,795],[985,1045]],\n",
    "#                               [[335,405]],[[45,85],[335,355],[405,445]],[[175,195],[345,355]],\n",
    "#                               [[265,295],[315,385]],[[325,355]],[[325,375]],\n",
    "#                               [[285,365],[495,515],[805,855]]]\n",
    "# samples_whistlers_coor_loc_ = [[[280,520]],[[300,440],[700,960]],[[240,460],[640,880],[940,1100]],\n",
    "#                               [[260,460]],[[0,140],[240,500]],[[120,240],[280,420]],\n",
    "#                               [[200,420]],[[180,460]],[[240,420]],\n",
    "#                               [[220,440],[780,900]]]\n",
    "\n",
    "# noise, signal_and_noise = np.array([[0]]),np.array([[0]])\n",
    "# for ix in range(len(samples)):\n",
    "# #     print(samples[ix])\n",
    "#     my_sample = Sample(dataset_loc, site, samples[ix])\n",
    "#     my_sample.spectrogram_with_axis()\n",
    "#     my_sample.apply_zscore()\n",
    "#     kernel = my_sample.whistler_sim(decay=4, whistler_time=0.8, whistler_freq_len=7, whistler_freq_start=2.5, thickness=1)\n",
    "#     corr = signal.correlate(10**my_sample.get_spectrogram(), kernel, mode='valid').T\n",
    "# #     plt.figure(figsize=(15,3));plt.plot(corr);plt.xticks(np.arange(0, len(corr), 20));plt.show()\n",
    "#     i = 0\n",
    "#     for c in samples_whistlers_coor_loc[ix]:\n",
    "#         noise = np.concatenate((noise,corr[i:c[0]]))\n",
    "#         signal_and_noise = np.concatenate((signal_and_noise,corr[c[0]:c[1]]))\n",
    "#         i = c[1]\n",
    "#     noise = np.concatenate((noise,corr[i:]))\n",
    "    \n",
    "# noise, signal_and_noise = np.array(noise), np.array(signal_and_noise)\n",
    "# print(noise.max(), signal_and_noise.max())\n",
    "# plt.figure()\n",
    "# arr = np.histogram(noise, bins=np.linspace(0,1.3e6,100), density=True)\n",
    "# # print(arr)\n",
    "# plt.plot(arr[1][:-1],arr[0])\n",
    "# # plt.plot(np.histogram(noise, bins=10, density=True)[0])\n",
    "# plt.show()\n",
    "# plt.figure()\n",
    "# arr = np.histogram(signal_and_noise, bins=np.linspace(0,28e6,100), density=True)\n",
    "# plt.plot(arr[1][:-1],arr[0])\n",
    "# plt.show()"
   ]
  }
 ],
 "metadata": {
  "kernelspec": {
   "display_name": "dp_gpu",
   "language": "python",
   "name": "dp_gpu"
  },
  "language_info": {
   "codemirror_mode": {
    "name": "ipython",
    "version": 3
   },
   "file_extension": ".py",
   "mimetype": "text/x-python",
   "name": "python",
   "nbconvert_exporter": "python",
   "pygments_lexer": "ipython3",
   "version": "3.6.8"
  }
 },
 "nbformat": 4,
 "nbformat_minor": 4
}

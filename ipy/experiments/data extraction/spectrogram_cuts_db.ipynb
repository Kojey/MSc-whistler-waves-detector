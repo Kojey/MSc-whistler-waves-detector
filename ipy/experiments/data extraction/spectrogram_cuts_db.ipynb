{
 "cells": [
  {
   "cell_type": "markdown",
   "metadata": {},
   "source": [
    "# Create testing, validation, and testing sets for classifier"
   ]
  },
  {
   "cell_type": "code",
   "execution_count": 1,
   "metadata": {},
   "outputs": [],
   "source": [
    "import sys\n",
    "import os\n",
    "import time\n",
    "\n",
    "sys.path.insert(0,'../../../')\n",
    "sys.path.insert(0,'../../../py')\n",
    "\n",
    "import parameters\n",
    "import utilities\n",
    "import spectrogram_utilities\n",
    "import output_utilities\n",
    "from spectrogram_cuts_db_creation import spectrogram_cuts_db, spectrogram_cuts_augmented_db, load_spectrogram_cuts_db\n",
    "\n",
    "import numpy as np\n",
    "from sklearn.model_selection import train_test_split\n",
    "import pickle\n",
    "\n",
    "# matplotlib.get_backend()\n",
    "%matplotlib inline\n",
    "\n",
    "awd_event = 1\n",
    "site = parameters.sites[0]"
   ]
  },
  {
   "cell_type": "markdown",
   "metadata": {},
   "source": [
    "# Training and Testing using k-fold cross validation"
   ]
  },
  {
   "cell_type": "code",
   "execution_count": 2,
   "metadata": {},
   "outputs": [
    {
     "name": "stdout",
     "output_type": "stream",
     "text": [
      "marion\n",
      "\n",
      "Generating whistler and noise cuts database for awdEvent1/marion\n",
      "0%.........10%.........20%.........30%.........40%.........50%.........60%.........70%.........80%.........90%.........\n",
      "Runtime: 207.64 seconds\n",
      "\n",
      "Generating whistler and noise cuts database for awdEvent1/marion\n",
      "0%.........10%.........20%.........30%.........40%.........50%.........60%.........70%.........80%.........90%.........\n",
      "Runtime: 102.06 seconds\n"
     ]
    }
   ],
   "source": [
    "# only choose marion since sanae data is crap\n",
    "for site in [parameters.sites[0]]:\n",
    "    # get all files from the site\n",
    "    print(site)\n",
    "    files = utilities.all_files(awd_event, site)\n",
    "    training_files, test_files = train_test_split(files, test_size=0.33, random_state=42)\n",
    "\n",
    "    # create dictionary to save \n",
    "#     sets_name = 'training_test_data_'+site+'.pickle'\n",
    "    sets_name = 'training_test_data_'+site+'_augmented.pickle'\n",
    "    sets = {}\n",
    "    sets['training']=training_files\n",
    "    sets['testing']=test_files\n",
    "\n",
    "    # save object\n",
    "    pickle.dump(sets, open(os.path.join(parameters.hyp5_location,sets_name), 'wb'))\n",
    "\n",
    "    # load training, validation, and testing sets\n",
    "    sets = pickle.load(open(os.path.join(parameters.hyp5_location,sets_name), 'rb'))\n",
    "\n",
    "    # training sets \n",
    "    database_name='training_set_'+site+'_augmented.h5'\n",
    "    spectrogram_cuts_augmented_db(awd_event, site, sets['training'], database_name, threshold=0, verbose=True, force=True)\n",
    "\n",
    "    # training sets \n",
    "    database_name='testing_set_'+site+'_augmented.h5'\n",
    "    spectrogram_cuts_augmented_db(awd_event, site, sets['testing'], database_name, threshold=0, verbose=True, force=True)"
   ]
  },
  {
   "cell_type": "code",
   "execution_count": 3,
   "metadata": {},
   "outputs": [
    {
     "name": "stdout",
     "output_type": "stream",
     "text": [
      "Site:  marion\n",
      "\n",
      "Loading spectrogram cuts from database for awdEvent1/marion\n",
      "0%.........10%.........20%.........30%.........40%.........50%.........60%.........70%.........80%.........90%.........\n",
      "Runtime: 67.77 seconds\n",
      "Number of sample in training set for marion is 60281.\n",
      "Noise: 58.60387186675735, Event: 41.39612813324265\n",
      "\n",
      "Loading spectrogram cuts from database for awdEvent1/marion\n",
      "0%.........10%.........20%.........30%.........40%.........50%.........60%.........70%.........80%.........90%.........\n",
      "Runtime: 43.25 seconds\n",
      "Number of sample in testing set for marion is 29577.\n",
      "Noise: 58.03834060249518, Event: 41.96165939750482\n"
     ]
    }
   ],
   "source": [
    "sets = ['training','testing']\n",
    "# load dataset from every site\n",
    "for site in [parameters.sites[0]]:\n",
    "    print('Site: ', site)\n",
    "    for s in sets:\n",
    "        data, pb, evt, f_cut_length, t_cut_length = load_spectrogram_cuts_db(awd_event, site, s+'_set_'+site+'_augmented.h5', verbose=True, noise=True)\n",
    "        freq = np.bincount(evt)\n",
    "        print('Number of sample in %s set for %s is %d.' % (s, site, np.sum(freq)))\n",
    "        pct = freq*100/np.sum(freq)\n",
    "        print('Noise: %s, Event: %s' % (pct[0],pct[1]))\n"
   ]
  },
  {
   "cell_type": "markdown",
   "metadata": {},
   "source": [
    "# Per Site"
   ]
  },
  {
   "cell_type": "markdown",
   "metadata": {},
   "source": [
    "## Training, Validation, and Testing set"
   ]
  },
  {
   "cell_type": "code",
   "execution_count": null,
   "metadata": {},
   "outputs": [],
   "source": [
    "# get all files from the site\n",
    "files = utilities.all_files(awd_event, site)\n",
    "np.random.shuffle(files)\n",
    "\n",
    "# split files into training, validation, and test files using the ration of 70%-15%-15%\n",
    "training_files = files[0:int(0.7*len(files))]\n",
    "validation_files = files[int(0.7*len(files)):int(0.85*len(files))]\n",
    "test_files = files[int(0.85*len(files)):]\n",
    "\n",
    "# create dictionary to save \n",
    "sets_name = 'sets.pickle'\n",
    "sets = {}\n",
    "sets['training']=training_files\n",
    "sets['validation']=validation_files\n",
    "sets['testing']=test_files\n",
    "\n",
    "# save object\n",
    "pickle.dump(sets, open(os.path.join(parameters.hyp5_location,sets_name), 'wb'))\n",
    "\n",
    "# print(len(files), len(training_files), len(validation_files), len(test_files))"
   ]
  },
  {
   "cell_type": "markdown",
   "metadata": {},
   "source": [
    "## Database"
   ]
  },
  {
   "cell_type": "markdown",
   "metadata": {},
   "source": [
    "### Creating database of whistlers and noise"
   ]
  },
  {
   "cell_type": "code",
   "execution_count": null,
   "metadata": {},
   "outputs": [],
   "source": [
    "# load training, validation, and testing sets\n",
    "sets = pickle.load(open(os.path.join(parameters.hyp5_location,sets_name), 'rb'))\n",
    "\n",
    "# training sets \n",
    "database_name='training_cuts.h5'\n",
    "spectrogram_cuts_db_creation.spectrogram_cuts_db(awd_event, site, sets['training'], database_name, verbose=True)\n",
    "\n",
    "# training sets \n",
    "database_name='validation_cuts.h5'\n",
    "spectrogram_cuts_db_creation.spectrogram_cuts_db(awd_event, site, sets['validation'], database_name, verbose=True)\n",
    "\n",
    "# training sets \n",
    "database_name='testing_cuts.h5'\n",
    "spectrogram_cuts_db_creation.spectrogram_cuts_db(awd_event, site, sets['testing'], database_name, verbose=True)"
   ]
  },
  {
   "cell_type": "markdown",
   "metadata": {},
   "source": [
    "### Loading database"
   ]
  },
  {
   "cell_type": "code",
   "execution_count": null,
   "metadata": {},
   "outputs": [],
   "source": [
    "# data, probs, events, f_cut_length, t_cut_length = spectrogram_cuts_db_creation.load_spectrogram_cuts_db(awd_event, site, database_name='spectrogram_cuts.h5', verbose=True)"
   ]
  }
 ],
 "metadata": {
  "kernelspec": {
   "display_name": "Python 3",
   "language": "python",
   "name": "python3"
  },
  "language_info": {
   "codemirror_mode": {
    "name": "ipython",
    "version": 3
   },
   "file_extension": ".py",
   "mimetype": "text/x-python",
   "name": "python",
   "nbconvert_exporter": "python",
   "pygments_lexer": "ipython3",
   "version": "3.6.8"
  }
 },
 "nbformat": 4,
 "nbformat_minor": 2
}

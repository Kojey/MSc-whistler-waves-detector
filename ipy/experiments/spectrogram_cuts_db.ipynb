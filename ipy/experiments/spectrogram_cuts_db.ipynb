{
 "cells": [
  {
   "cell_type": "markdown",
   "metadata": {},
   "source": [
    "# Create testing, validation, and testing sets for classifier"
   ]
  },
  {
   "cell_type": "code",
   "execution_count": 2,
   "metadata": {},
   "outputs": [],
   "source": [
    "import sys\n",
    "import os\n",
    "import time\n",
    "\n",
    "sys.path.insert(0,'../../')\n",
    "sys.path.insert(0,'../../py')\n",
    "\n",
    "import parameters\n",
    "import utilities\n",
    "import spectrogram_utilities\n",
    "import output_utilities\n",
    "import spectrogram_output_visualiser\n",
    "import spectrogram_cuts_db_creation\n",
    "\n",
    "import numpy as np\n",
    "import pickle"
   ]
  },
  {
   "cell_type": "code",
   "execution_count": 3,
   "metadata": {},
   "outputs": [],
   "source": [
    "# matplotlib.get_backend()\n",
    "%matplotlib inline\n",
    "\n",
    "awd_event = 1\n",
    "site = parameters.sites[0]"
   ]
  },
  {
   "cell_type": "markdown",
   "metadata": {},
   "source": [
    "## Training, Validation, and Testing set"
   ]
  },
  {
   "cell_type": "code",
   "execution_count": 8,
   "metadata": {},
   "outputs": [],
   "source": [
    "# get all files from the site\n",
    "files = utilities.all_files(awd_event, site)\n",
    "np.random.shuffle(files)\n",
    "\n",
    "# split files into training, validation, and test files using the ration of 70%-15%-15%\n",
    "training_files = files[0:int(0.7*len(files))]\n",
    "validation_files = files[int(0.7*len(files)):int(0.85*len(files))]\n",
    "test_files = files[int(0.85*len(files)):]\n",
    "\n",
    "# create dictionary to save \n",
    "sets_name = 'sets.pickle'\n",
    "sets = {}\n",
    "sets['training']=training_files\n",
    "sets['validation']=validation_files\n",
    "sets['testing']=test_files\n",
    "\n",
    "# save object\n",
    "pickle.dump(sets, open(os.path.join(parameters.hyp5_location,sets_name), 'wb'))\n",
    "\n",
    "# print(len(files), len(training_files), len(validation_files), len(test_files))"
   ]
  },
  {
   "cell_type": "markdown",
   "metadata": {},
   "source": [
    "## Database"
   ]
  },
  {
   "cell_type": "markdown",
   "metadata": {},
   "source": [
    "### Creating database of whistlers and noise"
   ]
  },
  {
   "cell_type": "code",
   "execution_count": 10,
   "metadata": {},
   "outputs": [
    {
     "name": "stdout",
     "output_type": "stream",
     "text": [
      "\n",
      "Generating whistler and noise cuts database for awdEvent1/marion\n",
      "0%.........10%.........20%.........30%.........40%.........50%.........60%.........70%.........80%.........90%.........\n",
      "Runtime: 197.10 seconds\n",
      "\n",
      "Generating whistler and noise cuts database for awdEvent1/marion\n",
      "0%.........10%.........20%.........30%.........40%.........50%.........60%.........70%.........80%.........90%.........\n",
      "Runtime: 40.46 seconds\n",
      "\n",
      "Generating whistler and noise cuts database for awdEvent1/marion\n",
      "0%.........10%.........20%.........30%.........40%.........50%.........60%.........70%.........80%.........90%.........\n",
      "Runtime: 41.91 seconds\n"
     ]
    }
   ],
   "source": [
    "# load training, validation, and testing sets\n",
    "sets = pickle.load(open(os.path.join(parameters.hyp5_location,sets_name), 'rb'))\n",
    "\n",
    "# training sets \n",
    "database_name='training_cuts.h5'\n",
    "spectrogram_cuts_db_creation.spectrogram_cuts_db(awd_event, site, sets['training'], database_name, verbose=True)\n",
    "\n",
    "# training sets \n",
    "database_name='validation_cuts.h5'\n",
    "spectrogram_cuts_db_creation.spectrogram_cuts_db(awd_event, site, sets['validation'], database_name, verbose=True)\n",
    "\n",
    "# training sets \n",
    "database_name='testing_cuts.h5'\n",
    "spectrogram_cuts_db_creation.spectrogram_cuts_db(awd_event, site, sets['testing'], database_name, verbose=True)"
   ]
  },
  {
   "cell_type": "markdown",
   "metadata": {},
   "source": [
    "### Loading database"
   ]
  },
  {
   "cell_type": "code",
   "execution_count": 5,
   "metadata": {},
   "outputs": [],
   "source": [
    "# data, probs, events, f_cut_length, t_cut_length = spectrogram_cuts_db_creation.load_spectrogram_cuts_db(awd_event, site, database_name='spectrogram_cuts.h5', verbose=True)"
   ]
  },
  {
   "cell_type": "code",
   "execution_count": null,
   "metadata": {},
   "outputs": [],
   "source": []
  }
 ],
 "metadata": {
  "kernelspec": {
   "display_name": "Python 3",
   "language": "python",
   "name": "python3"
  },
  "language_info": {
   "codemirror_mode": {
    "name": "ipython",
    "version": 3
   },
   "file_extension": ".py",
   "mimetype": "text/x-python",
   "name": "python",
   "nbconvert_exporter": "python",
   "pygments_lexer": "ipython3",
   "version": "3.6.8"
  }
 },
 "nbformat": 4,
 "nbformat_minor": 2
}

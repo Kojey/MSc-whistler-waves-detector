{
 "cells": [
  {
   "cell_type": "markdown",
   "metadata": {},
   "source": [
    "# Chapter7\n",
    "## Model Performance and Validation"
   ]
  },
  {
   "cell_type": "code",
   "execution_count": 4,
   "metadata": {},
   "outputs": [],
   "source": [
    "import os, sys\n",
    "import numpy as np\n",
    "from math import floor, ceil\n",
    "from matplotlib import pyplot as plt\n",
    "from matplotlib.ticker import FormatStrFormatter\n",
    "from matplotlib.patches import Patch, Rectangle\n",
    "from matplotlib.lines import Line2D\n",
    "from tqdm import tqdm\n",
    "import h5py\n",
    "# import python library\n",
    "sys.path.append(os.path.join(os.getcwd().split(os.environ.get('USER'))[0],os.environ.get('USER'), 'wdml', 'py'))\n",
    "from sample import Sample\n",
    "from dataset import Dataset\n",
    "from database import Database\n",
    "from dataset_simulation import DatasetSimulation\n",
    "from yolo_detector import YOLODetector\n",
    "from yolo_detector_generator import YOLODetectorGenerator\n",
    "\n",
    "\n",
    "dataset_loc = os.path.join(os.getcwd().split(os.environ.get('USER'))[0],os.environ.get('USER'), 'wdml', 'data','datasets', 'awdEvents1')\n",
    "database_loc = os.path.join(os.getcwd().split(os.environ.get('USER'))[0],os.environ.get('USER'), 'wdml', 'data','databases', 'awdEvents1')\n",
    "result_loc = os.path.join(os.getcwd().split(os.environ.get('USER'))[0],os.environ.get('USER'), 'wdml', 'data','results', 'awdEvents1')\n",
    "site = 'marion'\n",
    "\n",
    "linewidth = 2\n",
    "font_title = 32\n",
    "font_legend = 20\n",
    "font_label = 24\n",
    "font_ticks = 18\n",
    "font = [font_title, font_legend, font_label, font_ticks, linewidth] # [None]*5"
   ]
  },
  {
   "cell_type": "markdown",
   "metadata": {},
   "source": [
    "### 7.3.2 Sliding Deep Convolutional Neural Network (SDCNN)"
   ]
  },
  {
   "cell_type": "code",
   "execution_count": 5,
   "metadata": {},
   "outputs": [
    {
     "name": "stdout",
     "output_type": "stream",
     "text": [
      "None None True\n"
     ]
    },
    {
     "name": "stderr",
     "output_type": "stream",
     "text": [
      "100%|██████████| 1471/1471 [00:00<00:00, 98140.86it/s]\n",
      "100%|██████████| 1471/1471 [00:00<00:00, 12271.24it/s]\n"
     ]
    },
    {
     "name": "stdout",
     "output_type": "stream",
     "text": [
      "[4683, 10, 435, 0]\n",
      "{'recall': 0.915, 'precision': 0.998, 'f1 score': 0.955, 'g measure': 0.956, 'false alarm': 0.002, 'misdetection': 0.085}\n",
      "zscore None True\n"
     ]
    },
    {
     "name": "stderr",
     "output_type": "stream",
     "text": [
      "100%|██████████| 1471/1471 [00:00<00:00, 98352.06it/s]\n",
      "100%|██████████| 1471/1471 [00:00<00:00, 12535.73it/s]\n"
     ]
    },
    {
     "name": "stdout",
     "output_type": "stream",
     "text": [
      "[4735, 4, 383, 0]\n",
      "{'recall': 0.925, 'precision': 0.999, 'f1 score': 0.961, 'g measure': 0.961, 'false alarm': 0.001, 'misdetection': 0.075}\n",
      "detrend constant True\n"
     ]
    },
    {
     "name": "stderr",
     "output_type": "stream",
     "text": [
      "100%|██████████| 1471/1471 [00:00<00:00, 101672.98it/s]\n",
      "100%|██████████| 1471/1471 [00:00<00:00, 12597.46it/s]\n"
     ]
    },
    {
     "name": "stdout",
     "output_type": "stream",
     "text": [
      "[4560, 7, 558, 0]\n",
      "{'recall': 0.891, 'precision': 0.998, 'f1 score': 0.942, 'g measure': 0.943, 'false alarm': 0.002, 'misdetection': 0.109}\n",
      "detrend linear True\n"
     ]
    },
    {
     "name": "stderr",
     "output_type": "stream",
     "text": [
      "100%|██████████| 1471/1471 [00:00<00:00, 102866.36it/s]\n",
      "100%|██████████| 1471/1471 [00:00<00:00, 8937.06it/s]\n"
     ]
    },
    {
     "name": "stdout",
     "output_type": "stream",
     "text": [
      "[4825, 6, 293, 0]\n",
      "{'recall': 0.943, 'precision': 0.999, 'f1 score': 0.97, 'g measure': 0.97, 'false alarm': 0.001, 'misdetection': 0.057}\n",
      "\n",
      "None None False\n"
     ]
    },
    {
     "name": "stderr",
     "output_type": "stream",
     "text": [
      "100%|██████████| 725/725 [00:00<00:00, 96160.09it/s]\n",
      "100%|██████████| 725/725 [00:00<00:00, 12443.10it/s]\n"
     ]
    },
    {
     "name": "stdout",
     "output_type": "stream",
     "text": [
      "[2167, 50, 411, 0]\n",
      "{'recall': 0.841, 'precision': 0.977, 'f1 score': 0.904, 'g measure': 0.906, 'false alarm': 0.023, 'misdetection': 0.159}\n",
      "zscore None False\n"
     ]
    },
    {
     "name": "stderr",
     "output_type": "stream",
     "text": [
      "100%|██████████| 725/725 [00:00<00:00, 96738.26it/s]\n",
      "100%|██████████| 725/725 [00:00<00:00, 12344.50it/s]\n"
     ]
    },
    {
     "name": "stdout",
     "output_type": "stream",
     "text": [
      "[2198, 43, 380, 0]\n",
      "{'recall': 0.853, 'precision': 0.981, 'f1 score': 0.912, 'g measure': 0.914, 'false alarm': 0.019, 'misdetection': 0.147}\n",
      "detrend constant False\n"
     ]
    },
    {
     "name": "stderr",
     "output_type": "stream",
     "text": [
      "100%|██████████| 725/725 [00:00<00:00, 101892.19it/s]\n",
      "100%|██████████| 725/725 [00:00<00:00, 12338.59it/s]\n"
     ]
    },
    {
     "name": "stdout",
     "output_type": "stream",
     "text": [
      "[2084, 27, 494, 0]\n",
      "{'recall': 0.808, 'precision': 0.987, 'f1 score': 0.889, 'g measure': 0.893, 'false alarm': 0.013, 'misdetection': 0.192}\n",
      "detrend linear False\n"
     ]
    },
    {
     "name": "stderr",
     "output_type": "stream",
     "text": [
      "100%|██████████| 725/725 [00:00<00:00, 90017.18it/s]\n",
      "100%|██████████| 725/725 [00:00<00:00, 12227.55it/s]"
     ]
    },
    {
     "name": "stdout",
     "output_type": "stream",
     "text": [
      "[2214, 47, 364, 0]\n",
      "{'recall': 0.859, 'precision': 0.979, 'f1 score': 0.915, 'g measure': 0.917, 'false alarm': 0.021, 'misdetection': 0.141}\n",
      "\n"
     ]
    },
    {
     "name": "stderr",
     "output_type": "stream",
     "text": [
      "\n"
     ]
    }
   ],
   "source": [
    "n = None\n",
    "model_name = 'real_transfer_learning'\n",
    "transforms,transforms_params = [None,'zscore','detrend','detrend'],[None,None,'constant','linear'] \n",
    "for train in [True, False]:\n",
    "    for t,t_params in zip(transforms,transforms_params):\n",
    "        t_model = model_name+'_'+str(t)+'_'+str(t_params)\n",
    "        print(t,t_params,train)\n",
    "        yolo_detector_gen = YOLODetectorGenerator(dataset_loc, database_loc, result_loc, site, t,t_params, t_model)\n",
    "        yolo_detector_gen.dataset_yolo_classification_gen(train=train, n=n, thresh=0.8, time_err=1, force=False)\n",
    "        data = yolo_detector_gen.dataset_yolo_classification_load(train=train, n=n, thresh=0.8,time_err=1)\n",
    "        confusion_matrix = data['confusion matrix']\n",
    "        print(confusion_matrix)\n",
    "        performance = yolo_detector_gen.performance(confusion_matrix)\n",
    "        print(performance)\n",
    "    print()"
   ]
  },
  {
   "cell_type": "code",
   "execution_count": 2,
   "metadata": {},
   "outputs": [
    {
     "name": "stdout",
     "output_type": "stream",
     "text": [
      "None None True\n"
     ]
    },
    {
     "name": "stderr",
     "output_type": "stream",
     "text": [
      "100%|██████████| 373/373 [00:16<00:00, 23.00it/s]\n",
      "100%|██████████| 373/373 [00:00<00:00, 9312.02it/s]\n"
     ]
    },
    {
     "name": "stdout",
     "output_type": "stream",
     "text": [
      "[390, 35, 928, 0]\n",
      "{'recall': 0.296, 'precision': 0.918, 'f1 score': 0.448, 'g measure': 0.521, 'false alarm': 0.082, 'misdetection': 0.704}\n",
      "\n",
      "zscore None True\n"
     ]
    },
    {
     "name": "stderr",
     "output_type": "stream",
     "text": [
      "100%|██████████| 373/373 [00:14<00:00, 25.39it/s]\n",
      "100%|██████████| 373/373 [00:00<00:00, 9155.62it/s]\n"
     ]
    },
    {
     "name": "stdout",
     "output_type": "stream",
     "text": [
      "[264, 13, 1054, 0]\n",
      "{'recall': 0.2, 'precision': 0.953, 'f1 score': 0.331, 'g measure': 0.437, 'false alarm': 0.047, 'misdetection': 0.8}\n",
      "\n",
      "detrend constant True\n"
     ]
    },
    {
     "name": "stderr",
     "output_type": "stream",
     "text": [
      "100%|██████████| 373/373 [00:16<00:00, 23.28it/s]\n",
      "100%|██████████| 373/373 [00:00<00:00, 9374.35it/s]\n"
     ]
    },
    {
     "name": "stdout",
     "output_type": "stream",
     "text": [
      "[309, 20, 1009, 0]\n",
      "{'recall': 0.234, 'precision': 0.939, 'f1 score': 0.375, 'g measure': 0.469, 'false alarm': 0.061, 'misdetection': 0.766}\n",
      "\n",
      "detrend linear True\n"
     ]
    },
    {
     "name": "stderr",
     "output_type": "stream",
     "text": [
      "100%|██████████| 373/373 [00:14<00:00, 25.34it/s]\n",
      "100%|██████████| 373/373 [00:00<00:00, 12298.46it/s]"
     ]
    },
    {
     "name": "stdout",
     "output_type": "stream",
     "text": [
      "[244, 11, 1074, 0]\n",
      "{'recall': 0.185, 'precision': 0.957, 'f1 score': 0.31, 'g measure': 0.421, 'false alarm': 0.043, 'misdetection': 0.815}\n",
      "\n"
     ]
    },
    {
     "name": "stderr",
     "output_type": "stream",
     "text": [
      "\n"
     ]
    }
   ],
   "source": [
    "site = 'sanae'\n",
    "n = None\n",
    "model_name = 'real_transfer_learning'\n",
    "transforms,transforms_params = [None,'zscore','detrend','detrend'],[None,None,'constant','linear'] \n",
    "for t,t_params in zip(transforms,transforms_params):\n",
    "    t_model = model_name+'_'+str(t)+'_'+str(t_params)\n",
    "    for train in [True]:\n",
    "        print(t,t_params,train)\n",
    "        yolo_detector_gen = YOLODetectorGenerator(dataset_loc, database_loc, result_loc, site, t,t_params, t_model)\n",
    "        yolo_detector_gen.dataset_yolo_classification_gen(train=train, n=n, thresh=0.8, time_err=1, force=False)\n",
    "        data = yolo_detector_gen.dataset_yolo_classification_load(train=train, n=n, thresh=0.8,time_err=1)\n",
    "        confusion_matrix = data['confusion matrix']\n",
    "        print(confusion_matrix)\n",
    "        performance = yolo_detector_gen.performance(confusion_matrix)\n",
    "        print(performance)\n",
    "    print()"
   ]
  },
  {
   "cell_type": "code",
   "execution_count": null,
   "metadata": {},
   "outputs": [],
   "source": []
  }
 ],
 "metadata": {
  "kernelspec": {
   "display_name": "Python (base)",
   "language": "python",
   "name": "base"
  },
  "language_info": {
   "codemirror_mode": {
    "name": "ipython",
    "version": 3
   },
   "file_extension": ".py",
   "mimetype": "text/x-python",
   "name": "python",
   "nbconvert_exporter": "python",
   "pygments_lexer": "ipython3",
   "version": "3.7.3"
  }
 },
 "nbformat": 4,
 "nbformat_minor": 4
}

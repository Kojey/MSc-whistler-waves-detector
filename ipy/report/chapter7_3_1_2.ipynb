{
 "cells": [
  {
   "cell_type": "markdown",
   "metadata": {},
   "source": [
    "# Chapter7\n",
    "## Model Performance and Validation"
   ]
  },
  {
   "cell_type": "code",
   "execution_count": 2,
   "metadata": {},
   "outputs": [],
   "source": [
    "import os, sys\n",
    "import numpy as np\n",
    "from math import floor, ceil\n",
    "from matplotlib import pyplot as plt\n",
    "from matplotlib.ticker import FormatStrFormatter\n",
    "from matplotlib.patches import Patch, Rectangle\n",
    "from matplotlib.lines import Line2D\n",
    "from tqdm import tqdm\n",
    "import h5py\n",
    "# import python library\n",
    "sys.path.append(os.path.join(os.getcwd().split(os.environ.get('USER'))[0],os.environ.get('USER'), 'wdml', 'py'))\n",
    "from sample import Sample\n",
    "from dataset import Dataset\n",
    "from database import Database\n",
    "from dataset_simulation import DatasetSimulation\n",
    "from cfar_detector import CFARDetector\n",
    "from nn_detector import NeuralNetworkDetector\n",
    "from yolo_detector import YOLODetector\n",
    "from cfar_detector_generator import CFARDetectorGenerator\n",
    "\n",
    "\n",
    "dataset_loc = os.path.join(os.getcwd().split(os.environ.get('USER'))[0],os.environ.get('USER'), 'wdml', 'data','datasets', 'awdEvents1')\n",
    "database_loc = os.path.join(os.getcwd().split(os.environ.get('USER'))[0],os.environ.get('USER'), 'wdml', 'data','databases', 'awdEvents1')\n",
    "result_loc = os.path.join(os.getcwd().split(os.environ.get('USER'))[0],os.environ.get('USER'), 'wdml', 'data','results', 'awdEvents1')\n",
    "dataset_sim_loc = os.path.join(os.getcwd().split(os.environ.get('USER'))[0],os.environ.get('USER'), 'wdml', 'data','datasets', 'simulations', 'simple' ,'whistler')\n",
    "site = 'sanae'\n",
    "t_res, f_res = 0.006395061728395062, 0.15503875968992248\n",
    "database = Database(dataset_loc, database_loc, site)\n",
    "cfar_detector_gen = CFARDetectorGenerator(dataset_loc, database_loc, dataset_sim_loc, result_loc, site, t_res, f_res)\n",
    "\n",
    "linewidth = 2\n",
    "font_title = 32\n",
    "font_legend = 20\n",
    "font_label = 24\n",
    "font_ticks = 18\n",
    "font = [font_title, font_legend, font_label, font_ticks, linewidth] # [None]*5"
   ]
  },
  {
   "cell_type": "markdown",
   "metadata": {},
   "source": [
    "### 7.3.1 Cross-Correlation using Whistler Kernel (CCWK)"
   ]
  },
  {
   "cell_type": "markdown",
   "metadata": {},
   "source": [
    "## SANAE IV"
   ]
  },
  {
   "cell_type": "code",
   "execution_count": 3,
   "metadata": {},
   "outputs": [],
   "source": [
    "site = 'sanae'\n",
    "t_res, f_res = 0.012781818181818182, 0.07751937984496124\n",
    "database = Database(dataset_loc, database_loc, site)\n",
    "dataset_sim = DatasetSimulation(dataset_sim_loc, t_res, f_res)\n",
    "cfar_detector_gen = CFARDetectorGenerator(dataset_loc, database_loc, dataset_sim_loc, result_loc, site, t_res, f_res)\n",
    "\n",
    "linewidth = 2\n",
    "font_title = 32\n",
    "font_legend = 20\n",
    "font_label = 24\n",
    "font_ticks = 18\n",
    "font = [font_title, font_legend, font_label, font_ticks, linewidth] # [None]*5\n",
    "\n",
    "files = database.get_train()\n",
    "file = np.random.choice(files)"
   ]
  },
  {
   "cell_type": "code",
   "execution_count": 4,
   "metadata": {},
   "outputs": [
    {
     "name": "stderr",
     "output_type": "stream",
     "text": [
      "100%|██████████| 373/373 [00:56<00:00,  6.57it/s]\n"
     ]
    },
    {
     "name": "stdout",
     "output_type": "stream",
     "text": [
      "[1121, 1314, 197, 0]\n",
      "{'recall': 0.851, 'precision': 0.46, 'f1 score': 0.597, 'g measure': 0.626, 'false alarm': 0.54, 'misdetection': 0.149}\n"
     ]
    }
   ],
   "source": [
    "#CCSW\n",
    "t, t_params = 'zscore',None\n",
    "n = None\n",
    "f_min, f_max = 1.5, 9.5\n",
    "N,G,k,Ts,Tl,X_dB = 12,10,13,5,3,0.5\n",
    "train = True\n",
    "cfar_detector_gen = CFARDetectorGenerator(dataset_loc, database_loc, dataset_sim_loc, result_loc, site, t_res, f_res)\n",
    "cfar_detector_gen.dataset_cross_correlation_gen(transforms=t, transforms_params=t_params, f_min=f_min, f_max=f_max, \n",
    "                                               An=0.35, D0=35, magnitude=1, N=N, G=G, k=k, Ts=Ts, Tl=Tl, X_dB=X_dB,\n",
    "                                               train=train, n=n,force=False)\n",
    "data = cfar_detector_gen.dataset_cross_correlation_load(transforms=t, transforms_params=t_params, f_min=f_min, f_max=f_max, \n",
    "                                               An=0.35, D0=35, magnitude=1, N=N, G=G, k=k, Ts=Ts, Tl=Tl, X_dB=X_dB,\n",
    "                                               train=train, n=n)\n",
    "confusion_matrix = data['confusion matrix']\n",
    "performance = cfar_detector_gen.performance(confusion_matrix)\n",
    "print(confusion_matrix)\n",
    "print(performance)"
   ]
  },
  {
   "cell_type": "code",
   "execution_count": 2,
   "metadata": {},
   "outputs": [
    {
     "name": "stdout",
     "output_type": "stream",
     "text": [
      "(None, None)\n",
      "(None,None)_(1.5,9.5)_(0.35,80,1)_(10,5,13,5,7,0.3)_(True,None,1).corr already exists\n",
      "[118, 22, 1200, 0]\n",
      "{'recall': 0.09, 'precision': 0.843, 'f1 score': 0.162, 'g measure': 0.275, 'false alarm': 0.157, 'misdetection': 0.91}\n",
      "('zscore', None)\n"
     ]
    },
    {
     "name": "stderr",
     "output_type": "stream",
     "text": [
      "100%|██████████| 373/373 [01:06<00:00,  5.63it/s]"
     ]
    },
    {
     "name": "stdout",
     "output_type": "stream",
     "text": [
      "[27, 3, 1291, 0]\n",
      "{'recall': 0.02, 'precision': 0.9, 'f1 score': 0.04, 'g measure': 0.136, 'false alarm': 0.1, 'misdetection': 0.98}\n",
      "('detrend', 'constant')\n"
     ]
    },
    {
     "name": "stderr",
     "output_type": "stream",
     "text": [
      "\n",
      "100%|██████████| 373/373 [01:09<00:00,  5.35it/s]\n"
     ]
    },
    {
     "name": "stdout",
     "output_type": "stream",
     "text": [
      "[130, 11, 1188, 0]\n",
      "{'recall': 0.099, 'precision': 0.922, 'f1 score': 0.178, 'g measure': 0.302, 'false alarm': 0.078, 'misdetection': 0.901}\n",
      "('detrend', 'linear')\n"
     ]
    },
    {
     "name": "stderr",
     "output_type": "stream",
     "text": [
      "100%|██████████| 373/373 [01:11<00:00,  5.22it/s]\n"
     ]
    },
    {
     "name": "stdout",
     "output_type": "stream",
     "text": [
      "[60, 14, 1258, 0]\n",
      "{'recall': 0.046, 'precision': 0.811, 'f1 score': 0.086, 'g measure': 0.192, 'false alarm': 0.189, 'misdetection': 0.954}\n"
     ]
    }
   ],
   "source": [
    "n = None\n",
    "f_range = [[1.5,9.5],[1.5,9.5],[1.5,9.5],[1.5,9.5],]\n",
    "params = [[10,5,13,5,7,0.3],[12,10,13,5,3,0.5],[8,5,5,0,7,0.4],[12,10,13,8,5,0.4]]\n",
    "transforms = [None, 'zscore', 'detrend', 'detrend']\n",
    "transforms_params = [None, None, 'constant', 'linear']\n",
    "train = True\n",
    "\n",
    "for i in range(len(params)):\n",
    "    t,t_params = transforms[i], transforms_params[i]\n",
    "    f_min, f_max = f_range[i]\n",
    "    N,G,k,Ts,Tl,X_dB = params[i]\n",
    "    print((t,t_params))\n",
    "    cfar_detector_gen.dataset_cross_correlation_gen(transforms=None, transforms_params=None, f_min=f_min, f_max=f_max, \n",
    "                                                   An=0.35, D0=80, magnitude=1, N=N, G=G, k=k, Ts=Ts, Tl=Tl, X_dB=X_dB,\n",
    "                                                   train=train, n=n)\n",
    "    data = cfar_detector_gen.dataset_cross_correlation_load(transforms=None, transforms_params=None, f_min=f_min, f_max=f_max, \n",
    "                                                   An=0.35, D0=80, magnitude=1, N=N, G=G, k=k, Ts=Ts, Tl=Tl, X_dB=X_dB,\n",
    "                                                   train=train, n=n)\n",
    "    confusion_matrix = data['confusion matrix']\n",
    "    performance = cfar_detector_gen.performance(confusion_matrix)\n",
    "    print(confusion_matrix)\n",
    "    print(performance)"
   ]
  },
  {
   "cell_type": "code",
   "execution_count": null,
   "metadata": {},
   "outputs": [],
   "source": []
  }
 ],
 "metadata": {
  "kernelspec": {
   "display_name": "Python (base)",
   "language": "python",
   "name": "base"
  },
  "language_info": {
   "codemirror_mode": {
    "name": "ipython",
    "version": 3
   },
   "file_extension": ".py",
   "mimetype": "text/x-python",
   "name": "python",
   "nbconvert_exporter": "python",
   "pygments_lexer": "ipython3",
   "version": "3.7.3"
  }
 },
 "nbformat": 4,
 "nbformat_minor": 4
}

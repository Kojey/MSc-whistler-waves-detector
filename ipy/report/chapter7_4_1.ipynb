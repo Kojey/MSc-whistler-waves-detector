{
 "cells": [
  {
   "cell_type": "markdown",
   "metadata": {},
   "source": [
    "# Chapter7\n",
    "## Model Performance and Validation"
   ]
  },
  {
   "cell_type": "code",
   "execution_count": 4,
   "metadata": {},
   "outputs": [],
   "source": [
    "import os, sys, time\n",
    "import numpy as np\n",
    "from math import floor, ceil\n",
    "from matplotlib import pyplot as plt\n",
    "from matplotlib.ticker import FormatStrFormatter\n",
    "from matplotlib.patches import Patch, Rectangle\n",
    "from matplotlib.lines import Line2D\n",
    "from tqdm import tqdm\n",
    "import h5py\n",
    "# import python library\n",
    "sys.path.append(os.path.join(os.getcwd().split(os.environ.get('USER'))[0],os.environ.get('USER'), 'wdml', 'py'))\n",
    "from sample import Sample\n",
    "from dataset import Dataset\n",
    "from database import Database\n",
    "from dataset_simulation import DatasetSimulation\n",
    "from cfar_detector import CFARDetector\n",
    "from nn_detector import NeuralNetworkDetector\n",
    "from yolo_detector import YOLODetector\n",
    "\n",
    "dataset_loc = os.path.join(os.getcwd().split(os.environ.get('USER'))[0],os.environ.get('USER'), 'wdml', 'data','datasets', 'awdEvents1')\n",
    "database_loc = os.path.join(os.getcwd().split(os.environ.get('USER'))[0],os.environ.get('USER'), 'wdml', 'data','databases', 'awdEvents1')\n",
    "result_loc = os.path.join(os.getcwd().split(os.environ.get('USER'))[0],os.environ.get('USER'), 'wdml', 'data','results', 'awdEvents1')\n",
    "dataset_sim_loc = os.path.join(os.getcwd().split(os.environ.get('USER'))[0],os.environ.get('USER'), 'wdml', 'data','datasets', 'simulations', 'simple' ,'whistler')\n",
    "site = 'marion'\n",
    "database = Database(dataset_loc, database_loc, site)\n",
    "files = database.get_train()\n",
    "\n",
    "linewidth = 2\n",
    "font_title = 32\n",
    "font_legend = 20\n",
    "font_label = 24\n",
    "font_ticks = 18\n",
    "font = [font_title, font_legend, font_label, font_ticks, linewidth] # [None]*5"
   ]
  },
  {
   "cell_type": "markdown",
   "metadata": {},
   "source": [
    "### 7.4 Model Comparison"
   ]
  },
  {
   "cell_type": "code",
   "execution_count": 5,
   "metadata": {},
   "outputs": [
    {
     "name": "stderr",
     "output_type": "stream",
     "text": [
      "100%|██████████| 50/50 [00:45<00:00,  1.10it/s]\n",
      "100%|██████████| 50/50 [00:43<00:00,  1.15it/s]\n",
      "100%|██████████| 50/50 [00:40<00:00,  1.23it/s]\n",
      "100%|██████████| 50/50 [00:53<00:00,  1.07s/it]\n",
      "100%|██████████| 50/50 [00:43<00:00,  1.15it/s]"
     ]
    },
    {
     "name": "stdout",
     "output_type": "stream",
     "text": [
      "0.17878062890283392 0.016535292336003843\n"
     ]
    },
    {
     "name": "stderr",
     "output_type": "stream",
     "text": [
      "\n"
     ]
    }
   ],
   "source": [
    "# CCWK\n",
    "transforms, transforms_params = ['slice','zscore','scale'], [[1.5,9.5],[None],[0,1]]\n",
    "N,G,k,Ts,Tl,X_dB = 12,10,13,5,3,0.5\n",
    "pfa = (1/(1+((10**(X_dB/10))/(2*N))))**(2*N)\n",
    "kernel = CFARDetector(dataset_loc, site, files[0]).load_kernel('sim', [0.35,80,1])\n",
    "results = []\n",
    "for i in range(5):\n",
    "    start = time.time()\n",
    "    sample_duration = 0\n",
    "    files = database.get_train()[150*i:150*i+50]\n",
    "    for file in tqdm(files):\n",
    "        sample = CFARDetector(dataset_loc, site, file)\n",
    "        sample_duration += sample.get_time()[-1]\n",
    "        sample.detection_bounding_boxes(transforms,transforms_params, kernel, 'fusion_cfar', [N,G,k,Ts,Tl,pfa], threshold=0, time_err=1, duration=True)\n",
    "    end = time.time()\n",
    "    process_duration = end-start\n",
    "    results.append([sample_duration, process_duration])\n",
    "results = np.array(results)\n",
    "ratios = results[:,1]/results[:,0]\n",
    "print(ratios.mean(), ratios.std())"
   ]
  },
  {
   "cell_type": "code",
   "execution_count": 7,
   "metadata": {},
   "outputs": [
    {
     "name": "stderr",
     "output_type": "stream",
     "text": [
      "100%|██████████| 50/50 [01:32<00:00,  1.86s/it]\n",
      "100%|██████████| 50/50 [01:43<00:00,  2.07s/it]\n",
      "100%|██████████| 50/50 [01:29<00:00,  1.79s/it]\n",
      "100%|██████████| 50/50 [01:39<00:00,  1.98s/it]\n",
      "100%|██████████| 50/50 [01:32<00:00,  1.85s/it]"
     ]
    },
    {
     "name": "stdout",
     "output_type": "stream",
     "text": [
      "0.37629323515071206 0.006583782812161268\n"
     ]
    },
    {
     "name": "stderr",
     "output_type": "stream",
     "text": [
      "\n"
     ]
    }
   ],
   "source": [
    "#SDCNN\n",
    "sample = Sample(dataset_loc, site, file)\n",
    "transforms, transforms_params = 'zscore', None\n",
    "name = 'cnn-3conv-2dense-4dropout-100epochs'\n",
    "nn = NeuralNetworkDetector(dataset_loc, database_loc, site, transforms, transforms_params)\n",
    "model = nn.load_model(name=name)\n",
    "scaler = nn.load_scaler(name=name)\n",
    "results = []\n",
    "for i in range(5):\n",
    "    start = time.time()\n",
    "    sample_duration = 0\n",
    "    files = database.get_train()[150*i:150*i+50]\n",
    "    for file in tqdm(files):\n",
    "        sample = CFARDetector(dataset_loc, site, file)\n",
    "        sample_duration += sample.get_time()[-1]\n",
    "        nn.detection_bounding_boxes(file,thresh=0.8, concav=True, concav_window=0.02,concav_error=-0.0, time_error=1)\n",
    "    end = time.time()\n",
    "    process_duration = end-start\n",
    "    results.append([sample_duration, process_duration])\n",
    "results = np.array(results)\n",
    "ratios = results[:,1]/results[:,0]\n",
    "print(ratios.mean(), ratios.std())"
   ]
  },
  {
   "cell_type": "code",
   "execution_count": 5,
   "metadata": {},
   "outputs": [
    {
     "name": "stderr",
     "output_type": "stream",
     "text": [
      "100%|██████████| 50/50 [00:02<00:00, 17.21it/s]\n",
      "100%|██████████| 50/50 [00:02<00:00, 20.22it/s]\n",
      "100%|██████████| 50/50 [00:02<00:00, 22.25it/s]\n",
      "100%|██████████| 50/50 [00:02<00:00, 21.90it/s]\n",
      "100%|██████████| 50/50 [00:02<00:00, 21.11it/s]"
     ]
    },
    {
     "name": "stdout",
     "output_type": "stream",
     "text": [
      "0.009705474877542968 0.0010280131464050551\n"
     ]
    },
    {
     "name": "stderr",
     "output_type": "stream",
     "text": [
      "\n"
     ]
    }
   ],
   "source": [
    "# YOLO\n",
    "yolo = YOLODetector()\n",
    "model_data_type = \"real\"\n",
    "model_base = 'yolov3-tiny'\n",
    "transforms, transforms_params = 'detrend', 'linear'\n",
    "model_name = 'real_transfer_learning_detrend_linear'\n",
    "yolo.load_model(model_base, model_data_type, model_name)\n",
    "results = []\n",
    "for i in range(5):\n",
    "    start = time.time()\n",
    "    sample_duration = 0\n",
    "    files = database.get_train()[150*i:150*i+50]\n",
    "    for file in tqdm(files):\n",
    "        sample = CFARDetector(dataset_loc, site, file)\n",
    "        sample_duration += sample.get_time()[-1]\n",
    "        yolo.detection_bounding_boxes(dataset_loc, site, file, transforms, transforms_params,thresh=.8)\n",
    "    end = time.time()\n",
    "    process_duration = end-start\n",
    "    results.append([sample_duration, process_duration])\n",
    "results = np.array(results)\n",
    "ratios = results[:,1]/results[:,0]\n",
    "print(ratios.mean(), ratios.std())"
   ]
  }
 ],
 "metadata": {
  "kernelspec": {
   "display_name": "Python (base)",
   "language": "python",
   "name": "base"
  },
  "language_info": {
   "codemirror_mode": {
    "name": "ipython",
    "version": 3
   },
   "file_extension": ".py",
   "mimetype": "text/x-python",
   "name": "python",
   "nbconvert_exporter": "python",
   "pygments_lexer": "ipython3",
   "version": "3.7.3"
  }
 },
 "nbformat": 4,
 "nbformat_minor": 4
}

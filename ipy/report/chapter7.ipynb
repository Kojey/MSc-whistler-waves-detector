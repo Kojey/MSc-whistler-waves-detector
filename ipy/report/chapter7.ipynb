{
 "cells": [
  {
   "cell_type": "markdown",
   "metadata": {},
   "source": [
    "# Chapter7\n",
    "## Model Performance and Validation"
   ]
  },
  {
   "cell_type": "code",
   "execution_count": 1,
   "metadata": {},
   "outputs": [],
   "source": [
    "import os, sys\n",
    "import numpy as np\n",
    "from math import floor, ceil\n",
    "from matplotlib import pyplot as plt\n",
    "from matplotlib.ticker import FormatStrFormatter\n",
    "from matplotlib.patches import Patch\n",
    "from matplotlib.lines import Line2D\n",
    "from tqdm import tqdm\n",
    "import h5py\n",
    "# import python library\n",
    "sys.path.append(os.path.join(os.getcwd().split(os.environ.get('USER'))[0],os.environ.get('USER'), 'wdml', 'py'))\n",
    "from sample import Sample\n",
    "from dataset import Dataset\n",
    "from database import Database\n",
    "from dataset_simulation import DatasetSimulation\n",
    "from cfar_detector import CFARDetector\n",
    "from nn_detector import NeuralNetworkDetector\n",
    "from yolo_detector import YOLODetector\n",
    "from cfar_detector_generator import CFARDetectorGenerator\n",
    "\n",
    "\n",
    "dataset_loc = os.path.join(os.getcwd().split(os.environ.get('USER'))[0],os.environ.get('USER'), 'wdml', 'data','datasets', 'awdEvents1')\n",
    "database_loc = os.path.join(os.getcwd().split(os.environ.get('USER'))[0],os.environ.get('USER'), 'wdml', 'data','databases', 'awdEvents1')\n",
    "result_loc = os.path.join(os.getcwd().split(os.environ.get('USER'))[0],os.environ.get('USER'), 'wdml', 'data','results', 'awdEvents1')\n",
    "dataset_sim_loc = os.path.join(os.getcwd().split(os.environ.get('USER'))[0],os.environ.get('USER'), 'wdml', 'data','datasets', 'simulations', 'simple' ,'whistler')\n",
    "site = 'marion'\n",
    "t_res, f_res = 0.006395061728395062, 0.15503875968992248\n",
    "database = Database(dataset_loc, database_loc, site)\n",
    "cfar_detector_gen = CFARDetectorGenerator(dataset_loc, database_loc, dataset_sim_loc, result_loc, site, t_res, f_res)\n",
    "\n",
    "linewidth = 2\n",
    "font_title = 32\n",
    "font_legend = 20\n",
    "font_label = 24\n",
    "font_ticks = 18\n",
    "font = [font_title, font_legend, font_label, font_ticks, linewidth] # [None]*5"
   ]
  },
  {
   "cell_type": "code",
   "execution_count": 2,
   "metadata": {},
   "outputs": [],
   "source": [
    "files = database.get_train()"
   ]
  },
  {
   "cell_type": "markdown",
   "metadata": {},
   "source": [
    "### Cross-Correlation using Whistler Kernel (CCWK)"
   ]
  },
  {
   "cell_type": "code",
   "execution_count": null,
   "metadata": {},
   "outputs": [],
   "source": [
    "for N in [8,10,15]:\n",
    "    for G in [5,7,10]:\n",
    "        for X_dB in [0.4,0.5,0.6]:\n",
    "            cfar_detector_gen.dataset_cross_correlation_gen(transforms='zscore', transforms_params=None, f_min=1.5, f_max=9.5, \n",
    "                                           An=0.35, D0=80, magnitude=1, N=N, G=G, k=9, Ts=3, Tl=8, X_dB=X_db,\n",
    "                                           train=True, n=None)\n",
    "# data = cfar_detector_gen.dataset_cross_correlation_load(transforms='zscore', transforms_params=None, f_min=1.5, f_max=9.5, \n",
    "#                                            An=0.35, D0=80, magnitude=1, N=10, G=7, k=9, Ts=3, Tl=8, X_dB=0.5,\n",
    "#                                            train=True, n=None)\n",
    "# confusion_matrix = data['confusion matrix']\n",
    "# print(confusion_matrix)\n",
    "# performance = cfar_detector_gen.performance(confusion_matrix)\n",
    "# print(performance)"
   ]
  }
 ],
 "metadata": {
  "kernelspec": {
   "display_name": "Python (base)",
   "language": "python",
   "name": "base"
  },
  "language_info": {
   "codemirror_mode": {
    "name": "ipython",
    "version": 3
   },
   "file_extension": ".py",
   "mimetype": "text/x-python",
   "name": "python",
   "nbconvert_exporter": "python",
   "pygments_lexer": "ipython3",
   "version": "3.7.3"
  }
 },
 "nbformat": 4,
 "nbformat_minor": 2
}

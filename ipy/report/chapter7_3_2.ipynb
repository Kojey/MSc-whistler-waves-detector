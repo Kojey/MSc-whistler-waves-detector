{
 "cells": [
  {
   "cell_type": "markdown",
   "metadata": {},
   "source": [
    "# Chapter7\n",
    "## Model Performance and Validation"
   ]
  },
  {
   "cell_type": "code",
   "execution_count": 1,
   "metadata": {},
   "outputs": [],
   "source": [
    "import os, sys\n",
    "import numpy as np\n",
    "from math import floor, ceil\n",
    "from matplotlib import pyplot as plt\n",
    "from matplotlib.ticker import FormatStrFormatter\n",
    "from matplotlib.patches import Patch, Rectangle\n",
    "from matplotlib.lines import Line2D\n",
    "from tqdm import tqdm\n",
    "import h5py\n",
    "# import python library\n",
    "sys.path.append(os.path.join(os.getcwd().split(os.environ.get('USER'))[0],os.environ.get('USER'), 'wdml', 'py'))\n",
    "from sample import Sample\n",
    "from dataset import Dataset\n",
    "from database import Database\n",
    "from dataset_simulation import DatasetSimulation\n",
    "from cfar_detector import CFARDetector\n",
    "from nn_detector import NeuralNetworkDetector\n",
    "from yolo_detector import YOLODetector\n",
    "from cfar_detector_generator import CFARDetectorGenerator\n",
    "from nn_detector_generator import NNDetectorGenerator\n",
    "\n",
    "\n",
    "dataset_loc = os.path.join(os.getcwd().split(os.environ.get('USER'))[0],os.environ.get('USER'), 'wdml', 'data','datasets', 'awdEvents1')\n",
    "database_loc = os.path.join(os.getcwd().split(os.environ.get('USER'))[0],os.environ.get('USER'), 'wdml', 'data','databases', 'awdEvents1')\n",
    "result_loc = os.path.join(os.getcwd().split(os.environ.get('USER'))[0],os.environ.get('USER'), 'wdml', 'data','results', 'awdEvents1')\n",
    "dataset_sim_loc = os.path.join(os.getcwd().split(os.environ.get('USER'))[0],os.environ.get('USER'), 'wdml', 'data','datasets', 'simulations', 'simple' ,'whistler')\n",
    "site = 'marion'\n",
    "transforms,transforms_params = 'zscore',None \n",
    "model_name = 'cnn-3conv-2dense-4dropout-100epochs'\n",
    "\n",
    "linewidth = 2\n",
    "font_title = 32\n",
    "font_legend = 20\n",
    "font_label = 24\n",
    "font_ticks = 18\n",
    "font = [font_title, font_legend, font_label, font_ticks, linewidth] # [None]*5"
   ]
  },
  {
   "cell_type": "markdown",
   "metadata": {},
   "source": [
    "### 7.3.2 Sliding Deep Convolutional Neural Network (SDCNN)"
   ]
  },
  {
   "cell_type": "code",
   "execution_count": null,
   "metadata": {},
   "outputs": [
    {
     "name": "stdout",
     "output_type": "stream",
     "text": [
      "None None True\n"
     ]
    },
    {
     "name": "stderr",
     "output_type": "stream",
     "text": [
      " 55%|█████▍    | 806/1471 [26:28<31:54,  2.88s/it]  "
     ]
    }
   ],
   "source": [
    "n = None\n",
    "train = True\n",
    "model_name = 'cnn-3conv-2dense-4dropout-100epochs'\n",
    "transforms,transforms_params = [None,'zscore','detrend','detrend'],[None,None,'constant','linear'] \n",
    "for t,t_params in zip(transforms,transforms_params):\n",
    "    for train in [True, False]:\n",
    "        print(t,t_params,train)\n",
    "        nn_detector_gen = NNDetectorGenerator(dataset_loc, database_loc, result_loc, site, t,t_params, model_name)\n",
    "        nn_detector_gen.set_stride(0.1)\n",
    "        nn_detector_gen.dataset_nn_classification_gen(train=train, n=n, thresh=0.8, time_err=1, force=False)\n",
    "        data = nn_detector_gen.dataset_nn_classification_load(train=train, n=n, thresh=0.8,time_err=1)\n",
    "        confusion_matrix = data['confusion matrix']\n",
    "        print(confusion_matrix)\n",
    "        performance = nn_detector_gen.performance(confusion_matrix)\n",
    "        print(performance)\n",
    "    print()"
   ]
  },
  {
   "cell_type": "code",
   "execution_count": null,
   "metadata": {},
   "outputs": [],
   "source": []
  }
 ],
 "metadata": {
  "kernelspec": {
   "display_name": "Python (base)",
   "language": "python",
   "name": "base"
  },
  "language_info": {
   "codemirror_mode": {
    "name": "ipython",
    "version": 3
   },
   "file_extension": ".py",
   "mimetype": "text/x-python",
   "name": "python",
   "nbconvert_exporter": "python",
   "pygments_lexer": "ipython3",
   "version": "3.7.3"
  }
 },
 "nbformat": 4,
 "nbformat_minor": 4
}

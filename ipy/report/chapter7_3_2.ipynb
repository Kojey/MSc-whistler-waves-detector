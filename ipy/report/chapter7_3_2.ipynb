{
 "cells": [
  {
   "cell_type": "markdown",
   "metadata": {},
   "source": [
    "# Chapter7\n",
    "## Model Performance and Validation"
   ]
  },
  {
   "cell_type": "code",
   "execution_count": 1,
   "metadata": {},
   "outputs": [],
   "source": [
    "import os, sys\n",
    "import numpy as np\n",
    "from math import floor, ceil\n",
    "from matplotlib import pyplot as plt\n",
    "from matplotlib.ticker import FormatStrFormatter\n",
    "from matplotlib.patches import Patch, Rectangle\n",
    "from matplotlib.lines import Line2D\n",
    "from tqdm import tqdm\n",
    "import h5py\n",
    "# import python library\n",
    "sys.path.append(os.path.join(os.getcwd().split(os.environ.get('USER'))[0],os.environ.get('USER'), 'wdml', 'py'))\n",
    "from sample import Sample\n",
    "from dataset import Dataset\n",
    "from database import Database\n",
    "from dataset_simulation import DatasetSimulation\n",
    "from cfar_detector import CFARDetector\n",
    "from nn_detector import NeuralNetworkDetector\n",
    "from yolo_detector import YOLODetector\n",
    "from cfar_detector_generator import CFARDetectorGenerator\n",
    "from nn_detector_generator import NNDetectorGenerator\n",
    "\n",
    "\n",
    "dataset_loc = os.path.join(os.getcwd().split(os.environ.get('USER'))[0],os.environ.get('USER'), 'wdml', 'data','datasets', 'awdEvents1')\n",
    "database_loc = os.path.join(os.getcwd().split(os.environ.get('USER'))[0],os.environ.get('USER'), 'wdml', 'data','databases', 'awdEvents1')\n",
    "result_loc = os.path.join(os.getcwd().split(os.environ.get('USER'))[0],os.environ.get('USER'), 'wdml', 'data','results', 'awdEvents1')\n",
    "dataset_sim_loc = os.path.join(os.getcwd().split(os.environ.get('USER'))[0],os.environ.get('USER'), 'wdml', 'data','datasets', 'simulations', 'simple' ,'whistler')\n",
    "site = 'marion'\n",
    "transforms,transforms_params = 'zscore',None \n",
    "model_name = 'cnn-3conv-2dense-4dropout-100epochs'\n",
    "\n",
    "linewidth = 2\n",
    "font_title = 32\n",
    "font_legend = 20\n",
    "font_label = 24\n",
    "font_ticks = 18\n",
    "font = [font_title, font_legend, font_label, font_ticks, linewidth] # [None]*5"
   ]
  },
  {
   "cell_type": "markdown",
   "metadata": {},
   "source": [
    "### 7.3.2 Sliding Deep Convolutional Neural Network (SDCNN)"
   ]
  },
  {
   "cell_type": "code",
   "execution_count": 2,
   "metadata": {},
   "outputs": [
    {
     "name": "stdout",
     "output_type": "stream",
     "text": [
      "None None True\n"
     ]
    },
    {
     "name": "stderr",
     "output_type": "stream",
     "text": [
      "100%|██████████| 1471/1471 [00:00<00:00, 7664.85it/s]\n",
      "100%|██████████| 1471/1471 [00:01<00:00, 1419.23it/s]\n"
     ]
    },
    {
     "name": "stdout",
     "output_type": "stream",
     "text": [
      "[4665, 192, 453, 0]\n",
      "{'recall': 0.911, 'precision': 0.96, 'f1 score': 0.935, 'g measure': 0.936, 'false alarm': 0.04, 'misdetection': 0.089}\n",
      "None None False\n"
     ]
    },
    {
     "name": "stderr",
     "output_type": "stream",
     "text": [
      "100%|██████████| 725/725 [00:00<00:00, 6777.26it/s]\n",
      "100%|██████████| 725/725 [00:00<00:00, 1016.26it/s]\n"
     ]
    },
    {
     "name": "stdout",
     "output_type": "stream",
     "text": [
      "[2315, 86, 263, 0]\n",
      "{'recall': 0.898, 'precision': 0.964, 'f1 score': 0.93, 'g measure': 0.93, 'false alarm': 0.036, 'misdetection': 0.102}\n",
      "\n",
      "zscore None True\n"
     ]
    },
    {
     "name": "stderr",
     "output_type": "stream",
     "text": [
      "100%|██████████| 1471/1471 [00:00<00:00, 9930.90it/s]\n",
      "100%|██████████| 1471/1471 [00:00<00:00, 2580.06it/s]\n"
     ]
    },
    {
     "name": "stdout",
     "output_type": "stream",
     "text": [
      "[4645, 172, 473, 0]\n",
      "{'recall': 0.908, 'precision': 0.964, 'f1 score': 0.935, 'g measure': 0.936, 'false alarm': 0.036, 'misdetection': 0.092}\n",
      "zscore None False\n"
     ]
    },
    {
     "name": "stderr",
     "output_type": "stream",
     "text": [
      "100%|██████████| 725/725 [00:00<00:00, 6909.14it/s]\n",
      "100%|██████████| 725/725 [00:00<00:00, 835.22it/s]\n"
     ]
    },
    {
     "name": "stdout",
     "output_type": "stream",
     "text": [
      "[2338, 62, 240, 0]\n",
      "{'recall': 0.907, 'precision': 0.974, 'f1 score': 0.939, 'g measure': 0.94, 'false alarm': 0.026, 'misdetection': 0.093}\n",
      "\n",
      "detrend constant True\n"
     ]
    },
    {
     "name": "stderr",
     "output_type": "stream",
     "text": [
      "100%|██████████| 1471/1471 [00:00<00:00, 8997.42it/s]\n",
      "100%|██████████| 1471/1471 [00:00<00:00, 2063.91it/s]\n"
     ]
    },
    {
     "name": "stdout",
     "output_type": "stream",
     "text": [
      "[4594, 143, 524, 0]\n",
      "{'recall': 0.898, 'precision': 0.97, 'f1 score': 0.932, 'g measure': 0.933, 'false alarm': 0.03, 'misdetection': 0.102}\n",
      "detrend constant False\n"
     ]
    },
    {
     "name": "stderr",
     "output_type": "stream",
     "text": [
      "100%|██████████| 725/725 [00:00<00:00, 8924.99it/s]\n",
      "100%|██████████| 725/725 [00:00<00:00, 804.98it/s]\n"
     ]
    },
    {
     "name": "stdout",
     "output_type": "stream",
     "text": [
      "[2289, 61, 289, 0]\n",
      "{'recall': 0.888, 'precision': 0.974, 'f1 score': 0.929, 'g measure': 0.93, 'false alarm': 0.026, 'misdetection': 0.112}\n",
      "\n",
      "detrend linear True\n"
     ]
    },
    {
     "name": "stderr",
     "output_type": "stream",
     "text": [
      "100%|██████████| 1471/1471 [00:00<00:00, 7151.24it/s]\n",
      "100%|██████████| 1471/1471 [00:00<00:00, 2061.50it/s]\n"
     ]
    },
    {
     "name": "stdout",
     "output_type": "stream",
     "text": [
      "[4561, 119, 557, 0]\n",
      "{'recall': 0.891, 'precision': 0.975, 'f1 score': 0.931, 'g measure': 0.932, 'false alarm': 0.025, 'misdetection': 0.109}\n",
      "detrend linear False\n"
     ]
    },
    {
     "name": "stderr",
     "output_type": "stream",
     "text": [
      "100%|██████████| 725/725 [01:40<00:00,  7.19it/s]\n",
      "100%|██████████| 725/725 [00:00<00:00, 2885.74it/s]"
     ]
    },
    {
     "name": "stdout",
     "output_type": "stream",
     "text": [
      "[2287, 41, 291, 0]\n",
      "{'recall': 0.887, 'precision': 0.982, 'f1 score': 0.932, 'g measure': 0.934, 'false alarm': 0.018, 'misdetection': 0.113}\n",
      "\n"
     ]
    },
    {
     "name": "stderr",
     "output_type": "stream",
     "text": [
      "\n"
     ]
    }
   ],
   "source": [
    "n = None\n",
    "train = True\n",
    "model_name = 'cnn-3conv-2dense-4dropout-100epochs'\n",
    "transforms,transforms_params = [None,'zscore','detrend','detrend'],[None,None,'constant','linear'] \n",
    "for t,t_params in zip(transforms,transforms_params):\n",
    "    for train in [True, False]:\n",
    "        print(t,t_params,train)\n",
    "        nn_detector_gen = NNDetectorGenerator(dataset_loc, database_loc, result_loc, site, t,t_params, model_name)\n",
    "        nn_detector_gen.set_stride(0.1)\n",
    "        nn_detector_gen.dataset_nn_classification_gen(train=train, n=n, thresh=0.8, time_err=1, force=False)\n",
    "        data = nn_detector_gen.dataset_nn_classification_load(train=train, n=n, thresh=0.8,time_err=1)\n",
    "        confusion_matrix = data['confusion matrix']\n",
    "        print(confusion_matrix)\n",
    "        performance = nn_detector_gen.performance(confusion_matrix)\n",
    "        print(performance)\n",
    "    print()"
   ]
  },
  {
   "cell_type": "code",
   "execution_count": null,
   "metadata": {},
   "outputs": [],
   "source": []
  }
 ],
 "metadata": {
  "kernelspec": {
   "display_name": "Python (base)",
   "language": "python",
   "name": "base"
  },
  "language_info": {
   "codemirror_mode": {
    "name": "ipython",
    "version": 3
   },
   "file_extension": ".py",
   "mimetype": "text/x-python",
   "name": "python",
   "nbconvert_exporter": "python",
   "pygments_lexer": "ipython3",
   "version": "3.7.3"
  }
 },
 "nbformat": 4,
 "nbformat_minor": 4
}

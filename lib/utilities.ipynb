{
 "cells": [
  {
   "cell_type": "code",
   "execution_count": 1,
   "metadata": {},
   "outputs": [],
   "source": [
    "import sys\n",
    "import os\n",
    "\n",
    "sys.path.insert(0,'..')\n",
    "sys.path.insert(0,'../py')\n",
    "import parameters\n",
    "import numpy as np\n",
    "import h5py"
   ]
  },
  {
   "cell_type": "code",
   "execution_count": 16,
   "metadata": {},
   "outputs": [],
   "source": [
    "def all_files(awd_event, site):\n",
    "    '''Select all datafiles\n",
    "    params:\n",
    "        awd_event\n",
    "        site\n",
    "    returns:\n",
    "        datafiles\n",
    "    '''\n",
    "    data_location = os.path.join(parameters.database_location, 'awdEvents'+str(awd_event), site, site+'_data')\n",
    "    files = None\n",
    "    if os.path.exists(data_location):\n",
    "        files = [ file for file in os.listdir(data_location) if file.endswith('.vr2')] # only select .vr2 file\n",
    "    return files\n",
    "\n",
    "def random_file(awd_event, site):\n",
    "    '''Select a random datafile\n",
    "    params:\n",
    "        awd_event\n",
    "        site\n",
    "    returns:\n",
    "        file name\n",
    "    '''\n",
    "    files = all_files(awd_event, site)\n",
    "    return files[np.random.randint(len(files))]\n",
    "\n",
    "def create_h5py(h5py_name):\n",
    "    '''Create h5py database'''\n",
    "    try:\n",
    "        f = h5py.File(os.path.join(parameters.hyp5_location, h5py_name), 'w')\n",
    "    except OSError as e:\n",
    "        return False\n",
    "    f.close()\n",
    "    return True\n",
    "\n",
    "def delete_h5py(h5py_name):\n",
    "    if os.path.exists(os.path.join(parameters.hyp5_location, h5py_name)):\n",
    "        os.remove(os.path.join(parameters.hyp5_location, h5py_name))\n",
    "        return True\n",
    "    return False\n",
    "\n",
    "def get_h5py_path(h5py_name):\n",
    "    return os.path.join(parameters.hyp5_location, h5py_name)\n",
    "\n",
    "def init_h5py(h5py_name, force=False, verbose=False):\n",
    "    '''Create database if non existing otherwise if force delete the existing a create a new one'''\n",
    "    if not os.path.exists(get_h5py_path(h5py_name)):\n",
    "        create_h5py(h5py_name)\n",
    "    else:\n",
    "        if force:\n",
    "            delete_h5py(h5py_name)\n",
    "            create_h5py(h5py_name)\n",
    "        else:\n",
    "            if verbose:\n",
    "                print('Database %s alreday exists' % h5py_name)\n",
    "                return False\n",
    "    return True"
   ]
  }
 ],
 "metadata": {
  "kernelspec": {
   "display_name": "Python 3",
   "language": "python",
   "name": "python3"
  },
  "language_info": {
   "codemirror_mode": {
    "name": "ipython",
    "version": 3
   },
   "file_extension": ".py",
   "mimetype": "text/x-python",
   "name": "python",
   "nbconvert_exporter": "python",
   "pygments_lexer": "ipython3",
   "version": "3.6.8"
  }
 },
 "nbformat": 4,
 "nbformat_minor": 2
}

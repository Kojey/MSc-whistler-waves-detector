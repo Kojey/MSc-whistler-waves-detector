{
 "cells": [
  {
   "cell_type": "code",
   "execution_count": 1,
   "metadata": {},
   "outputs": [],
   "source": [
    "import os\n",
    "import sys"
   ]
  },
  {
   "cell_type": "code",
   "execution_count": 2,
   "metadata": {},
   "outputs": [],
   "source": [
    "# database full path\n",
    "database_location = os.path.join(os.getcwd().split(os.environ.get('USER'))[0],os.environ.get('USER'), 'wdml', 'data')\n",
    "hyp5_location = os.path.join(database_location, 'h5py')\n",
    "\n",
    "# data variables\n",
    "awd_events = 2\n",
    "sites = ['marion', 'sanae']\n",
    "\n",
    "# psectrogram default parameters\n",
    "nperseg = 256\n",
    "noverlap=64\n",
    "nfft=512\n",
    "detrend=False # ‘linear’, ‘constant’\n",
    "scaling='spectrum'\n",
    "mode='psd' # [‘psd’, ‘complex’, ‘magnitude’, ‘angle’, ‘phase’]\n",
    "\n",
    "# whistler cut constants\n",
    "time_lower_boundary = 0.3 # second\n",
    "time_upper_boundary = 0.7\n",
    "freq_upper_boundary = 10000 # Hz\n",
    "freq_lower_boundary = 1500"
   ]
  }
 ],
 "metadata": {
  "kernelspec": {
   "display_name": "Python 3",
   "language": "python",
   "name": "python3"
  },
  "language_info": {
   "codemirror_mode": {
    "name": "ipython",
    "version": 3
   },
   "file_extension": ".py",
   "mimetype": "text/x-python",
   "name": "python",
   "nbconvert_exporter": "python",
   "pygments_lexer": "ipython3",
   "version": "3.6.8"
  }
 },
 "nbformat": 4,
 "nbformat_minor": 2
}
